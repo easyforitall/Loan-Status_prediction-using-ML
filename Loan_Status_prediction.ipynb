{
  "cells": [
    {
      "cell_type": "markdown",
      "metadata": {
        "id": "view-in-github",
        "colab_type": "text"
      },
      "source": [
        "<a href=\"https://colab.research.google.com/github/easyforitall/Loan-Status_prediction-using-ML/blob/main/Loan_Status_prediction.ipynb\" target=\"_parent\"><img src=\"https://colab.research.google.com/assets/colab-badge.svg\" alt=\"Open In Colab\"/></a>"
      ]
    },
    {
      "cell_type": "code",
      "execution_count": null,
      "metadata": {
        "id": "mLsm45zS1e6q"
      },
      "outputs": [],
      "source": [
        "import pandas as pd\n",
        "import numpy as np\n",
        "import matplotlib.pyplot as plt\n",
        "import seaborn as sns"
      ]
    },
    {
      "cell_type": "code",
      "execution_count": null,
      "metadata": {
        "id": "rkssRWxz1e6r"
      },
      "outputs": [],
      "source": [
        "df = pd.read_csv(\"C://Users//43720//Downloads//archive//Loan payments data.csv\")"
      ]
    },
    {
      "cell_type": "code",
      "execution_count": null,
      "metadata": {
        "id": "XQA7HCUy1e6s",
        "outputId": "c883c3fa-9f17-4d7a-b2fa-88bc529761dd"
      },
      "outputs": [
        {
          "data": {
            "text/html": [
              "<div>\n",
              "<style scoped>\n",
              "    .dataframe tbody tr th:only-of-type {\n",
              "        vertical-align: middle;\n",
              "    }\n",
              "\n",
              "    .dataframe tbody tr th {\n",
              "        vertical-align: top;\n",
              "    }\n",
              "\n",
              "    .dataframe thead th {\n",
              "        text-align: right;\n",
              "    }\n",
              "</style>\n",
              "<table border=\"1\" class=\"dataframe\">\n",
              "  <thead>\n",
              "    <tr style=\"text-align: right;\">\n",
              "      <th></th>\n",
              "      <th>Loan_ID</th>\n",
              "      <th>loan_status</th>\n",
              "      <th>Principal</th>\n",
              "      <th>terms</th>\n",
              "      <th>effective_date</th>\n",
              "      <th>due_date</th>\n",
              "      <th>paid_off_time</th>\n",
              "      <th>past_due_days</th>\n",
              "      <th>age</th>\n",
              "      <th>education</th>\n",
              "      <th>Gender</th>\n",
              "    </tr>\n",
              "  </thead>\n",
              "  <tbody>\n",
              "    <tr>\n",
              "      <th>0</th>\n",
              "      <td>xqd20166231</td>\n",
              "      <td>PAIDOFF</td>\n",
              "      <td>1000</td>\n",
              "      <td>30</td>\n",
              "      <td>9/8/2016</td>\n",
              "      <td>10/7/2016</td>\n",
              "      <td>9/14/2016 19:31</td>\n",
              "      <td>NaN</td>\n",
              "      <td>45</td>\n",
              "      <td>High School or Below</td>\n",
              "      <td>male</td>\n",
              "    </tr>\n",
              "    <tr>\n",
              "      <th>1</th>\n",
              "      <td>xqd20168902</td>\n",
              "      <td>PAIDOFF</td>\n",
              "      <td>1000</td>\n",
              "      <td>30</td>\n",
              "      <td>9/8/2016</td>\n",
              "      <td>10/7/2016</td>\n",
              "      <td>10/7/2016 9:00</td>\n",
              "      <td>NaN</td>\n",
              "      <td>50</td>\n",
              "      <td>Bechalor</td>\n",
              "      <td>female</td>\n",
              "    </tr>\n",
              "    <tr>\n",
              "      <th>2</th>\n",
              "      <td>xqd20160003</td>\n",
              "      <td>PAIDOFF</td>\n",
              "      <td>1000</td>\n",
              "      <td>30</td>\n",
              "      <td>9/8/2016</td>\n",
              "      <td>10/7/2016</td>\n",
              "      <td>9/25/2016 16:58</td>\n",
              "      <td>NaN</td>\n",
              "      <td>33</td>\n",
              "      <td>Bechalor</td>\n",
              "      <td>female</td>\n",
              "    </tr>\n",
              "    <tr>\n",
              "      <th>3</th>\n",
              "      <td>xqd20160004</td>\n",
              "      <td>PAIDOFF</td>\n",
              "      <td>1000</td>\n",
              "      <td>15</td>\n",
              "      <td>9/8/2016</td>\n",
              "      <td>9/22/2016</td>\n",
              "      <td>9/22/2016 20:00</td>\n",
              "      <td>NaN</td>\n",
              "      <td>27</td>\n",
              "      <td>college</td>\n",
              "      <td>male</td>\n",
              "    </tr>\n",
              "    <tr>\n",
              "      <th>4</th>\n",
              "      <td>xqd20160005</td>\n",
              "      <td>PAIDOFF</td>\n",
              "      <td>1000</td>\n",
              "      <td>30</td>\n",
              "      <td>9/9/2016</td>\n",
              "      <td>10/8/2016</td>\n",
              "      <td>9/23/2016 21:36</td>\n",
              "      <td>NaN</td>\n",
              "      <td>28</td>\n",
              "      <td>college</td>\n",
              "      <td>female</td>\n",
              "    </tr>\n",
              "    <tr>\n",
              "      <th>...</th>\n",
              "      <td>...</td>\n",
              "      <td>...</td>\n",
              "      <td>...</td>\n",
              "      <td>...</td>\n",
              "      <td>...</td>\n",
              "      <td>...</td>\n",
              "      <td>...</td>\n",
              "      <td>...</td>\n",
              "      <td>...</td>\n",
              "      <td>...</td>\n",
              "      <td>...</td>\n",
              "    </tr>\n",
              "    <tr>\n",
              "      <th>495</th>\n",
              "      <td>xqd20160496</td>\n",
              "      <td>COLLECTION_PAIDOFF</td>\n",
              "      <td>1000</td>\n",
              "      <td>30</td>\n",
              "      <td>9/12/2016</td>\n",
              "      <td>10/11/2016</td>\n",
              "      <td>10/14/2016 19:08</td>\n",
              "      <td>3.0</td>\n",
              "      <td>28</td>\n",
              "      <td>High School or Below</td>\n",
              "      <td>male</td>\n",
              "    </tr>\n",
              "    <tr>\n",
              "      <th>496</th>\n",
              "      <td>xqd20160497</td>\n",
              "      <td>COLLECTION_PAIDOFF</td>\n",
              "      <td>1000</td>\n",
              "      <td>15</td>\n",
              "      <td>9/12/2016</td>\n",
              "      <td>9/26/2016</td>\n",
              "      <td>10/10/2016 20:02</td>\n",
              "      <td>14.0</td>\n",
              "      <td>26</td>\n",
              "      <td>High School or Below</td>\n",
              "      <td>male</td>\n",
              "    </tr>\n",
              "    <tr>\n",
              "      <th>497</th>\n",
              "      <td>xqd20160498</td>\n",
              "      <td>COLLECTION_PAIDOFF</td>\n",
              "      <td>800</td>\n",
              "      <td>15</td>\n",
              "      <td>9/12/2016</td>\n",
              "      <td>9/26/2016</td>\n",
              "      <td>9/29/2016 11:49</td>\n",
              "      <td>3.0</td>\n",
              "      <td>30</td>\n",
              "      <td>college</td>\n",
              "      <td>male</td>\n",
              "    </tr>\n",
              "    <tr>\n",
              "      <th>498</th>\n",
              "      <td>xqd20160499</td>\n",
              "      <td>COLLECTION_PAIDOFF</td>\n",
              "      <td>1000</td>\n",
              "      <td>30</td>\n",
              "      <td>9/12/2016</td>\n",
              "      <td>11/10/2016</td>\n",
              "      <td>11/11/2016 22:40</td>\n",
              "      <td>1.0</td>\n",
              "      <td>38</td>\n",
              "      <td>college</td>\n",
              "      <td>female</td>\n",
              "    </tr>\n",
              "    <tr>\n",
              "      <th>499</th>\n",
              "      <td>xqd20160500</td>\n",
              "      <td>COLLECTION_PAIDOFF</td>\n",
              "      <td>1000</td>\n",
              "      <td>30</td>\n",
              "      <td>9/12/2016</td>\n",
              "      <td>10/11/2016</td>\n",
              "      <td>10/19/2016 11:58</td>\n",
              "      <td>8.0</td>\n",
              "      <td>28</td>\n",
              "      <td>High School or Below</td>\n",
              "      <td>male</td>\n",
              "    </tr>\n",
              "  </tbody>\n",
              "</table>\n",
              "<p>500 rows × 11 columns</p>\n",
              "</div>"
            ],
            "text/plain": [
              "         Loan_ID         loan_status  Principal  terms effective_date  \\\n",
              "0    xqd20166231             PAIDOFF       1000     30       9/8/2016   \n",
              "1    xqd20168902             PAIDOFF       1000     30       9/8/2016   \n",
              "2    xqd20160003             PAIDOFF       1000     30       9/8/2016   \n",
              "3    xqd20160004             PAIDOFF       1000     15       9/8/2016   \n",
              "4    xqd20160005             PAIDOFF       1000     30       9/9/2016   \n",
              "..           ...                 ...        ...    ...            ...   \n",
              "495  xqd20160496  COLLECTION_PAIDOFF       1000     30      9/12/2016   \n",
              "496  xqd20160497  COLLECTION_PAIDOFF       1000     15      9/12/2016   \n",
              "497  xqd20160498  COLLECTION_PAIDOFF        800     15      9/12/2016   \n",
              "498  xqd20160499  COLLECTION_PAIDOFF       1000     30      9/12/2016   \n",
              "499  xqd20160500  COLLECTION_PAIDOFF       1000     30      9/12/2016   \n",
              "\n",
              "       due_date     paid_off_time  past_due_days  age             education  \\\n",
              "0     10/7/2016   9/14/2016 19:31            NaN   45  High School or Below   \n",
              "1     10/7/2016    10/7/2016 9:00            NaN   50              Bechalor   \n",
              "2     10/7/2016   9/25/2016 16:58            NaN   33              Bechalor   \n",
              "3     9/22/2016   9/22/2016 20:00            NaN   27               college   \n",
              "4     10/8/2016   9/23/2016 21:36            NaN   28               college   \n",
              "..          ...               ...            ...  ...                   ...   \n",
              "495  10/11/2016  10/14/2016 19:08            3.0   28  High School or Below   \n",
              "496   9/26/2016  10/10/2016 20:02           14.0   26  High School or Below   \n",
              "497   9/26/2016   9/29/2016 11:49            3.0   30               college   \n",
              "498  11/10/2016  11/11/2016 22:40            1.0   38               college   \n",
              "499  10/11/2016  10/19/2016 11:58            8.0   28  High School or Below   \n",
              "\n",
              "     Gender  \n",
              "0      male  \n",
              "1    female  \n",
              "2    female  \n",
              "3      male  \n",
              "4    female  \n",
              "..      ...  \n",
              "495    male  \n",
              "496    male  \n",
              "497    male  \n",
              "498  female  \n",
              "499    male  \n",
              "\n",
              "[500 rows x 11 columns]"
            ]
          },
          "execution_count": 163,
          "metadata": {},
          "output_type": "execute_result"
        }
      ],
      "source": [
        "df"
      ]
    },
    {
      "cell_type": "markdown",
      "metadata": {
        "id": "uloNjlGL1e6s"
      },
      "source": [
        "CLEANING"
      ]
    },
    {
      "cell_type": "code",
      "execution_count": null,
      "metadata": {
        "id": "ekkfj5lm1e6t",
        "outputId": "beedf683-4682-4bf2-b672-4740eb365e20"
      },
      "outputs": [
        {
          "data": {
            "text/plain": [
              "(500, 11)"
            ]
          },
          "execution_count": 164,
          "metadata": {},
          "output_type": "execute_result"
        }
      ],
      "source": [
        "df.shape"
      ]
    },
    {
      "cell_type": "code",
      "execution_count": null,
      "metadata": {
        "id": "r4mgKQoR1e6u",
        "outputId": "90ac3384-c39d-4e0c-d577-2d95587f6fb3"
      },
      "outputs": [
        {
          "data": {
            "text/html": [
              "<div>\n",
              "<style scoped>\n",
              "    .dataframe tbody tr th:only-of-type {\n",
              "        vertical-align: middle;\n",
              "    }\n",
              "\n",
              "    .dataframe tbody tr th {\n",
              "        vertical-align: top;\n",
              "    }\n",
              "\n",
              "    .dataframe thead th {\n",
              "        text-align: right;\n",
              "    }\n",
              "</style>\n",
              "<table border=\"1\" class=\"dataframe\">\n",
              "  <thead>\n",
              "    <tr style=\"text-align: right;\">\n",
              "      <th></th>\n",
              "      <th>Principal</th>\n",
              "      <th>terms</th>\n",
              "      <th>past_due_days</th>\n",
              "      <th>age</th>\n",
              "    </tr>\n",
              "  </thead>\n",
              "  <tbody>\n",
              "    <tr>\n",
              "      <th>count</th>\n",
              "      <td>500.000000</td>\n",
              "      <td>500.000000</td>\n",
              "      <td>200.00000</td>\n",
              "      <td>500.000000</td>\n",
              "    </tr>\n",
              "    <tr>\n",
              "      <th>mean</th>\n",
              "      <td>943.200000</td>\n",
              "      <td>22.824000</td>\n",
              "      <td>36.01000</td>\n",
              "      <td>31.116000</td>\n",
              "    </tr>\n",
              "    <tr>\n",
              "      <th>std</th>\n",
              "      <td>115.240274</td>\n",
              "      <td>8.000064</td>\n",
              "      <td>29.38088</td>\n",
              "      <td>6.084784</td>\n",
              "    </tr>\n",
              "    <tr>\n",
              "      <th>min</th>\n",
              "      <td>300.000000</td>\n",
              "      <td>7.000000</td>\n",
              "      <td>1.00000</td>\n",
              "      <td>18.000000</td>\n",
              "    </tr>\n",
              "    <tr>\n",
              "      <th>25%</th>\n",
              "      <td>1000.000000</td>\n",
              "      <td>15.000000</td>\n",
              "      <td>3.00000</td>\n",
              "      <td>27.000000</td>\n",
              "    </tr>\n",
              "    <tr>\n",
              "      <th>50%</th>\n",
              "      <td>1000.000000</td>\n",
              "      <td>30.000000</td>\n",
              "      <td>37.00000</td>\n",
              "      <td>30.000000</td>\n",
              "    </tr>\n",
              "    <tr>\n",
              "      <th>75%</th>\n",
              "      <td>1000.000000</td>\n",
              "      <td>30.000000</td>\n",
              "      <td>60.00000</td>\n",
              "      <td>35.000000</td>\n",
              "    </tr>\n",
              "    <tr>\n",
              "      <th>max</th>\n",
              "      <td>1000.000000</td>\n",
              "      <td>30.000000</td>\n",
              "      <td>76.00000</td>\n",
              "      <td>51.000000</td>\n",
              "    </tr>\n",
              "  </tbody>\n",
              "</table>\n",
              "</div>"
            ],
            "text/plain": [
              "         Principal       terms  past_due_days         age\n",
              "count   500.000000  500.000000      200.00000  500.000000\n",
              "mean    943.200000   22.824000       36.01000   31.116000\n",
              "std     115.240274    8.000064       29.38088    6.084784\n",
              "min     300.000000    7.000000        1.00000   18.000000\n",
              "25%    1000.000000   15.000000        3.00000   27.000000\n",
              "50%    1000.000000   30.000000       37.00000   30.000000\n",
              "75%    1000.000000   30.000000       60.00000   35.000000\n",
              "max    1000.000000   30.000000       76.00000   51.000000"
            ]
          },
          "execution_count": 165,
          "metadata": {},
          "output_type": "execute_result"
        }
      ],
      "source": [
        "df.describe()"
      ]
    },
    {
      "cell_type": "code",
      "execution_count": null,
      "metadata": {
        "id": "kx-6w1ZJ1e6u",
        "outputId": "efc18c74-fd53-4c86-cd41-728da89fdc59"
      },
      "outputs": [
        {
          "data": {
            "text/html": [
              "<div>\n",
              "<style scoped>\n",
              "    .dataframe tbody tr th:only-of-type {\n",
              "        vertical-align: middle;\n",
              "    }\n",
              "\n",
              "    .dataframe tbody tr th {\n",
              "        vertical-align: top;\n",
              "    }\n",
              "\n",
              "    .dataframe thead th {\n",
              "        text-align: right;\n",
              "    }\n",
              "</style>\n",
              "<table border=\"1\" class=\"dataframe\">\n",
              "  <thead>\n",
              "    <tr style=\"text-align: right;\">\n",
              "      <th></th>\n",
              "      <th>Loan_ID</th>\n",
              "      <th>loan_status</th>\n",
              "      <th>effective_date</th>\n",
              "      <th>due_date</th>\n",
              "      <th>paid_off_time</th>\n",
              "      <th>education</th>\n",
              "      <th>Gender</th>\n",
              "    </tr>\n",
              "  </thead>\n",
              "  <tbody>\n",
              "    <tr>\n",
              "      <th>count</th>\n",
              "      <td>500</td>\n",
              "      <td>500</td>\n",
              "      <td>500</td>\n",
              "      <td>500</td>\n",
              "      <td>400</td>\n",
              "      <td>500</td>\n",
              "      <td>500</td>\n",
              "    </tr>\n",
              "    <tr>\n",
              "      <th>unique</th>\n",
              "      <td>500</td>\n",
              "      <td>3</td>\n",
              "      <td>7</td>\n",
              "      <td>25</td>\n",
              "      <td>320</td>\n",
              "      <td>4</td>\n",
              "      <td>2</td>\n",
              "    </tr>\n",
              "    <tr>\n",
              "      <th>top</th>\n",
              "      <td>xqd20160291</td>\n",
              "      <td>PAIDOFF</td>\n",
              "      <td>9/11/2016</td>\n",
              "      <td>10/10/2016</td>\n",
              "      <td>9/25/2016 9:00</td>\n",
              "      <td>college</td>\n",
              "      <td>male</td>\n",
              "    </tr>\n",
              "    <tr>\n",
              "      <th>freq</th>\n",
              "      <td>1</td>\n",
              "      <td>300</td>\n",
              "      <td>231</td>\n",
              "      <td>123</td>\n",
              "      <td>9</td>\n",
              "      <td>220</td>\n",
              "      <td>423</td>\n",
              "    </tr>\n",
              "  </tbody>\n",
              "</table>\n",
              "</div>"
            ],
            "text/plain": [
              "            Loan_ID loan_status effective_date    due_date   paid_off_time  \\\n",
              "count           500         500            500         500             400   \n",
              "unique          500           3              7          25             320   \n",
              "top     xqd20160291     PAIDOFF      9/11/2016  10/10/2016  9/25/2016 9:00   \n",
              "freq              1         300            231         123               9   \n",
              "\n",
              "       education Gender  \n",
              "count        500    500  \n",
              "unique         4      2  \n",
              "top      college   male  \n",
              "freq         220    423  "
            ]
          },
          "execution_count": 166,
          "metadata": {},
          "output_type": "execute_result"
        }
      ],
      "source": [
        "df.describe(include=\"O\")"
      ]
    },
    {
      "cell_type": "code",
      "execution_count": null,
      "metadata": {
        "id": "5ZQKjv-t1e6u",
        "outputId": "137cab4f-18ad-497e-dbcd-ec7cc0c7758d"
      },
      "outputs": [
        {
          "data": {
            "text/plain": [
              "Loan_ID             0\n",
              "loan_status         0\n",
              "Principal           0\n",
              "terms               0\n",
              "effective_date      0\n",
              "due_date            0\n",
              "paid_off_time     100\n",
              "past_due_days     300\n",
              "age                 0\n",
              "education           0\n",
              "Gender              0\n",
              "dtype: int64"
            ]
          },
          "execution_count": 167,
          "metadata": {},
          "output_type": "execute_result"
        }
      ],
      "source": [
        "df.isnull().sum()"
      ]
    },
    {
      "cell_type": "code",
      "execution_count": null,
      "metadata": {
        "id": "cBoA2ImU1e6u",
        "outputId": "855345c4-3ecb-4dc5-b374-c3fbae70986f"
      },
      "outputs": [
        {
          "data": {
            "text/html": [
              "<div>\n",
              "<style scoped>\n",
              "    .dataframe tbody tr th:only-of-type {\n",
              "        vertical-align: middle;\n",
              "    }\n",
              "\n",
              "    .dataframe tbody tr th {\n",
              "        vertical-align: top;\n",
              "    }\n",
              "\n",
              "    .dataframe thead th {\n",
              "        text-align: right;\n",
              "    }\n",
              "</style>\n",
              "<table border=\"1\" class=\"dataframe\">\n",
              "  <thead>\n",
              "    <tr style=\"text-align: right;\">\n",
              "      <th></th>\n",
              "      <th>Loan_ID</th>\n",
              "      <th>loan_status</th>\n",
              "      <th>Principal</th>\n",
              "      <th>terms</th>\n",
              "      <th>effective_date</th>\n",
              "      <th>due_date</th>\n",
              "      <th>paid_off_time</th>\n",
              "      <th>past_due_days</th>\n",
              "      <th>age</th>\n",
              "      <th>education</th>\n",
              "      <th>Gender</th>\n",
              "    </tr>\n",
              "  </thead>\n",
              "  <tbody>\n",
              "    <tr>\n",
              "      <th>0</th>\n",
              "      <td>xqd20166231</td>\n",
              "      <td>PAIDOFF</td>\n",
              "      <td>1000</td>\n",
              "      <td>30</td>\n",
              "      <td>9/8/2016</td>\n",
              "      <td>10/7/2016</td>\n",
              "      <td>9/14/2016 19:31</td>\n",
              "      <td>NaN</td>\n",
              "      <td>45</td>\n",
              "      <td>High School or Below</td>\n",
              "      <td>male</td>\n",
              "    </tr>\n",
              "    <tr>\n",
              "      <th>1</th>\n",
              "      <td>xqd20168902</td>\n",
              "      <td>PAIDOFF</td>\n",
              "      <td>1000</td>\n",
              "      <td>30</td>\n",
              "      <td>9/8/2016</td>\n",
              "      <td>10/7/2016</td>\n",
              "      <td>10/7/2016 9:00</td>\n",
              "      <td>NaN</td>\n",
              "      <td>50</td>\n",
              "      <td>Bechalor</td>\n",
              "      <td>female</td>\n",
              "    </tr>\n",
              "    <tr>\n",
              "      <th>2</th>\n",
              "      <td>xqd20160003</td>\n",
              "      <td>PAIDOFF</td>\n",
              "      <td>1000</td>\n",
              "      <td>30</td>\n",
              "      <td>9/8/2016</td>\n",
              "      <td>10/7/2016</td>\n",
              "      <td>9/25/2016 16:58</td>\n",
              "      <td>NaN</td>\n",
              "      <td>33</td>\n",
              "      <td>Bechalor</td>\n",
              "      <td>female</td>\n",
              "    </tr>\n",
              "    <tr>\n",
              "      <th>3</th>\n",
              "      <td>xqd20160004</td>\n",
              "      <td>PAIDOFF</td>\n",
              "      <td>1000</td>\n",
              "      <td>15</td>\n",
              "      <td>9/8/2016</td>\n",
              "      <td>9/22/2016</td>\n",
              "      <td>9/22/2016 20:00</td>\n",
              "      <td>NaN</td>\n",
              "      <td>27</td>\n",
              "      <td>college</td>\n",
              "      <td>male</td>\n",
              "    </tr>\n",
              "    <tr>\n",
              "      <th>4</th>\n",
              "      <td>xqd20160005</td>\n",
              "      <td>PAIDOFF</td>\n",
              "      <td>1000</td>\n",
              "      <td>30</td>\n",
              "      <td>9/9/2016</td>\n",
              "      <td>10/8/2016</td>\n",
              "      <td>9/23/2016 21:36</td>\n",
              "      <td>NaN</td>\n",
              "      <td>28</td>\n",
              "      <td>college</td>\n",
              "      <td>female</td>\n",
              "    </tr>\n",
              "    <tr>\n",
              "      <th>...</th>\n",
              "      <td>...</td>\n",
              "      <td>...</td>\n",
              "      <td>...</td>\n",
              "      <td>...</td>\n",
              "      <td>...</td>\n",
              "      <td>...</td>\n",
              "      <td>...</td>\n",
              "      <td>...</td>\n",
              "      <td>...</td>\n",
              "      <td>...</td>\n",
              "      <td>...</td>\n",
              "    </tr>\n",
              "    <tr>\n",
              "      <th>295</th>\n",
              "      <td>xqd20160296</td>\n",
              "      <td>PAIDOFF</td>\n",
              "      <td>1000</td>\n",
              "      <td>30</td>\n",
              "      <td>9/14/2016</td>\n",
              "      <td>10/13/2016</td>\n",
              "      <td>10/13/2016 13:00</td>\n",
              "      <td>NaN</td>\n",
              "      <td>30</td>\n",
              "      <td>college</td>\n",
              "      <td>female</td>\n",
              "    </tr>\n",
              "    <tr>\n",
              "      <th>296</th>\n",
              "      <td>xqd20160297</td>\n",
              "      <td>PAIDOFF</td>\n",
              "      <td>800</td>\n",
              "      <td>15</td>\n",
              "      <td>9/14/2016</td>\n",
              "      <td>9/28/2016</td>\n",
              "      <td>9/21/2016 4:42</td>\n",
              "      <td>NaN</td>\n",
              "      <td>27</td>\n",
              "      <td>college</td>\n",
              "      <td>male</td>\n",
              "    </tr>\n",
              "    <tr>\n",
              "      <th>297</th>\n",
              "      <td>xqd20160298</td>\n",
              "      <td>PAIDOFF</td>\n",
              "      <td>1000</td>\n",
              "      <td>30</td>\n",
              "      <td>9/14/2016</td>\n",
              "      <td>10/13/2016</td>\n",
              "      <td>10/13/2016 9:00</td>\n",
              "      <td>NaN</td>\n",
              "      <td>29</td>\n",
              "      <td>High School or Below</td>\n",
              "      <td>male</td>\n",
              "    </tr>\n",
              "    <tr>\n",
              "      <th>298</th>\n",
              "      <td>xqd20160299</td>\n",
              "      <td>PAIDOFF</td>\n",
              "      <td>1000</td>\n",
              "      <td>30</td>\n",
              "      <td>9/14/2016</td>\n",
              "      <td>10/13/2016</td>\n",
              "      <td>10/13/2016 9:00</td>\n",
              "      <td>NaN</td>\n",
              "      <td>40</td>\n",
              "      <td>High School or Below</td>\n",
              "      <td>male</td>\n",
              "    </tr>\n",
              "    <tr>\n",
              "      <th>299</th>\n",
              "      <td>xqd20160300</td>\n",
              "      <td>PAIDOFF</td>\n",
              "      <td>1000</td>\n",
              "      <td>30</td>\n",
              "      <td>9/14/2016</td>\n",
              "      <td>10/13/2016</td>\n",
              "      <td>10/13/2016 11:00</td>\n",
              "      <td>NaN</td>\n",
              "      <td>28</td>\n",
              "      <td>college</td>\n",
              "      <td>male</td>\n",
              "    </tr>\n",
              "  </tbody>\n",
              "</table>\n",
              "<p>300 rows × 11 columns</p>\n",
              "</div>"
            ],
            "text/plain": [
              "         Loan_ID loan_status  Principal  terms effective_date    due_date  \\\n",
              "0    xqd20166231     PAIDOFF       1000     30       9/8/2016   10/7/2016   \n",
              "1    xqd20168902     PAIDOFF       1000     30       9/8/2016   10/7/2016   \n",
              "2    xqd20160003     PAIDOFF       1000     30       9/8/2016   10/7/2016   \n",
              "3    xqd20160004     PAIDOFF       1000     15       9/8/2016   9/22/2016   \n",
              "4    xqd20160005     PAIDOFF       1000     30       9/9/2016   10/8/2016   \n",
              "..           ...         ...        ...    ...            ...         ...   \n",
              "295  xqd20160296     PAIDOFF       1000     30      9/14/2016  10/13/2016   \n",
              "296  xqd20160297     PAIDOFF        800     15      9/14/2016   9/28/2016   \n",
              "297  xqd20160298     PAIDOFF       1000     30      9/14/2016  10/13/2016   \n",
              "298  xqd20160299     PAIDOFF       1000     30      9/14/2016  10/13/2016   \n",
              "299  xqd20160300     PAIDOFF       1000     30      9/14/2016  10/13/2016   \n",
              "\n",
              "        paid_off_time  past_due_days  age             education  Gender  \n",
              "0     9/14/2016 19:31            NaN   45  High School or Below    male  \n",
              "1      10/7/2016 9:00            NaN   50              Bechalor  female  \n",
              "2     9/25/2016 16:58            NaN   33              Bechalor  female  \n",
              "3     9/22/2016 20:00            NaN   27               college    male  \n",
              "4     9/23/2016 21:36            NaN   28               college  female  \n",
              "..                ...            ...  ...                   ...     ...  \n",
              "295  10/13/2016 13:00            NaN   30               college  female  \n",
              "296    9/21/2016 4:42            NaN   27               college    male  \n",
              "297   10/13/2016 9:00            NaN   29  High School or Below    male  \n",
              "298   10/13/2016 9:00            NaN   40  High School or Below    male  \n",
              "299  10/13/2016 11:00            NaN   28               college    male  \n",
              "\n",
              "[300 rows x 11 columns]"
            ]
          },
          "execution_count": 168,
          "metadata": {},
          "output_type": "execute_result"
        }
      ],
      "source": [
        "df[df[\"past_due_days\"].isnull()]"
      ]
    },
    {
      "cell_type": "code",
      "execution_count": null,
      "metadata": {
        "id": "j0dMp2Ek1e6v",
        "outputId": "df4cdbe7-3f8b-4e5b-ab74-06718da0f398"
      },
      "outputs": [
        {
          "data": {
            "text/plain": [
              "array(['PAIDOFF', 'COLLECTION', 'COLLECTION_PAIDOFF'], dtype=object)"
            ]
          },
          "execution_count": 169,
          "metadata": {},
          "output_type": "execute_result"
        }
      ],
      "source": [
        "df['loan_status'].unique()"
      ]
    },
    {
      "cell_type": "code",
      "execution_count": null,
      "metadata": {
        "id": "F2vx2SD81e6v",
        "outputId": "205dbab9-0459-4129-8978-de6eed4e5e37"
      },
      "outputs": [
        {
          "data": {
            "text/plain": [
              "<AxesSubplot:xlabel='past_due_days', ylabel='Count'>"
            ]
          },
          "execution_count": 170,
          "metadata": {},
          "output_type": "execute_result"
        },
        {
          "data": {
            "image/png": "[encoded data removed]",
            "text/plain": [
              "<Figure size 432x288 with 1 Axes>"
            ]
          },
          "metadata": {
            "needs_background": "light"
          },
          "output_type": "display_data"
        }
      ],
      "source": [
        "sns.histplot(df['past_due_days'].dropna())"
      ]
    },
    {
      "cell_type": "code",
      "execution_count": null,
      "metadata": {
        "id": "rgXht8Jo1e6v",
        "outputId": "e2919d9b-71b0-4fc3-8d03-ce0c94e50e49"
      },
      "outputs": [
        {
          "data": {
            "text/plain": [
              "36.01"
            ]
          },
          "execution_count": 171,
          "metadata": {},
          "output_type": "execute_result"
        }
      ],
      "source": [
        "df[\"past_due_days\"].dropna().mean()\n",
        "df[\"past_due_days\"].mean()"
      ]
    },
    {
      "cell_type": "code",
      "execution_count": null,
      "metadata": {
        "id": "8Zcry5Mk1e6w"
      },
      "outputs": [],
      "source": [
        "df['past_due_days'] = df['past_due_days'].fillna(df[\"past_due_days\"].mean())"
      ]
    },
    {
      "cell_type": "code",
      "execution_count": null,
      "metadata": {
        "id": "_DSSy-_G1e6w",
        "outputId": "7701dfb2-d246-4fd3-9c23-fe0f55a48f62"
      },
      "outputs": [
        {
          "data": {
            "text/html": [
              "<div>\n",
              "<style scoped>\n",
              "    .dataframe tbody tr th:only-of-type {\n",
              "        vertical-align: middle;\n",
              "    }\n",
              "\n",
              "    .dataframe tbody tr th {\n",
              "        vertical-align: top;\n",
              "    }\n",
              "\n",
              "    .dataframe thead th {\n",
              "        text-align: right;\n",
              "    }\n",
              "</style>\n",
              "<table border=\"1\" class=\"dataframe\">\n",
              "  <thead>\n",
              "    <tr style=\"text-align: right;\">\n",
              "      <th></th>\n",
              "      <th>Loan_ID</th>\n",
              "      <th>loan_status</th>\n",
              "      <th>Principal</th>\n",
              "      <th>terms</th>\n",
              "      <th>effective_date</th>\n",
              "      <th>due_date</th>\n",
              "      <th>paid_off_time</th>\n",
              "      <th>past_due_days</th>\n",
              "      <th>age</th>\n",
              "      <th>education</th>\n",
              "      <th>Gender</th>\n",
              "    </tr>\n",
              "  </thead>\n",
              "  <tbody>\n",
              "    <tr>\n",
              "      <th>300</th>\n",
              "      <td>xqd20160301</td>\n",
              "      <td>COLLECTION</td>\n",
              "      <td>1000</td>\n",
              "      <td>15</td>\n",
              "      <td>9/9/2016</td>\n",
              "      <td>9/23/2016</td>\n",
              "      <td>NaN</td>\n",
              "      <td>76.0</td>\n",
              "      <td>29</td>\n",
              "      <td>college</td>\n",
              "      <td>male</td>\n",
              "    </tr>\n",
              "    <tr>\n",
              "      <th>301</th>\n",
              "      <td>xqd20160302</td>\n",
              "      <td>COLLECTION</td>\n",
              "      <td>1000</td>\n",
              "      <td>30</td>\n",
              "      <td>9/9/2016</td>\n",
              "      <td>10/8/2016</td>\n",
              "      <td>NaN</td>\n",
              "      <td>61.0</td>\n",
              "      <td>37</td>\n",
              "      <td>High School or Below</td>\n",
              "      <td>male</td>\n",
              "    </tr>\n",
              "    <tr>\n",
              "      <th>302</th>\n",
              "      <td>xqd20160303</td>\n",
              "      <td>COLLECTION</td>\n",
              "      <td>1000</td>\n",
              "      <td>30</td>\n",
              "      <td>9/9/2016</td>\n",
              "      <td>10/8/2016</td>\n",
              "      <td>NaN</td>\n",
              "      <td>61.0</td>\n",
              "      <td>33</td>\n",
              "      <td>High School or Below</td>\n",
              "      <td>male</td>\n",
              "    </tr>\n",
              "    <tr>\n",
              "      <th>303</th>\n",
              "      <td>xqd20160304</td>\n",
              "      <td>COLLECTION</td>\n",
              "      <td>800</td>\n",
              "      <td>15</td>\n",
              "      <td>9/9/2016</td>\n",
              "      <td>9/23/2016</td>\n",
              "      <td>NaN</td>\n",
              "      <td>76.0</td>\n",
              "      <td>27</td>\n",
              "      <td>college</td>\n",
              "      <td>male</td>\n",
              "    </tr>\n",
              "    <tr>\n",
              "      <th>304</th>\n",
              "      <td>xqd20160305</td>\n",
              "      <td>COLLECTION</td>\n",
              "      <td>800</td>\n",
              "      <td>15</td>\n",
              "      <td>9/9/2016</td>\n",
              "      <td>9/23/2016</td>\n",
              "      <td>NaN</td>\n",
              "      <td>76.0</td>\n",
              "      <td>24</td>\n",
              "      <td>Bechalor</td>\n",
              "      <td>male</td>\n",
              "    </tr>\n",
              "    <tr>\n",
              "      <th>...</th>\n",
              "      <td>...</td>\n",
              "      <td>...</td>\n",
              "      <td>...</td>\n",
              "      <td>...</td>\n",
              "      <td>...</td>\n",
              "      <td>...</td>\n",
              "      <td>...</td>\n",
              "      <td>...</td>\n",
              "      <td>...</td>\n",
              "      <td>...</td>\n",
              "      <td>...</td>\n",
              "    </tr>\n",
              "    <tr>\n",
              "      <th>395</th>\n",
              "      <td>xqd20160396</td>\n",
              "      <td>COLLECTION</td>\n",
              "      <td>1000</td>\n",
              "      <td>30</td>\n",
              "      <td>9/11/2016</td>\n",
              "      <td>10/10/2016</td>\n",
              "      <td>NaN</td>\n",
              "      <td>59.0</td>\n",
              "      <td>25</td>\n",
              "      <td>High School or Below</td>\n",
              "      <td>male</td>\n",
              "    </tr>\n",
              "    <tr>\n",
              "      <th>396</th>\n",
              "      <td>xqd20160397</td>\n",
              "      <td>COLLECTION</td>\n",
              "      <td>1000</td>\n",
              "      <td>30</td>\n",
              "      <td>9/12/2016</td>\n",
              "      <td>10/11/2016</td>\n",
              "      <td>NaN</td>\n",
              "      <td>58.0</td>\n",
              "      <td>33</td>\n",
              "      <td>High School or Below</td>\n",
              "      <td>male</td>\n",
              "    </tr>\n",
              "    <tr>\n",
              "      <th>397</th>\n",
              "      <td>xqd20160398</td>\n",
              "      <td>COLLECTION</td>\n",
              "      <td>800</td>\n",
              "      <td>15</td>\n",
              "      <td>9/12/2016</td>\n",
              "      <td>9/26/2016</td>\n",
              "      <td>NaN</td>\n",
              "      <td>73.0</td>\n",
              "      <td>39</td>\n",
              "      <td>college</td>\n",
              "      <td>male</td>\n",
              "    </tr>\n",
              "    <tr>\n",
              "      <th>398</th>\n",
              "      <td>xqd20160399</td>\n",
              "      <td>COLLECTION</td>\n",
              "      <td>1000</td>\n",
              "      <td>30</td>\n",
              "      <td>9/12/2016</td>\n",
              "      <td>11/10/2016</td>\n",
              "      <td>NaN</td>\n",
              "      <td>28.0</td>\n",
              "      <td>28</td>\n",
              "      <td>college</td>\n",
              "      <td>male</td>\n",
              "    </tr>\n",
              "    <tr>\n",
              "      <th>399</th>\n",
              "      <td>xqd20160400</td>\n",
              "      <td>COLLECTION</td>\n",
              "      <td>1000</td>\n",
              "      <td>30</td>\n",
              "      <td>9/12/2016</td>\n",
              "      <td>10/11/2016</td>\n",
              "      <td>NaN</td>\n",
              "      <td>58.0</td>\n",
              "      <td>26</td>\n",
              "      <td>college</td>\n",
              "      <td>male</td>\n",
              "    </tr>\n",
              "  </tbody>\n",
              "</table>\n",
              "<p>100 rows × 11 columns</p>\n",
              "</div>"
            ],
            "text/plain": [
              "         Loan_ID loan_status  Principal  terms effective_date    due_date  \\\n",
              "300  xqd20160301  COLLECTION       1000     15       9/9/2016   9/23/2016   \n",
              "301  xqd20160302  COLLECTION       1000     30       9/9/2016   10/8/2016   \n",
              "302  xqd20160303  COLLECTION       1000     30       9/9/2016   10/8/2016   \n",
              "303  xqd20160304  COLLECTION        800     15       9/9/2016   9/23/2016   \n",
              "304  xqd20160305  COLLECTION        800     15       9/9/2016   9/23/2016   \n",
              "..           ...         ...        ...    ...            ...         ...   \n",
              "395  xqd20160396  COLLECTION       1000     30      9/11/2016  10/10/2016   \n",
              "396  xqd20160397  COLLECTION       1000     30      9/12/2016  10/11/2016   \n",
              "397  xqd20160398  COLLECTION        800     15      9/12/2016   9/26/2016   \n",
              "398  xqd20160399  COLLECTION       1000     30      9/12/2016  11/10/2016   \n",
              "399  xqd20160400  COLLECTION       1000     30      9/12/2016  10/11/2016   \n",
              "\n",
              "    paid_off_time  past_due_days  age             education Gender  \n",
              "300           NaN           76.0   29               college   male  \n",
              "301           NaN           61.0   37  High School or Below   male  \n",
              "302           NaN           61.0   33  High School or Below   male  \n",
              "303           NaN           76.0   27               college   male  \n",
              "304           NaN           76.0   24              Bechalor   male  \n",
              "..            ...            ...  ...                   ...    ...  \n",
              "395           NaN           59.0   25  High School or Below   male  \n",
              "396           NaN           58.0   33  High School or Below   male  \n",
              "397           NaN           73.0   39               college   male  \n",
              "398           NaN           28.0   28               college   male  \n",
              "399           NaN           58.0   26               college   male  \n",
              "\n",
              "[100 rows x 11 columns]"
            ]
          },
          "execution_count": 173,
          "metadata": {},
          "output_type": "execute_result"
        }
      ],
      "source": [
        "df[df[\"paid_off_time\"].isnull()]"
      ]
    },
    {
      "cell_type": "code",
      "execution_count": null,
      "metadata": {
        "id": "y20w_lhf1e6w"
      },
      "outputs": [],
      "source": [
        "df[\"paid_off_time\"] = df[\"paid_off_time\"].fillna(-1)"
      ]
    },
    {
      "cell_type": "code",
      "execution_count": null,
      "metadata": {
        "id": "K1ELXKlI1e6w",
        "outputId": "0bd8ce8a-9b1a-4a9c-ad64-e18397bed80a"
      },
      "outputs": [
        {
          "data": {
            "text/plain": [
              "0"
            ]
          },
          "execution_count": 175,
          "metadata": {},
          "output_type": "execute_result"
        }
      ],
      "source": [
        "df.duplicated().sum()"
      ]
    },
    {
      "cell_type": "code",
      "execution_count": null,
      "metadata": {
        "id": "gz2IEE9j1e6x",
        "outputId": "9c3dccb9-77a0-41dd-b917-459c9bccf747"
      },
      "outputs": [
        {
          "data": {
            "text/html": [
              "<div>\n",
              "<style scoped>\n",
              "    .dataframe tbody tr th:only-of-type {\n",
              "        vertical-align: middle;\n",
              "    }\n",
              "\n",
              "    .dataframe tbody tr th {\n",
              "        vertical-align: top;\n",
              "    }\n",
              "\n",
              "    .dataframe thead th {\n",
              "        text-align: right;\n",
              "    }\n",
              "</style>\n",
              "<table border=\"1\" class=\"dataframe\">\n",
              "  <thead>\n",
              "    <tr style=\"text-align: right;\">\n",
              "      <th></th>\n",
              "      <th>Loan_ID</th>\n",
              "      <th>loan_status</th>\n",
              "      <th>Principal</th>\n",
              "      <th>terms</th>\n",
              "      <th>effective_date</th>\n",
              "      <th>due_date</th>\n",
              "      <th>paid_off_time</th>\n",
              "      <th>past_due_days</th>\n",
              "      <th>age</th>\n",
              "      <th>education</th>\n",
              "      <th>Gender</th>\n",
              "    </tr>\n",
              "  </thead>\n",
              "  <tbody>\n",
              "    <tr>\n",
              "      <th>0</th>\n",
              "      <td>xqd20166231</td>\n",
              "      <td>PAIDOFF</td>\n",
              "      <td>1000</td>\n",
              "      <td>30</td>\n",
              "      <td>9/8/2016</td>\n",
              "      <td>10/7/2016</td>\n",
              "      <td>9/14/2016 19:31</td>\n",
              "      <td>36.01</td>\n",
              "      <td>45</td>\n",
              "      <td>High School or Below</td>\n",
              "      <td>male</td>\n",
              "    </tr>\n",
              "    <tr>\n",
              "      <th>1</th>\n",
              "      <td>xqd20168902</td>\n",
              "      <td>PAIDOFF</td>\n",
              "      <td>1000</td>\n",
              "      <td>30</td>\n",
              "      <td>9/8/2016</td>\n",
              "      <td>10/7/2016</td>\n",
              "      <td>10/7/2016 9:00</td>\n",
              "      <td>36.01</td>\n",
              "      <td>50</td>\n",
              "      <td>Bechalor</td>\n",
              "      <td>female</td>\n",
              "    </tr>\n",
              "    <tr>\n",
              "      <th>2</th>\n",
              "      <td>xqd20160003</td>\n",
              "      <td>PAIDOFF</td>\n",
              "      <td>1000</td>\n",
              "      <td>30</td>\n",
              "      <td>9/8/2016</td>\n",
              "      <td>10/7/2016</td>\n",
              "      <td>9/25/2016 16:58</td>\n",
              "      <td>36.01</td>\n",
              "      <td>33</td>\n",
              "      <td>Bechalor</td>\n",
              "      <td>female</td>\n",
              "    </tr>\n",
              "    <tr>\n",
              "      <th>3</th>\n",
              "      <td>xqd20160004</td>\n",
              "      <td>PAIDOFF</td>\n",
              "      <td>1000</td>\n",
              "      <td>15</td>\n",
              "      <td>9/8/2016</td>\n",
              "      <td>9/22/2016</td>\n",
              "      <td>9/22/2016 20:00</td>\n",
              "      <td>36.01</td>\n",
              "      <td>27</td>\n",
              "      <td>college</td>\n",
              "      <td>male</td>\n",
              "    </tr>\n",
              "    <tr>\n",
              "      <th>4</th>\n",
              "      <td>xqd20160005</td>\n",
              "      <td>PAIDOFF</td>\n",
              "      <td>1000</td>\n",
              "      <td>30</td>\n",
              "      <td>9/9/2016</td>\n",
              "      <td>10/8/2016</td>\n",
              "      <td>9/23/2016 21:36</td>\n",
              "      <td>36.01</td>\n",
              "      <td>28</td>\n",
              "      <td>college</td>\n",
              "      <td>female</td>\n",
              "    </tr>\n",
              "  </tbody>\n",
              "</table>\n",
              "</div>"
            ],
            "text/plain": [
              "       Loan_ID loan_status  Principal  terms effective_date   due_date  \\\n",
              "0  xqd20166231     PAIDOFF       1000     30       9/8/2016  10/7/2016   \n",
              "1  xqd20168902     PAIDOFF       1000     30       9/8/2016  10/7/2016   \n",
              "2  xqd20160003     PAIDOFF       1000     30       9/8/2016  10/7/2016   \n",
              "3  xqd20160004     PAIDOFF       1000     15       9/8/2016  9/22/2016   \n",
              "4  xqd20160005     PAIDOFF       1000     30       9/9/2016  10/8/2016   \n",
              "\n",
              "     paid_off_time  past_due_days  age             education  Gender  \n",
              "0  9/14/2016 19:31          36.01   45  High School or Below    male  \n",
              "1   10/7/2016 9:00          36.01   50              Bechalor  female  \n",
              "2  9/25/2016 16:58          36.01   33              Bechalor  female  \n",
              "3  9/22/2016 20:00          36.01   27               college    male  \n",
              "4  9/23/2016 21:36          36.01   28               college  female  "
            ]
          },
          "execution_count": 176,
          "metadata": {},
          "output_type": "execute_result"
        }
      ],
      "source": [
        "df.head()"
      ]
    },
    {
      "cell_type": "code",
      "execution_count": null,
      "metadata": {
        "id": "Vd6neBQE1e6x",
        "outputId": "9bcfea59-63f2-4571-b335-e3f926af1371"
      },
      "outputs": [
        {
          "data": {
            "text/plain": [
              "Loan_ID            object\n",
              "loan_status        object\n",
              "Principal           int64\n",
              "terms               int64\n",
              "effective_date     object\n",
              "due_date           object\n",
              "paid_off_time      object\n",
              "past_due_days     float64\n",
              "age                 int64\n",
              "education          object\n",
              "Gender             object\n",
              "dtype: object"
            ]
          },
          "execution_count": 177,
          "metadata": {},
          "output_type": "execute_result"
        }
      ],
      "source": [
        "df.dtypes"
      ]
    },
    {
      "cell_type": "code",
      "execution_count": null,
      "metadata": {
        "id": "IMV2k8Ln1e6x"
      },
      "outputs": [],
      "source": [
        "def changetodatetime(col):\n",
        "    df[col] = pd.to_datetime(df[col])"
      ]
    },
    {
      "cell_type": "code",
      "execution_count": null,
      "metadata": {
        "id": "uFEeSf9I1e6x"
      },
      "outputs": [],
      "source": [
        "for features in df[[\"effective_date\",\"due_date\",\"paid_off_time\"]]:\n",
        "    changetodatetime(features)"
      ]
    },
    {
      "cell_type": "code",
      "execution_count": null,
      "metadata": {
        "id": "7znwZ97S1e6x"
      },
      "outputs": [],
      "source": [
        "df[\"paid_off_time\"] = (df[\"paid_off_time\"]).dt.date"
      ]
    },
    {
      "cell_type": "code",
      "execution_count": null,
      "metadata": {
        "id": "8_5eq-RQ1e6y",
        "outputId": "5a2fa67b-45ae-4606-bf8b-4f519a718b1f"
      },
      "outputs": [
        {
          "data": {
            "text/plain": [
              "array([2016, 1969], dtype=int64)"
            ]
          },
          "execution_count": 180,
          "metadata": {},
          "output_type": "execute_result"
        }
      ],
      "source": [
        "df[\"effective_date\"].dt.year.unique()\n",
        "df[\"due_date\"].dt.year.unique()\n",
        "df[\"paid_off_time\"].dt.year.unique()"
      ]
    },
    {
      "cell_type": "code",
      "execution_count": null,
      "metadata": {
        "id": "zDy59iwr1e6y",
        "outputId": "b0d84723-b989-4eae-a32c-e4af13738a3e"
      },
      "outputs": [
        {
          "data": {
            "text/plain": [
              "1969-12-31 23:59:59.999999999    100\n",
              "2016-09-25 09:00:00.000000000      9\n",
              "2016-09-26 09:00:00.000000000      9\n",
              "2016-10-10 09:00:00.000000000      8\n",
              "2016-10-13 09:00:00.000000000      6\n",
              "                                ... \n",
              "2016-09-24 16:15:00.000000000      1\n",
              "2016-09-22 10:30:00.000000000      1\n",
              "2016-10-07 23:07:00.000000000      1\n",
              "2016-10-03 12:50:00.000000000      1\n",
              "2016-09-27 14:21:00.000000000      1\n",
              "Name: paid_off_time, Length: 321, dtype: int64"
            ]
          },
          "execution_count": 181,
          "metadata": {},
          "output_type": "execute_result"
        }
      ],
      "source": [
        "df[\"paid_off_time\"].value_counts()"
      ]
    },
    {
      "cell_type": "code",
      "execution_count": null,
      "metadata": {
        "id": "aXM0XVTl1e6y"
      },
      "outputs": [],
      "source": [
        "def newcolumns(col):\n",
        "    df[col+\"_\"+\"day\"] = df[col].dt.day\n",
        "    df[col+\"_\"+\"month\"] = df[col].dt.month"
      ]
    },
    {
      "cell_type": "code",
      "execution_count": null,
      "metadata": {
        "id": "bshvRaZP1e6y"
      },
      "outputs": [],
      "source": [
        "for i in df[[\"effective_date\",\"due_date\",\"paid_off_time\"]]:\n",
        "    newcolumns(i)"
      ]
    },
    {
      "cell_type": "code",
      "execution_count": null,
      "metadata": {
        "id": "nDclCvr61e6y"
      },
      "outputs": [],
      "source": [
        "def new(col):\n",
        "    if(df[col]==-1):\n",
        "        df[col+\"_\"+\"day\"] = -1\n",
        "        df[col+\"_\"+\"month\"] = -1\n",
        "    else:\n",
        "        df[col+\"_\"+\"day\"] = df[col].dt.day\n",
        "        df[col+\"_\"+\"month\"] = df[col].dt.month"
      ]
    },
    {
      "cell_type": "code",
      "execution_count": null,
      "metadata": {
        "id": "mskEXDdL1e6y",
        "outputId": "35957264-1e51-4bcd-e57b-7d316ef76f90"
      },
      "outputs": [
        {
          "data": {
            "text/html": [
              "<div>\n",
              "<style scoped>\n",
              "    .dataframe tbody tr th:only-of-type {\n",
              "        vertical-align: middle;\n",
              "    }\n",
              "\n",
              "    .dataframe tbody tr th {\n",
              "        vertical-align: top;\n",
              "    }\n",
              "\n",
              "    .dataframe thead th {\n",
              "        text-align: right;\n",
              "    }\n",
              "</style>\n",
              "<table border=\"1\" class=\"dataframe\">\n",
              "  <thead>\n",
              "    <tr style=\"text-align: right;\">\n",
              "      <th></th>\n",
              "      <th>Loan_ID</th>\n",
              "      <th>loan_status</th>\n",
              "      <th>Principal</th>\n",
              "      <th>terms</th>\n",
              "      <th>effective_date</th>\n",
              "      <th>due_date</th>\n",
              "      <th>paid_off_time</th>\n",
              "      <th>past_due_days</th>\n",
              "      <th>age</th>\n",
              "      <th>education</th>\n",
              "      <th>Gender</th>\n",
              "      <th>effective_date_day</th>\n",
              "      <th>effective_date_month</th>\n",
              "      <th>due_date_day</th>\n",
              "      <th>due_date_month</th>\n",
              "      <th>paid_off_time_day</th>\n",
              "      <th>paid_off_time_month</th>\n",
              "    </tr>\n",
              "  </thead>\n",
              "  <tbody>\n",
              "    <tr>\n",
              "      <th>0</th>\n",
              "      <td>xqd20166231</td>\n",
              "      <td>PAIDOFF</td>\n",
              "      <td>1000</td>\n",
              "      <td>30</td>\n",
              "      <td>2016-09-08</td>\n",
              "      <td>2016-10-07</td>\n",
              "      <td>2016-09-14 19:31:00</td>\n",
              "      <td>36.01</td>\n",
              "      <td>45</td>\n",
              "      <td>High School or Below</td>\n",
              "      <td>male</td>\n",
              "      <td>8</td>\n",
              "      <td>9</td>\n",
              "      <td>7</td>\n",
              "      <td>10</td>\n",
              "      <td>14</td>\n",
              "      <td>9</td>\n",
              "    </tr>\n",
              "    <tr>\n",
              "      <th>1</th>\n",
              "      <td>xqd20168902</td>\n",
              "      <td>PAIDOFF</td>\n",
              "      <td>1000</td>\n",
              "      <td>30</td>\n",
              "      <td>2016-09-08</td>\n",
              "      <td>2016-10-07</td>\n",
              "      <td>2016-10-07 09:00:00</td>\n",
              "      <td>36.01</td>\n",
              "      <td>50</td>\n",
              "      <td>Bechalor</td>\n",
              "      <td>female</td>\n",
              "      <td>8</td>\n",
              "      <td>9</td>\n",
              "      <td>7</td>\n",
              "      <td>10</td>\n",
              "      <td>7</td>\n",
              "      <td>10</td>\n",
              "    </tr>\n",
              "    <tr>\n",
              "      <th>2</th>\n",
              "      <td>xqd20160003</td>\n",
              "      <td>PAIDOFF</td>\n",
              "      <td>1000</td>\n",
              "      <td>30</td>\n",
              "      <td>2016-09-08</td>\n",
              "      <td>2016-10-07</td>\n",
              "      <td>2016-09-25 16:58:00</td>\n",
              "      <td>36.01</td>\n",
              "      <td>33</td>\n",
              "      <td>Bechalor</td>\n",
              "      <td>female</td>\n",
              "      <td>8</td>\n",
              "      <td>9</td>\n",
              "      <td>7</td>\n",
              "      <td>10</td>\n",
              "      <td>25</td>\n",
              "      <td>9</td>\n",
              "    </tr>\n",
              "    <tr>\n",
              "      <th>3</th>\n",
              "      <td>xqd20160004</td>\n",
              "      <td>PAIDOFF</td>\n",
              "      <td>1000</td>\n",
              "      <td>15</td>\n",
              "      <td>2016-09-08</td>\n",
              "      <td>2016-09-22</td>\n",
              "      <td>2016-09-22 20:00:00</td>\n",
              "      <td>36.01</td>\n",
              "      <td>27</td>\n",
              "      <td>college</td>\n",
              "      <td>male</td>\n",
              "      <td>8</td>\n",
              "      <td>9</td>\n",
              "      <td>22</td>\n",
              "      <td>9</td>\n",
              "      <td>22</td>\n",
              "      <td>9</td>\n",
              "    </tr>\n",
              "    <tr>\n",
              "      <th>4</th>\n",
              "      <td>xqd20160005</td>\n",
              "      <td>PAIDOFF</td>\n",
              "      <td>1000</td>\n",
              "      <td>30</td>\n",
              "      <td>2016-09-09</td>\n",
              "      <td>2016-10-08</td>\n",
              "      <td>2016-09-23 21:36:00</td>\n",
              "      <td>36.01</td>\n",
              "      <td>28</td>\n",
              "      <td>college</td>\n",
              "      <td>female</td>\n",
              "      <td>9</td>\n",
              "      <td>9</td>\n",
              "      <td>8</td>\n",
              "      <td>10</td>\n",
              "      <td>23</td>\n",
              "      <td>9</td>\n",
              "    </tr>\n",
              "  </tbody>\n",
              "</table>\n",
              "</div>"
            ],
            "text/plain": [
              "       Loan_ID loan_status  Principal  terms effective_date   due_date  \\\n",
              "0  xqd20166231     PAIDOFF       1000     30     2016-09-08 2016-10-07   \n",
              "1  xqd20168902     PAIDOFF       1000     30     2016-09-08 2016-10-07   \n",
              "2  xqd20160003     PAIDOFF       1000     30     2016-09-08 2016-10-07   \n",
              "3  xqd20160004     PAIDOFF       1000     15     2016-09-08 2016-09-22   \n",
              "4  xqd20160005     PAIDOFF       1000     30     2016-09-09 2016-10-08   \n",
              "\n",
              "        paid_off_time  past_due_days  age             education  Gender  \\\n",
              "0 2016-09-14 19:31:00          36.01   45  High School or Below    male   \n",
              "1 2016-10-07 09:00:00          36.01   50              Bechalor  female   \n",
              "2 2016-09-25 16:58:00          36.01   33              Bechalor  female   \n",
              "3 2016-09-22 20:00:00          36.01   27               college    male   \n",
              "4 2016-09-23 21:36:00          36.01   28               college  female   \n",
              "\n",
              "   effective_date_day  effective_date_month  due_date_day  due_date_month  \\\n",
              "0                   8                     9             7              10   \n",
              "1                   8                     9             7              10   \n",
              "2                   8                     9             7              10   \n",
              "3                   8                     9            22               9   \n",
              "4                   9                     9             8              10   \n",
              "\n",
              "   paid_off_time_day  paid_off_time_month  \n",
              "0                 14                    9  \n",
              "1                  7                   10  \n",
              "2                 25                    9  \n",
              "3                 22                    9  \n",
              "4                 23                    9  "
            ]
          },
          "execution_count": 184,
          "metadata": {},
          "output_type": "execute_result"
        }
      ],
      "source": [
        "df.head()"
      ]
    },
    {
      "cell_type": "code",
      "execution_count": null,
      "metadata": {
        "id": "wFlzT2mA1e6z",
        "outputId": "3e369c1c-a6a8-44e9-a88a-629d3509b819"
      },
      "outputs": [
        {
          "data": {
            "text/html": [
              "<div>\n",
              "<style scoped>\n",
              "    .dataframe tbody tr th:only-of-type {\n",
              "        vertical-align: middle;\n",
              "    }\n",
              "\n",
              "    .dataframe tbody tr th {\n",
              "        vertical-align: top;\n",
              "    }\n",
              "\n",
              "    .dataframe thead th {\n",
              "        text-align: right;\n",
              "    }\n",
              "</style>\n",
              "<table border=\"1\" class=\"dataframe\">\n",
              "  <thead>\n",
              "    <tr style=\"text-align: right;\">\n",
              "      <th></th>\n",
              "      <th>Loan_ID</th>\n",
              "      <th>loan_status</th>\n",
              "      <th>Principal</th>\n",
              "      <th>terms</th>\n",
              "      <th>effective_date</th>\n",
              "      <th>due_date</th>\n",
              "      <th>paid_off_time</th>\n",
              "      <th>past_due_days</th>\n",
              "      <th>age</th>\n",
              "      <th>education</th>\n",
              "      <th>Gender</th>\n",
              "      <th>effective_date_day</th>\n",
              "      <th>effective_date_month</th>\n",
              "      <th>due_date_day</th>\n",
              "      <th>due_date_month</th>\n",
              "      <th>paid_off_time_day</th>\n",
              "      <th>paid_off_time_month</th>\n",
              "    </tr>\n",
              "  </thead>\n",
              "  <tbody>\n",
              "    <tr>\n",
              "      <th>300</th>\n",
              "      <td>xqd20160301</td>\n",
              "      <td>COLLECTION</td>\n",
              "      <td>1000</td>\n",
              "      <td>15</td>\n",
              "      <td>2016-09-09</td>\n",
              "      <td>2016-09-23</td>\n",
              "      <td>1969-12-31 23:59:59.999999999</td>\n",
              "      <td>36.01</td>\n",
              "      <td>29</td>\n",
              "      <td>college</td>\n",
              "      <td>male</td>\n",
              "      <td>9</td>\n",
              "      <td>9</td>\n",
              "      <td>23</td>\n",
              "      <td>9</td>\n",
              "      <td>31</td>\n",
              "      <td>12</td>\n",
              "    </tr>\n",
              "    <tr>\n",
              "      <th>301</th>\n",
              "      <td>xqd20160302</td>\n",
              "      <td>COLLECTION</td>\n",
              "      <td>1000</td>\n",
              "      <td>30</td>\n",
              "      <td>2016-09-09</td>\n",
              "      <td>2016-10-08</td>\n",
              "      <td>1969-12-31 23:59:59.999999999</td>\n",
              "      <td>36.01</td>\n",
              "      <td>37</td>\n",
              "      <td>High School or Below</td>\n",
              "      <td>male</td>\n",
              "      <td>9</td>\n",
              "      <td>9</td>\n",
              "      <td>8</td>\n",
              "      <td>10</td>\n",
              "      <td>31</td>\n",
              "      <td>12</td>\n",
              "    </tr>\n",
              "    <tr>\n",
              "      <th>302</th>\n",
              "      <td>xqd20160303</td>\n",
              "      <td>COLLECTION</td>\n",
              "      <td>1000</td>\n",
              "      <td>30</td>\n",
              "      <td>2016-09-09</td>\n",
              "      <td>2016-10-08</td>\n",
              "      <td>1969-12-31 23:59:59.999999999</td>\n",
              "      <td>36.01</td>\n",
              "      <td>33</td>\n",
              "      <td>High School or Below</td>\n",
              "      <td>male</td>\n",
              "      <td>9</td>\n",
              "      <td>9</td>\n",
              "      <td>8</td>\n",
              "      <td>10</td>\n",
              "      <td>31</td>\n",
              "      <td>12</td>\n",
              "    </tr>\n",
              "    <tr>\n",
              "      <th>303</th>\n",
              "      <td>xqd20160304</td>\n",
              "      <td>COLLECTION</td>\n",
              "      <td>800</td>\n",
              "      <td>15</td>\n",
              "      <td>2016-09-09</td>\n",
              "      <td>2016-09-23</td>\n",
              "      <td>1969-12-31 23:59:59.999999999</td>\n",
              "      <td>36.01</td>\n",
              "      <td>27</td>\n",
              "      <td>college</td>\n",
              "      <td>male</td>\n",
              "      <td>9</td>\n",
              "      <td>9</td>\n",
              "      <td>23</td>\n",
              "      <td>9</td>\n",
              "      <td>31</td>\n",
              "      <td>12</td>\n",
              "    </tr>\n",
              "    <tr>\n",
              "      <th>304</th>\n",
              "      <td>xqd20160305</td>\n",
              "      <td>COLLECTION</td>\n",
              "      <td>800</td>\n",
              "      <td>15</td>\n",
              "      <td>2016-09-09</td>\n",
              "      <td>2016-09-23</td>\n",
              "      <td>1969-12-31 23:59:59.999999999</td>\n",
              "      <td>36.01</td>\n",
              "      <td>24</td>\n",
              "      <td>Bechalor</td>\n",
              "      <td>male</td>\n",
              "      <td>9</td>\n",
              "      <td>9</td>\n",
              "      <td>23</td>\n",
              "      <td>9</td>\n",
              "      <td>31</td>\n",
              "      <td>12</td>\n",
              "    </tr>\n",
              "    <tr>\n",
              "      <th>...</th>\n",
              "      <td>...</td>\n",
              "      <td>...</td>\n",
              "      <td>...</td>\n",
              "      <td>...</td>\n",
              "      <td>...</td>\n",
              "      <td>...</td>\n",
              "      <td>...</td>\n",
              "      <td>...</td>\n",
              "      <td>...</td>\n",
              "      <td>...</td>\n",
              "      <td>...</td>\n",
              "      <td>...</td>\n",
              "      <td>...</td>\n",
              "      <td>...</td>\n",
              "      <td>...</td>\n",
              "      <td>...</td>\n",
              "      <td>...</td>\n",
              "    </tr>\n",
              "    <tr>\n",
              "      <th>395</th>\n",
              "      <td>xqd20160396</td>\n",
              "      <td>COLLECTION</td>\n",
              "      <td>1000</td>\n",
              "      <td>30</td>\n",
              "      <td>2016-09-11</td>\n",
              "      <td>2016-10-10</td>\n",
              "      <td>1969-12-31 23:59:59.999999999</td>\n",
              "      <td>36.01</td>\n",
              "      <td>25</td>\n",
              "      <td>High School or Below</td>\n",
              "      <td>male</td>\n",
              "      <td>11</td>\n",
              "      <td>9</td>\n",
              "      <td>10</td>\n",
              "      <td>10</td>\n",
              "      <td>31</td>\n",
              "      <td>12</td>\n",
              "    </tr>\n",
              "    <tr>\n",
              "      <th>396</th>\n",
              "      <td>xqd20160397</td>\n",
              "      <td>COLLECTION</td>\n",
              "      <td>1000</td>\n",
              "      <td>30</td>\n",
              "      <td>2016-09-12</td>\n",
              "      <td>2016-10-11</td>\n",
              "      <td>1969-12-31 23:59:59.999999999</td>\n",
              "      <td>36.01</td>\n",
              "      <td>33</td>\n",
              "      <td>High School or Below</td>\n",
              "      <td>male</td>\n",
              "      <td>12</td>\n",
              "      <td>9</td>\n",
              "      <td>11</td>\n",
              "      <td>10</td>\n",
              "      <td>31</td>\n",
              "      <td>12</td>\n",
              "    </tr>\n",
              "    <tr>\n",
              "      <th>397</th>\n",
              "      <td>xqd20160398</td>\n",
              "      <td>COLLECTION</td>\n",
              "      <td>800</td>\n",
              "      <td>15</td>\n",
              "      <td>2016-09-12</td>\n",
              "      <td>2016-09-26</td>\n",
              "      <td>1969-12-31 23:59:59.999999999</td>\n",
              "      <td>36.01</td>\n",
              "      <td>39</td>\n",
              "      <td>college</td>\n",
              "      <td>male</td>\n",
              "      <td>12</td>\n",
              "      <td>9</td>\n",
              "      <td>26</td>\n",
              "      <td>9</td>\n",
              "      <td>31</td>\n",
              "      <td>12</td>\n",
              "    </tr>\n",
              "    <tr>\n",
              "      <th>398</th>\n",
              "      <td>xqd20160399</td>\n",
              "      <td>COLLECTION</td>\n",
              "      <td>1000</td>\n",
              "      <td>30</td>\n",
              "      <td>2016-09-12</td>\n",
              "      <td>2016-11-10</td>\n",
              "      <td>1969-12-31 23:59:59.999999999</td>\n",
              "      <td>36.01</td>\n",
              "      <td>28</td>\n",
              "      <td>college</td>\n",
              "      <td>male</td>\n",
              "      <td>12</td>\n",
              "      <td>9</td>\n",
              "      <td>10</td>\n",
              "      <td>11</td>\n",
              "      <td>31</td>\n",
              "      <td>12</td>\n",
              "    </tr>\n",
              "    <tr>\n",
              "      <th>399</th>\n",
              "      <td>xqd20160400</td>\n",
              "      <td>COLLECTION</td>\n",
              "      <td>1000</td>\n",
              "      <td>30</td>\n",
              "      <td>2016-09-12</td>\n",
              "      <td>2016-10-11</td>\n",
              "      <td>1969-12-31 23:59:59.999999999</td>\n",
              "      <td>36.01</td>\n",
              "      <td>26</td>\n",
              "      <td>college</td>\n",
              "      <td>male</td>\n",
              "      <td>12</td>\n",
              "      <td>9</td>\n",
              "      <td>11</td>\n",
              "      <td>10</td>\n",
              "      <td>31</td>\n",
              "      <td>12</td>\n",
              "    </tr>\n",
              "  </tbody>\n",
              "</table>\n",
              "<p>100 rows × 17 columns</p>\n",
              "</div>"
            ],
            "text/plain": [
              "         Loan_ID loan_status  Principal  terms effective_date   due_date  \\\n",
              "300  xqd20160301  COLLECTION       1000     15     2016-09-09 2016-09-23   \n",
              "301  xqd20160302  COLLECTION       1000     30     2016-09-09 2016-10-08   \n",
              "302  xqd20160303  COLLECTION       1000     30     2016-09-09 2016-10-08   \n",
              "303  xqd20160304  COLLECTION        800     15     2016-09-09 2016-09-23   \n",
              "304  xqd20160305  COLLECTION        800     15     2016-09-09 2016-09-23   \n",
              "..           ...         ...        ...    ...            ...        ...   \n",
              "395  xqd20160396  COLLECTION       1000     30     2016-09-11 2016-10-10   \n",
              "396  xqd20160397  COLLECTION       1000     30     2016-09-12 2016-10-11   \n",
              "397  xqd20160398  COLLECTION        800     15     2016-09-12 2016-09-26   \n",
              "398  xqd20160399  COLLECTION       1000     30     2016-09-12 2016-11-10   \n",
              "399  xqd20160400  COLLECTION       1000     30     2016-09-12 2016-10-11   \n",
              "\n",
              "                    paid_off_time  past_due_days  age             education  \\\n",
              "300 1969-12-31 23:59:59.999999999          36.01   29               college   \n",
              "301 1969-12-31 23:59:59.999999999          36.01   37  High School or Below   \n",
              "302 1969-12-31 23:59:59.999999999          36.01   33  High School or Below   \n",
              "303 1969-12-31 23:59:59.999999999          36.01   27               college   \n",
              "304 1969-12-31 23:59:59.999999999          36.01   24              Bechalor   \n",
              "..                            ...            ...  ...                   ...   \n",
              "395 1969-12-31 23:59:59.999999999          36.01   25  High School or Below   \n",
              "396 1969-12-31 23:59:59.999999999          36.01   33  High School or Below   \n",
              "397 1969-12-31 23:59:59.999999999          36.01   39               college   \n",
              "398 1969-12-31 23:59:59.999999999          36.01   28               college   \n",
              "399 1969-12-31 23:59:59.999999999          36.01   26               college   \n",
              "\n",
              "    Gender  effective_date_day  effective_date_month  due_date_day  \\\n",
              "300   male                   9                     9            23   \n",
              "301   male                   9                     9             8   \n",
              "302   male                   9                     9             8   \n",
              "303   male                   9                     9            23   \n",
              "304   male                   9                     9            23   \n",
              "..     ...                 ...                   ...           ...   \n",
              "395   male                  11                     9            10   \n",
              "396   male                  12                     9            11   \n",
              "397   male                  12                     9            26   \n",
              "398   male                  12                     9            10   \n",
              "399   male                  12                     9            11   \n",
              "\n",
              "     due_date_month  paid_off_time_day  paid_off_time_month  \n",
              "300               9                 31                   12  \n",
              "301              10                 31                   12  \n",
              "302              10                 31                   12  \n",
              "303               9                 31                   12  \n",
              "304               9                 31                   12  \n",
              "..              ...                ...                  ...  \n",
              "395              10                 31                   12  \n",
              "396              10                 31                   12  \n",
              "397               9                 31                   12  \n",
              "398              11                 31                   12  \n",
              "399              10                 31                   12  \n",
              "\n",
              "[100 rows x 17 columns]"
            ]
          },
          "execution_count": 161,
          "metadata": {},
          "output_type": "execute_result"
        }
      ],
      "source": [
        "df[df[\"paid_off_time\"].dt.year==1969]"
      ]
    },
    {
      "cell_type": "code",
      "execution_count": null,
      "metadata": {
        "id": "OYS1Y3cl1e6z",
        "outputId": "bdd89fdd-608f-497c-af62-5c1a17d81b5f"
      },
      "outputs": [
        {
          "name": "stderr",
          "output_type": "stream",
          "text": [
            "C:\\Program Files\\Anaconda3\\lib\\site-packages\\seaborn\\_decorators.py:36: FutureWarning: Pass the following variable as a keyword arg: x. From version 0.12, the only valid positional argument will be `data`, and passing other arguments without an explicit keyword will result in an error or misinterpretation.\n",
            "  warnings.warn(\n"
          ]
        },
        {
          "data": {
            "text/plain": [
              "<AxesSubplot:xlabel='Principal'>"
            ]
          },
          "execution_count": 151,
          "metadata": {},
          "output_type": "execute_result"
        },
        {
          "data": {
            "image/png": "[encoded data removed]",
            "text/plain": [
              "<Figure size 432x288 with 1 Axes>"
            ]
          },
          "metadata": {
            "needs_background": "light"
          },
          "output_type": "display_data"
        }
      ],
      "source": [
        "sns.boxplot(df[\"Principal\"])"
      ]
    },
    {
      "cell_type": "code",
      "execution_count": null,
      "metadata": {
        "id": "UWSG0x9t1e6z",
        "outputId": "679c9fa5-c852-48df-dd8a-dad633e104e7"
      },
      "outputs": [
        {
          "name": "stderr",
          "output_type": "stream",
          "text": [
            "C:\\Program Files\\Anaconda3\\lib\\site-packages\\seaborn\\_decorators.py:36: FutureWarning: Pass the following variable as a keyword arg: x. From version 0.12, the only valid positional argument will be `data`, and passing other arguments without an explicit keyword will result in an error or misinterpretation.\n",
            "  warnings.warn(\n"
          ]
        },
        {
          "data": {
            "text/plain": [
              "<AxesSubplot:xlabel='terms'>"
            ]
          },
          "execution_count": 152,
          "metadata": {},
          "output_type": "execute_result"
        },
        {
          "data": {
            "image/png": "[encoded data removed]",
            "text/plain": [
              "<Figure size 432x288 with 1 Axes>"
            ]
          },
          "metadata": {
            "needs_background": "light"
          },
          "output_type": "display_data"
        }
      ],
      "source": [
        "sns.boxplot(df[\"terms\"])"
      ]
    },
    {
      "cell_type": "code",
      "execution_count": null,
      "metadata": {
        "id": "V1owQSrH1e6z",
        "outputId": "5d9dd328-98cd-43ca-a74a-fc6010247a4b"
      },
      "outputs": [
        {
          "name": "stderr",
          "output_type": "stream",
          "text": [
            "C:\\Program Files\\Anaconda3\\lib\\site-packages\\seaborn\\_decorators.py:36: FutureWarning: Pass the following variable as a keyword arg: x. From version 0.12, the only valid positional argument will be `data`, and passing other arguments without an explicit keyword will result in an error or misinterpretation.\n",
            "  warnings.warn(\n"
          ]
        },
        {
          "data": {
            "text/plain": [
              "<AxesSubplot:xlabel='past_due_days'>"
            ]
          },
          "execution_count": 185,
          "metadata": {},
          "output_type": "execute_result"
        },
        {
          "data": {
            "image/png": "[encoded data removed]",
            "text/plain": [
              "<Figure size 432x288 with 1 Axes>"
            ]
          },
          "metadata": {
            "needs_background": "light"
          },
          "output_type": "display_data"
        }
      ],
      "source": [
        "sns.boxplot(df[\"past_due_days\"])"
      ]
    },
    {
      "cell_type": "code",
      "execution_count": null,
      "metadata": {
        "id": "mcdk85R81e6z",
        "outputId": "caebea43-1b70-4690-80b9-930fdb269f70"
      },
      "outputs": [
        {
          "name": "stderr",
          "output_type": "stream",
          "text": [
            "C:\\Program Files\\Anaconda3\\lib\\site-packages\\seaborn\\_decorators.py:36: FutureWarning: Pass the following variable as a keyword arg: x. From version 0.12, the only valid positional argument will be `data`, and passing other arguments without an explicit keyword will result in an error or misinterpretation.\n",
            "  warnings.warn(\n"
          ]
        },
        {
          "data": {
            "text/plain": [
              "<AxesSubplot:xlabel='age'>"
            ]
          },
          "execution_count": 158,
          "metadata": {},
          "output_type": "execute_result"
        },
        {
          "data": {
            "image/png": "[encoded data removed]",
            "text/plain": [
              "<Figure size 432x288 with 1 Axes>"
            ]
          },
          "metadata": {
            "needs_background": "light"
          },
          "output_type": "display_data"
        }
      ],
      "source": [
        "sns.boxplot(df[\"age\"])"
      ]
    },
    {
      "cell_type": "code",
      "execution_count": null,
      "metadata": {
        "id": "lNabdYkr1e6z",
        "outputId": "d61a4609-834a-495d-a42b-2f9add553f96"
      },
      "outputs": [
        {
          "data": {
            "text/plain": [
              "36.01    500\n",
              "Name: past_due_days, dtype: int64"
            ]
          },
          "execution_count": 159,
          "metadata": {},
          "output_type": "execute_result"
        }
      ],
      "source": [
        "df[\"past_due_days\"].value_counts()"
      ]
    },
    {
      "cell_type": "code",
      "execution_count": null,
      "metadata": {
        "id": "_WxKQ_yV1e60"
      },
      "outputs": [],
      "source": [
        "def remove_outliers(col):\n",
        "    sorted(col)\n",
        "    Q1,Q3 = col.quantile([0.25,0.75])\n",
        "    IQR = Q3-Q1\n",
        "    lower_range = Q1 - (1.5*IQR)\n",
        "    higher_range = Q3 + (1.5*IQR)\n",
        "    return lower_range,higher_range"
      ]
    },
    {
      "cell_type": "code",
      "execution_count": null,
      "metadata": {
        "id": "chXRYW9Q1e60"
      },
      "outputs": [],
      "source": [
        "lowincome,highincome = remove_outliers(df['past_due_days'])\n",
        "df[\"past_due_days\"] = np.where(df[\"past_due_days\"]>highincome,highincome,df[\"past_due_days\"])\n",
        "df[\"past_due_days\"] = np.where(df[\"past_due_days\"]<lowincome,lowincome,df[\"past_due_days\"])"
      ]
    },
    {
      "cell_type": "markdown",
      "metadata": {
        "id": "-aluBCdS1e60"
      },
      "source": [
        "ENCODING"
      ]
    },
    {
      "cell_type": "code",
      "execution_count": null,
      "metadata": {
        "id": "9Oxo5lLi1e60",
        "outputId": "90e9d09f-54b6-41e6-979c-75843abdd3b6"
      },
      "outputs": [
        {
          "data": {
            "text/plain": [
              "Index(['Loan_ID', 'loan_status', 'Principal', 'terms', 'effective_date',\n",
              "       'due_date', 'paid_off_time', 'past_due_days', 'age', 'education',\n",
              "       'Gender', 'effective_date_day', 'effective_date_month', 'due_date_day',\n",
              "       'due_date_month', 'paid_off_time_day', 'paid_off_time_month'],\n",
              "      dtype='object')"
            ]
          },
          "execution_count": 187,
          "metadata": {},
          "output_type": "execute_result"
        }
      ],
      "source": [
        "df.columns"
      ]
    },
    {
      "cell_type": "code",
      "execution_count": null,
      "metadata": {
        "id": "vgLzrSyk1e60",
        "outputId": "d4190072-40c8-4b96-eb89-0477c5f0ad4d"
      },
      "outputs": [
        {
          "data": {
            "text/plain": [
              "array(['xqd20166231', 'xqd20168902', 'xqd20160003', 'xqd20160004',\n",
              "       'xqd20160005', 'xqd20160706', 'xqd20160007', 'xqd20160008',\n",
              "       'xqd20160909', 'xqd20160010', 'xqd20160011', 'xqd20160012',\n",
              "       'xqd20160013', 'xqd20160014', 'xqd20160015', 'xqd20160016',\n",
              "       'xqd20160017', 'xqd20160018', 'xqd20160019', 'xqd20160020',\n",
              "       'xqd20160021', 'xqd20160022', 'xqd20160023', 'xqd20160024',\n",
              "       'xqd20160025', 'xqd20160026', 'xqd20160027', 'xqd20170088',\n",
              "       'xqd20160029', 'xqd20160030', 'xqd88160031', 'xqd20160032',\n",
              "       'xqd20160033', 'xqd22169034', 'xqd20160035', 'xqd20160036',\n",
              "       'xqd20160037', 'xqd20160038', 'xqd20160039', 'xqd20160040',\n",
              "       'xqd20160041', 'xqd20160042', 'xqd20160043', 'xqd20160044',\n",
              "       'xqd20160045', 'xqd20160046', 'xqd20160047', 'xqd20160048',\n",
              "       'xqd20160049', 'xqd20160050', 'xqd20160051', 'xqd20160052',\n",
              "       'xqd20160053', 'xqd20160054', 'xqd20160055', 'xqd20160056',\n",
              "       'xqd20160057', 'xqd20160058', 'xqd20160059', 'xqd20160060',\n",
              "       'xqd20160061', 'xqd20160062', 'xqd20160063', 'xqd20160064',\n",
              "       'xqd20160065', 'xqd20160066', 'xqd20160067', 'xqd20160068',\n",
              "       'xqd20160069', 'xqd20160070', 'xqd20160071', 'xqd20160072',\n",
              "       'xqd20160073', 'xqd20160074', 'xqd20160075', 'xqd20160076',\n",
              "       'xqd20160077', 'xqd20160078', 'xqd20160079', 'xqd20160080',\n",
              "       'xqd20160081', 'xqd20160082', 'xqd20160083', 'xqd20160084',\n",
              "       'xqd20160085', 'xqd20160086', 'xqd20160087', 'xqd20160088',\n",
              "       'xqd20160089', 'xqd90160090', 'xqd91160291', 'xqd90160092',\n",
              "       'xqd90163093', 'xqd20160094', 'xqd20167095', 'xqd20160096',\n",
              "       'xqd20160097', 'xqd20160098', 'xqd20160099', 'xqd20160100',\n",
              "       'xqd20160101', 'xqd20160102', 'xqd20160103', 'xqd20160104',\n",
              "       'xqd20160105', 'xqd20160106', 'xqd20160107', 'xqd20160108',\n",
              "       'xqd20160109', 'xqd20160110', 'xqd20160111', 'xqd20160112',\n",
              "       'xqd20160113', 'xqd20160114', 'xqd20160115', 'xqd20160116',\n",
              "       'xqd20160117', 'xqd20160118', 'xqd20160119', 'xqd20160120',\n",
              "       'xqd20160121', 'xqd20160122', 'xqd20160123', 'xqd20160124',\n",
              "       'xqd20160125', 'xqd20160126', 'xqd20160127', 'xqd20160128',\n",
              "       'xqd78160129', 'xqd20160130', 'xqd20160131', 'xqd20160132',\n",
              "       'xqd20160133', 'xqd20160134', 'xqd20160135', 'xqd20160136',\n",
              "       'xqd20160137', 'xqd20160138', 'xqd20160139', 'xqd56160140',\n",
              "       'xqd20160141', 'xqd20160142', 'xqd20160143', 'xqd20160144',\n",
              "       'xqd20160145', 'xqd20160146', 'xqd20160147', 'xqd20160148',\n",
              "       'xqd20160149', 'xqd20160150', 'xqd20160151', 'xqd34160152',\n",
              "       'xqd20160153', 'xqd20160154', 'xqd20160155', 'xqd20160156',\n",
              "       'xqd20160157', 'xqd20160158', 'xqd12160159', 'xqd20160160',\n",
              "       'xqd20160161', 'xqd20160162', 'xqd20160163', 'xqd28160164',\n",
              "       'xqd20160165', 'xqd20160166', 'xqd20160167', 'xqd20160168',\n",
              "       'xqd20160169', 'xqd27160170', 'xqd20160171', 'xqd20160172',\n",
              "       'xqd20160173', 'xqd20160174', 'xqd20160175', 'xqd20160176',\n",
              "       'xqd20160177', 'xqd20160178', 'xqd20160179', 'xqd20160180',\n",
              "       'xqd20160181', 'xqd20160182', 'xqd20160183', 'xqd20160184',\n",
              "       'xqd20160185', 'xqd20160186', 'xqd20160187', 'xqd20160188',\n",
              "       'xqd20160189', 'xqd20160190', 'xqd20160191', 'xqd20160192',\n",
              "       'xqd20160193', 'xqd20160194', 'xqd20160195', 'xqd20160196',\n",
              "       'xqd20160197', 'xqd20160198', 'xqd20160199', 'xqd20160200',\n",
              "       'xqd20160201', 'xqd20160202', 'xqd20160203', 'xqd20160204',\n",
              "       'xqd20160205', 'xqd20160206', 'xqd20160207', 'xqd20160208',\n",
              "       'xqd20160209', 'xqd20160210', 'xqd20160211', 'xqd20160212',\n",
              "       'xqd20160213', 'xqd20160214', 'xqd20160215', 'xqd20160216',\n",
              "       'xqd20160217', 'xqd20160218', 'xqd20160219', 'xqd20160220',\n",
              "       'xqd20160221', 'xqd20160222', 'xqd20160223', 'xqd20160224',\n",
              "       'xqd20160225', 'xqd20160226', 'xqd20160227', 'xqd20160228',\n",
              "       'xqd20160229', 'xqd20160230', 'xqd20160231', 'xqd20160232',\n",
              "       'xqd20160233', 'xqd20160234', 'xqd20160235', 'xqd20160236',\n",
              "       'xqd20160237', 'xqd20160238', 'xqd20160239', 'xqd20160240',\n",
              "       'xqd20160241', 'xqd20160242', 'xqd20160243', 'xqd20160244',\n",
              "       'xqd20160245', 'xqd20160246', 'xqd20160247', 'xqd20160248',\n",
              "       'xqd20160249', 'xqd20160250', 'xqd20160251', 'xqd20160252',\n",
              "       'xqd20160253', 'xqd20160254', 'xqd20160255', 'xqd20160256',\n",
              "       'xqd20160257', 'xqd20160258', 'xqd20160259', 'xqd20160260',\n",
              "       'xqd20160261', 'xqd20160262', 'xqd20160263', 'xqd20160264',\n",
              "       'xqd20160265', 'xqd20160266', 'xqd20160267', 'xqd20160268',\n",
              "       'xqd20160269', 'xqd20160270', 'xqd20160271', 'xqd20160272',\n",
              "       'xqd20160273', 'xqd20160274', 'xqd20160275', 'xqd20160276',\n",
              "       'xqd20160277', 'xqd20160278', 'xqd20160279', 'xqd20160280',\n",
              "       'xqd20160281', 'xqd20160282', 'xqd20160283', 'xqd20160284',\n",
              "       'xqd20160285', 'xqd20160286', 'xqd20160287', 'xqd20160288',\n",
              "       'xqd20160289', 'xqd20160290', 'xqd20160291', 'xqd20160292',\n",
              "       'xqd20160293', 'xqd20160294', 'xqd20160295', 'xqd20160296',\n",
              "       'xqd20160297', 'xqd20160298', 'xqd20160299', 'xqd20160300',\n",
              "       'xqd20160301', 'xqd20160302', 'xqd20160303', 'xqd20160304',\n",
              "       'xqd20160305', 'xqd20160306', 'xqd20160307', 'xqd20160308',\n",
              "       'xqd20160309', 'xqd20160310', 'xqd20160311', 'xqd20160312',\n",
              "       'xqd20160313', 'xqd20160314', 'xqd20160315', 'xqd20160316',\n",
              "       'xqd20160317', 'xqd20160318', 'xqd20160319', 'xqd20160320',\n",
              "       'xqd20160321', 'xqd20160322', 'xqd20160323', 'xqd20160324',\n",
              "       'xqd20160325', 'xqd20160326', 'xqd20160327', 'xqd20160328',\n",
              "       'xqd20160329', 'xqd20160330', 'xqd20160331', 'xqd20160332',\n",
              "       'xqd20160333', 'xqd20160334', 'xqd20160335', 'xqd20160336',\n",
              "       'xqd20160337', 'xqd20160338', 'xqd20160339', 'xqd20160340',\n",
              "       'xqd20160341', 'xqd20160342', 'xqd20160343', 'xqd20160344',\n",
              "       'xqd20160345', 'xqd20160346', 'xqd20160347', 'xqd20160348',\n",
              "       'xqd20160349', 'xqd20160350', 'xqd20160351', 'xqd20160352',\n",
              "       'xqd20160353', 'xqd20160354', 'xqd20160355', 'xqd20160356',\n",
              "       'xqd20160357', 'xqd20160358', 'xqd20160359', 'xqd20160360',\n",
              "       'xqd20160361', 'xqd20160362', 'xqd20160363', 'xqd20160364',\n",
              "       'xqd20160365', 'xqd20160366', 'xqd20160367', 'xqd20160368',\n",
              "       'xqd20160369', 'xqd20160370', 'xqd20160371', 'xqd20160372',\n",
              "       'xqd20160373', 'xqd20160374', 'xqd20182575', 'xqd20160376',\n",
              "       'xqd20151038', 'xqd20160378', 'xqd20197340', 'xqd20160380',\n",
              "       'xqd20160381', 'xqd20160382', 'xqd20175721', 'xqd20160384',\n",
              "       'xqd20160385', 'xqd20160386', 'xqd20160387', 'xqd20160388',\n",
              "       'xqd20160389', 'xqd20160390', 'xqd20160391', 'xqd20125284',\n",
              "       'xqd20160393', 'xqd20160394', 'xqd20160395', 'xqd20160396',\n",
              "       'xqd20160397', 'xqd20160398', 'xqd20160399', 'xqd20160400',\n",
              "       'xqd20160401', 'xqd20160402', 'xqd20320403', 'xqd20160404',\n",
              "       'xqd20190405', 'xqd20160406', 'xqd20160407', 'xqd20160408',\n",
              "       'xqd20110409', 'xqd20160410', 'xqd20160411', 'xqd20160412',\n",
              "       'xqd20160413', 'xqd20169083', 'xqd20160415', 'xqd20160416',\n",
              "       'xqd20160417', 'xqd20160418', 'xqd20160419', 'xqd20160420',\n",
              "       'xqd20160421', 'xqd20160422', 'xqd20160423', 'xqd20160424',\n",
              "       'xqd20880425', 'xqd20160426', 'xqd20160427', 'xqd20160428',\n",
              "       'xqd20160429', 'xqd20160430', 'xqd20160431', 'xqd20160432',\n",
              "       'xqd20160433', 'xqd20160434', 'xqd20160435', 'xqd20160436',\n",
              "       'xqd20790437', 'xqd20160438', 'xqd20160439', 'xqd20160440',\n",
              "       'xqd20160441', 'xqd20160442', 'xqd20160443', 'xqd20160444',\n",
              "       'xqd20160445', 'xqd20160446', 'xqd20420447', 'xqd20160448',\n",
              "       'xqd20160449', 'xqd20160450', 'xqd20160451', 'xqd20160452',\n",
              "       'xqd20390453', 'xqd20160454', 'xqd20160455', 'xqd20160456',\n",
              "       'xqd20160457', 'xqd20160458', 'xqd20160459', 'xqd20160460',\n",
              "       'xqd20490461', 'xqd20160462', 'xqd20160463', 'xqd20870464',\n",
              "       'xqd20160465', 'xqd20169466', 'xqd20160467', 'xqd20160468',\n",
              "       'xqd20160469', 'xqd25660470', 'xqd20160471', 'xqd20160472',\n",
              "       'xqd20160473', 'xqd20160474', 'xqd20160475', 'xqd20160476',\n",
              "       'xqd20160477', 'xqd20160478', 'xqd20160479', 'xqd20160480',\n",
              "       'xqd20160481', 'xqd20160482', 'xqd20160483', 'xqd20160484',\n",
              "       'xqd20160485', 'xqd20160486', 'xqd20160487', 'xqd20160488',\n",
              "       'xqd20160489', 'xqd20160490', 'xqd20160491', 'xqd20160492',\n",
              "       'xqd20160493', 'xqd20160494', 'xqd20160495', 'xqd20160496',\n",
              "       'xqd20160497', 'xqd20160498', 'xqd20160499', 'xqd20160500'],\n",
              "      dtype=object)"
            ]
          },
          "execution_count": 188,
          "metadata": {},
          "output_type": "execute_result"
        }
      ],
      "source": [
        "df[\"Loan_ID\"].unique()"
      ]
    },
    {
      "cell_type": "code",
      "execution_count": null,
      "metadata": {
        "id": "t_h8MZTR1e60",
        "outputId": "00e0c574-5dd8-4593-de9a-c7a36ca545d9"
      },
      "outputs": [
        {
          "data": {
            "text/plain": [
              "array(['High School or Below', 'Bachelor', 'college', 'Master or Above'],\n",
              "      dtype=object)"
            ]
          },
          "execution_count": 194,
          "metadata": {},
          "output_type": "execute_result"
        }
      ],
      "source": [
        "df[\"education\"].unique()"
      ]
    },
    {
      "cell_type": "code",
      "execution_count": null,
      "metadata": {
        "id": "8_3W7s021e61"
      },
      "outputs": [],
      "source": [
        "df[\"education\"].replace('Bechalor',\"Bachelor\",inplace=True)"
      ]
    },
    {
      "cell_type": "code",
      "execution_count": null,
      "metadata": {
        "id": "euT71wtu1e61"
      },
      "outputs": [],
      "source": [
        "df[\"education\"] = df[\"education\"].map({'High School or Below':1,\"college\":2,\"Bachelor\":3,\"Master or Above\":4})"
      ]
    },
    {
      "cell_type": "code",
      "execution_count": null,
      "metadata": {
        "id": "GyXGJ8n61e61",
        "outputId": "40ada6b6-011e-4e55-a998-743205d09f99"
      },
      "outputs": [
        {
          "data": {
            "text/plain": [
              "2    220\n",
              "1    209\n",
              "3     67\n",
              "4      4\n",
              "Name: education, dtype: int64"
            ]
          },
          "execution_count": 197,
          "metadata": {},
          "output_type": "execute_result"
        }
      ],
      "source": [
        "df[\"education\"].value_counts()"
      ]
    },
    {
      "cell_type": "code",
      "execution_count": null,
      "metadata": {
        "id": "T430xLJA1e61",
        "outputId": "64f54fcd-9e2a-4762-d0d1-b74f20d0c603"
      },
      "outputs": [
        {
          "data": {
            "text/plain": [
              "1    423\n",
              "0     77\n",
              "Name: Gender, dtype: int64"
            ]
          },
          "execution_count": 200,
          "metadata": {},
          "output_type": "execute_result"
        }
      ],
      "source": [
        "df[\"Gender\"].value_counts()"
      ]
    },
    {
      "cell_type": "code",
      "execution_count": null,
      "metadata": {
        "id": "M79lYEYB1e61"
      },
      "outputs": [],
      "source": [
        "df[\"Gender\"] = df[\"Gender\"].apply(lambda x : 1 if x==\"male\" else 0)"
      ]
    },
    {
      "cell_type": "code",
      "execution_count": null,
      "metadata": {
        "id": "Rhg3Demk1e61",
        "outputId": "e1dc2171-0c61-4889-ee13-099ef6cfa468"
      },
      "outputs": [
        {
          "data": {
            "text/plain": [
              "array(['PAIDOFF', 'COLLECTION', 'COLLECTION_PAIDOFF'], dtype=object)"
            ]
          },
          "execution_count": 201,
          "metadata": {},
          "output_type": "execute_result"
        }
      ],
      "source": [
        "df[\"loan_status\"].unique()"
      ]
    },
    {
      "cell_type": "code",
      "execution_count": null,
      "metadata": {
        "id": "nAqQIZHo1e62",
        "outputId": "e0ac472c-68c4-411c-b87b-dc978ce7a601"
      },
      "outputs": [
        {
          "data": {
            "text/plain": [
              "PAIDOFF               300\n",
              "COLLECTION            100\n",
              "COLLECTION_PAIDOFF    100\n",
              "Name: loan_status, dtype: int64"
            ]
          },
          "execution_count": 202,
          "metadata": {},
          "output_type": "execute_result"
        }
      ],
      "source": [
        "df['loan_status'].value_counts()"
      ]
    },
    {
      "cell_type": "code",
      "execution_count": null,
      "metadata": {
        "id": "NJg3zkAr1e62"
      },
      "outputs": [],
      "source": [
        "# paid_off : 0 , collection : -1, collection_paidoff : 1"
      ]
    },
    {
      "cell_type": "code",
      "execution_count": null,
      "metadata": {
        "id": "JBGe20bu1e62"
      },
      "outputs": [],
      "source": [
        "df['loan_status'] = df['loan_status'].map({'PAIDOFF':0,\"COLLECTION\":-1,\"COLLECTION_PAIDOFF\":1})"
      ]
    },
    {
      "cell_type": "code",
      "execution_count": null,
      "metadata": {
        "id": "h5GFPALo1e62",
        "outputId": "f3fca02e-f5c3-4e74-ec26-7baa079f5ff9"
      },
      "outputs": [
        {
          "data": {
            "text/plain": [
              "<AxesSubplot:xlabel='loan_status', ylabel='Density'>"
            ]
          },
          "execution_count": 205,
          "metadata": {},
          "output_type": "execute_result"
        },
        {
          "data": {
            "image/png": "[encoded data removed]",
            "text/plain": [
              "<Figure size 432x288 with 1 Axes>"
            ]
          },
          "metadata": {
            "needs_background": "light"
          },
          "output_type": "display_data"
        }
      ],
      "source": [
        "sns.distplot(df['loan_status'])"
      ]
    },
    {
      "cell_type": "code",
      "execution_count": null,
      "metadata": {
        "id": "MDBLHmLW1e62",
        "outputId": "1e2b6b6d-2292-4e29-f7b9-29f6a6c186bb"
      },
      "outputs": [
        {
          "ename": "TypeError",
          "evalue": "distplot() got an unexpected keyword argument 'y'",
          "output_type": "error",
          "traceback": [
            "\u001b[1;31m---------------------------------------------------------------------------\u001b[0m",
            "\u001b[1;31mTypeError\u001b[0m                                 Traceback (most recent call last)",
            "\u001b[1;32m<ipython-input-208-c30e0ba87c12>\u001b[0m in \u001b[0;36m<module>\u001b[1;34m\u001b[0m\n\u001b[1;32m----> 1\u001b[1;33m \u001b[0msns\u001b[0m\u001b[1;33m.\u001b[0m\u001b[0mdistplot\u001b[0m\u001b[1;33m(\u001b[0m\u001b[0mx\u001b[0m\u001b[1;33m=\u001b[0m\u001b[1;34m\"Principal\"\u001b[0m\u001b[1;33m,\u001b[0m\u001b[0my\u001b[0m \u001b[1;33m=\u001b[0m \u001b[1;34m\"terms\"\u001b[0m\u001b[1;33m,\u001b[0m\u001b[0mhue\u001b[0m\u001b[1;33m=\u001b[0m\u001b[1;34m'loan_status'\u001b[0m\u001b[1;33m,\u001b[0m\u001b[0mdata\u001b[0m\u001b[1;33m=\u001b[0m\u001b[0mdf\u001b[0m\u001b[1;33m,\u001b[0m\u001b[0mstyle\u001b[0m\u001b[1;33m=\u001b[0m\u001b[1;34m'x'\u001b[0m\u001b[1;33m)\u001b[0m\u001b[1;33m\u001b[0m\u001b[1;33m\u001b[0m\u001b[0m\n\u001b[0m",
            "\u001b[1;31mTypeError\u001b[0m: distplot() got an unexpected keyword argument 'y'"
          ]
        }
      ],
      "source": [
        "sns.distplot(x=\"Principal\",y = \"terms\",hue='loan_status',data=df,style='x')"
      ]
    },
    {
      "cell_type": "code",
      "execution_count": null,
      "metadata": {
        "id": "Qa2jQjww1e62",
        "outputId": "41dbe1e4-8bc5-41c6-8ed2-ebfc72797785"
      },
      "outputs": [
        {
          "data": {
            "text/html": [
              "<div>\n",
              "<style scoped>\n",
              "    .dataframe tbody tr th:only-of-type {\n",
              "        vertical-align: middle;\n",
              "    }\n",
              "\n",
              "    .dataframe tbody tr th {\n",
              "        vertical-align: top;\n",
              "    }\n",
              "\n",
              "    .dataframe thead th {\n",
              "        text-align: right;\n",
              "    }\n",
              "</style>\n",
              "<table border=\"1\" class=\"dataframe\">\n",
              "  <thead>\n",
              "    <tr style=\"text-align: right;\">\n",
              "      <th></th>\n",
              "      <th>Loan_ID</th>\n",
              "      <th>loan_status</th>\n",
              "      <th>Principal</th>\n",
              "      <th>terms</th>\n",
              "      <th>effective_date</th>\n",
              "      <th>due_date</th>\n",
              "      <th>paid_off_time</th>\n",
              "      <th>past_due_days</th>\n",
              "      <th>age</th>\n",
              "      <th>education</th>\n",
              "      <th>Gender</th>\n",
              "      <th>effective_date_day</th>\n",
              "      <th>effective_date_month</th>\n",
              "      <th>due_date_day</th>\n",
              "      <th>due_date_month</th>\n",
              "      <th>paid_off_time_day</th>\n",
              "      <th>paid_off_time_month</th>\n",
              "    </tr>\n",
              "  </thead>\n",
              "  <tbody>\n",
              "    <tr>\n",
              "      <th>0</th>\n",
              "      <td>xqd20166231</td>\n",
              "      <td>0</td>\n",
              "      <td>1000</td>\n",
              "      <td>30</td>\n",
              "      <td>2016-09-08</td>\n",
              "      <td>2016-10-07</td>\n",
              "      <td>2016-09-14 19:31:00</td>\n",
              "      <td>36.01</td>\n",
              "      <td>45</td>\n",
              "      <td>1</td>\n",
              "      <td>1</td>\n",
              "      <td>8</td>\n",
              "      <td>9</td>\n",
              "      <td>7</td>\n",
              "      <td>10</td>\n",
              "      <td>14</td>\n",
              "      <td>9</td>\n",
              "    </tr>\n",
              "    <tr>\n",
              "      <th>1</th>\n",
              "      <td>xqd20168902</td>\n",
              "      <td>0</td>\n",
              "      <td>1000</td>\n",
              "      <td>30</td>\n",
              "      <td>2016-09-08</td>\n",
              "      <td>2016-10-07</td>\n",
              "      <td>2016-10-07 09:00:00</td>\n",
              "      <td>36.01</td>\n",
              "      <td>50</td>\n",
              "      <td>3</td>\n",
              "      <td>0</td>\n",
              "      <td>8</td>\n",
              "      <td>9</td>\n",
              "      <td>7</td>\n",
              "      <td>10</td>\n",
              "      <td>7</td>\n",
              "      <td>10</td>\n",
              "    </tr>\n",
              "    <tr>\n",
              "      <th>2</th>\n",
              "      <td>xqd20160003</td>\n",
              "      <td>0</td>\n",
              "      <td>1000</td>\n",
              "      <td>30</td>\n",
              "      <td>2016-09-08</td>\n",
              "      <td>2016-10-07</td>\n",
              "      <td>2016-09-25 16:58:00</td>\n",
              "      <td>36.01</td>\n",
              "      <td>33</td>\n",
              "      <td>3</td>\n",
              "      <td>0</td>\n",
              "      <td>8</td>\n",
              "      <td>9</td>\n",
              "      <td>7</td>\n",
              "      <td>10</td>\n",
              "      <td>25</td>\n",
              "      <td>9</td>\n",
              "    </tr>\n",
              "    <tr>\n",
              "      <th>3</th>\n",
              "      <td>xqd20160004</td>\n",
              "      <td>0</td>\n",
              "      <td>1000</td>\n",
              "      <td>15</td>\n",
              "      <td>2016-09-08</td>\n",
              "      <td>2016-09-22</td>\n",
              "      <td>2016-09-22 20:00:00</td>\n",
              "      <td>36.01</td>\n",
              "      <td>27</td>\n",
              "      <td>2</td>\n",
              "      <td>1</td>\n",
              "      <td>8</td>\n",
              "      <td>9</td>\n",
              "      <td>22</td>\n",
              "      <td>9</td>\n",
              "      <td>22</td>\n",
              "      <td>9</td>\n",
              "    </tr>\n",
              "    <tr>\n",
              "      <th>4</th>\n",
              "      <td>xqd20160005</td>\n",
              "      <td>0</td>\n",
              "      <td>1000</td>\n",
              "      <td>30</td>\n",
              "      <td>2016-09-09</td>\n",
              "      <td>2016-10-08</td>\n",
              "      <td>2016-09-23 21:36:00</td>\n",
              "      <td>36.01</td>\n",
              "      <td>28</td>\n",
              "      <td>2</td>\n",
              "      <td>0</td>\n",
              "      <td>9</td>\n",
              "      <td>9</td>\n",
              "      <td>8</td>\n",
              "      <td>10</td>\n",
              "      <td>23</td>\n",
              "      <td>9</td>\n",
              "    </tr>\n",
              "  </tbody>\n",
              "</table>\n",
              "</div>"
            ],
            "text/plain": [
              "       Loan_ID  loan_status  Principal  terms effective_date   due_date  \\\n",
              "0  xqd20166231            0       1000     30     2016-09-08 2016-10-07   \n",
              "1  xqd20168902            0       1000     30     2016-09-08 2016-10-07   \n",
              "2  xqd20160003            0       1000     30     2016-09-08 2016-10-07   \n",
              "3  xqd20160004            0       1000     15     2016-09-08 2016-09-22   \n",
              "4  xqd20160005            0       1000     30     2016-09-09 2016-10-08   \n",
              "\n",
              "        paid_off_time  past_due_days  age  education  Gender  \\\n",
              "0 2016-09-14 19:31:00          36.01   45          1       1   \n",
              "1 2016-10-07 09:00:00          36.01   50          3       0   \n",
              "2 2016-09-25 16:58:00          36.01   33          3       0   \n",
              "3 2016-09-22 20:00:00          36.01   27          2       1   \n",
              "4 2016-09-23 21:36:00          36.01   28          2       0   \n",
              "\n",
              "   effective_date_day  effective_date_month  due_date_day  due_date_month  \\\n",
              "0                   8                     9             7              10   \n",
              "1                   8                     9             7              10   \n",
              "2                   8                     9             7              10   \n",
              "3                   8                     9            22               9   \n",
              "4                   9                     9             8              10   \n",
              "\n",
              "   paid_off_time_day  paid_off_time_month  \n",
              "0                 14                    9  \n",
              "1                  7                   10  \n",
              "2                 25                    9  \n",
              "3                 22                    9  \n",
              "4                 23                    9  "
            ]
          },
          "execution_count": 209,
          "metadata": {},
          "output_type": "execute_result"
        }
      ],
      "source": [
        "df.head()"
      ]
    },
    {
      "cell_type": "code",
      "execution_count": null,
      "metadata": {
        "id": "yL9W52wn1e62",
        "outputId": "d682556b-112c-48c4-c8ca-3282feb32748"
      },
      "outputs": [
        {
          "data": {
            "text/plain": [
              "<AxesSubplot:>"
            ]
          },
          "execution_count": 212,
          "metadata": {},
          "output_type": "execute_result"
        },
        {
          "data": {
            "image/png": "[encoded data removed]",
            "text/plain": [
              "<Figure size 720x720 with 2 Axes>"
            ]
          },
          "metadata": {
            "needs_background": "light"
          },
          "output_type": "display_data"
        }
      ],
      "source": [
        "fig,ax = plt.subplots(figsize=(10,10))\n",
        "sns.heatmap(df.corr(),annot=True)"
      ]
    },
    {
      "cell_type": "code",
      "execution_count": null,
      "metadata": {
        "id": "wZirU8ME1e63",
        "outputId": "4e6f464e-b163-492c-afb6-756d59ac15bf"
      },
      "outputs": [
        {
          "data": {
            "text/plain": [
              "array([9], dtype=int64)"
            ]
          },
          "execution_count": 214,
          "metadata": {},
          "output_type": "execute_result"
        }
      ],
      "source": [
        "df[\"effective_date_month\"].unique()"
      ]
    },
    {
      "cell_type": "markdown",
      "metadata": {
        "id": "Q3_b2V7q1e63"
      },
      "source": [
        "SPLITTING"
      ]
    },
    {
      "cell_type": "code",
      "execution_count": null,
      "metadata": {
        "id": "CALvPwtv1e63"
      },
      "outputs": [],
      "source": [
        "df.drop([\"Loan_ID\",\"effective_date\",\"due_date\",\"paid_off_time\"],axis=1,inplace=True)"
      ]
    },
    {
      "cell_type": "code",
      "execution_count": null,
      "metadata": {
        "id": "Wiee0Fzw1e63",
        "outputId": "a4c1985a-e04a-4d25-9cca-9ab4839ea34a"
      },
      "outputs": [
        {
          "data": {
            "text/html": [
              "<div>\n",
              "<style scoped>\n",
              "    .dataframe tbody tr th:only-of-type {\n",
              "        vertical-align: middle;\n",
              "    }\n",
              "\n",
              "    .dataframe tbody tr th {\n",
              "        vertical-align: top;\n",
              "    }\n",
              "\n",
              "    .dataframe thead th {\n",
              "        text-align: right;\n",
              "    }\n",
              "</style>\n",
              "<table border=\"1\" class=\"dataframe\">\n",
              "  <thead>\n",
              "    <tr style=\"text-align: right;\">\n",
              "      <th></th>\n",
              "      <th>loan_status</th>\n",
              "      <th>Principal</th>\n",
              "      <th>terms</th>\n",
              "      <th>past_due_days</th>\n",
              "      <th>age</th>\n",
              "      <th>education</th>\n",
              "      <th>Gender</th>\n",
              "      <th>effective_date_day</th>\n",
              "      <th>effective_date_month</th>\n",
              "      <th>due_date_day</th>\n",
              "      <th>due_date_month</th>\n",
              "      <th>paid_off_time_day</th>\n",
              "      <th>paid_off_time_month</th>\n",
              "    </tr>\n",
              "  </thead>\n",
              "  <tbody>\n",
              "    <tr>\n",
              "      <th>0</th>\n",
              "      <td>0</td>\n",
              "      <td>1000</td>\n",
              "      <td>30</td>\n",
              "      <td>36.01</td>\n",
              "      <td>45</td>\n",
              "      <td>1</td>\n",
              "      <td>1</td>\n",
              "      <td>8</td>\n",
              "      <td>9</td>\n",
              "      <td>7</td>\n",
              "      <td>10</td>\n",
              "      <td>14</td>\n",
              "      <td>9</td>\n",
              "    </tr>\n",
              "    <tr>\n",
              "      <th>1</th>\n",
              "      <td>0</td>\n",
              "      <td>1000</td>\n",
              "      <td>30</td>\n",
              "      <td>36.01</td>\n",
              "      <td>50</td>\n",
              "      <td>3</td>\n",
              "      <td>0</td>\n",
              "      <td>8</td>\n",
              "      <td>9</td>\n",
              "      <td>7</td>\n",
              "      <td>10</td>\n",
              "      <td>7</td>\n",
              "      <td>10</td>\n",
              "    </tr>\n",
              "    <tr>\n",
              "      <th>2</th>\n",
              "      <td>0</td>\n",
              "      <td>1000</td>\n",
              "      <td>30</td>\n",
              "      <td>36.01</td>\n",
              "      <td>33</td>\n",
              "      <td>3</td>\n",
              "      <td>0</td>\n",
              "      <td>8</td>\n",
              "      <td>9</td>\n",
              "      <td>7</td>\n",
              "      <td>10</td>\n",
              "      <td>25</td>\n",
              "      <td>9</td>\n",
              "    </tr>\n",
              "    <tr>\n",
              "      <th>3</th>\n",
              "      <td>0</td>\n",
              "      <td>1000</td>\n",
              "      <td>15</td>\n",
              "      <td>36.01</td>\n",
              "      <td>27</td>\n",
              "      <td>2</td>\n",
              "      <td>1</td>\n",
              "      <td>8</td>\n",
              "      <td>9</td>\n",
              "      <td>22</td>\n",
              "      <td>9</td>\n",
              "      <td>22</td>\n",
              "      <td>9</td>\n",
              "    </tr>\n",
              "    <tr>\n",
              "      <th>4</th>\n",
              "      <td>0</td>\n",
              "      <td>1000</td>\n",
              "      <td>30</td>\n",
              "      <td>36.01</td>\n",
              "      <td>28</td>\n",
              "      <td>2</td>\n",
              "      <td>0</td>\n",
              "      <td>9</td>\n",
              "      <td>9</td>\n",
              "      <td>8</td>\n",
              "      <td>10</td>\n",
              "      <td>23</td>\n",
              "      <td>9</td>\n",
              "    </tr>\n",
              "  </tbody>\n",
              "</table>\n",
              "</div>"
            ],
            "text/plain": [
              "   loan_status  Principal  terms  past_due_days  age  education  Gender  \\\n",
              "0            0       1000     30          36.01   45          1       1   \n",
              "1            0       1000     30          36.01   50          3       0   \n",
              "2            0       1000     30          36.01   33          3       0   \n",
              "3            0       1000     15          36.01   27          2       1   \n",
              "4            0       1000     30          36.01   28          2       0   \n",
              "\n",
              "   effective_date_day  effective_date_month  due_date_day  due_date_month  \\\n",
              "0                   8                     9             7              10   \n",
              "1                   8                     9             7              10   \n",
              "2                   8                     9             7              10   \n",
              "3                   8                     9            22               9   \n",
              "4                   9                     9             8              10   \n",
              "\n",
              "   paid_off_time_day  paid_off_time_month  \n",
              "0                 14                    9  \n",
              "1                  7                   10  \n",
              "2                 25                    9  \n",
              "3                 22                    9  \n",
              "4                 23                    9  "
            ]
          },
          "execution_count": 221,
          "metadata": {},
          "output_type": "execute_result"
        }
      ],
      "source": [
        "df.head()"
      ]
    },
    {
      "cell_type": "code",
      "execution_count": null,
      "metadata": {
        "id": "0N5kWiyB1e63"
      },
      "outputs": [],
      "source": [
        "X = df.drop('loan_status',axis=1)\n",
        "y = df['loan_status']"
      ]
    },
    {
      "cell_type": "code",
      "execution_count": null,
      "metadata": {
        "id": "T8lxj-S11e63"
      },
      "outputs": [],
      "source": [
        "from sklearn.model_selection import train_test_split"
      ]
    },
    {
      "cell_type": "code",
      "execution_count": null,
      "metadata": {
        "id": "d6oozeLO1e63"
      },
      "outputs": [],
      "source": [
        "X_train, X_test, y_train, y_test = train_test_split(X, y, test_size=0.3, random_state=42)"
      ]
    },
    {
      "cell_type": "code",
      "execution_count": null,
      "metadata": {
        "id": "Pm9ruHMD1e64"
      },
      "outputs": [],
      "source": [
        "from sklearn.preprocessing import StandardScaler\n",
        "scaler = StandardScaler()\n",
        "scaler.fit(X_train,y_train)\n",
        "X_train_scaled = scaler.transform(X_train)\n",
        "X_test_scaled = scaler.transform(X_test)"
      ]
    },
    {
      "cell_type": "code",
      "execution_count": null,
      "metadata": {
        "id": "mWILHr4K1e64"
      },
      "outputs": [],
      "source": [
        "from sklearn.linear_model import LogisticRegression"
      ]
    },
    {
      "cell_type": "code",
      "execution_count": null,
      "metadata": {
        "id": "6Ix421nd1e64"
      },
      "outputs": [],
      "source": [
        "lr = LogisticRegression()"
      ]
    },
    {
      "cell_type": "code",
      "execution_count": null,
      "metadata": {
        "id": "dCoeyhN41e64"
      },
      "outputs": [],
      "source": [
        "from sklearn.model_selection import RandomizedSearchCV"
      ]
    },
    {
      "cell_type": "code",
      "execution_count": null,
      "metadata": {
        "id": "xDc6KeG51e64"
      },
      "outputs": [],
      "source": [
        "n_estimators = [int(x) for x in np.linspace(start=1000,stop=1200,num=6)]\n",
        "max_features = [\"auto\",\"sqrt\"]\n",
        "max_depth = [int(x) for x in np.linspace(start=7,stop=30,num=4)]\n",
        "min_samples_split = [5,10,15,100]"
      ]
    },
    {
      "cell_type": "code",
      "execution_count": null,
      "metadata": {
        "id": "lHv5NLRZ1e64"
      },
      "outputs": [],
      "source": [
        "random_grid = {\"n_estimators\": n_estimators,\n",
        "              \"max_features\" : max_features,\n",
        "              \"max_depth\" : max_depth,\n",
        "              \"min_samples_split\" : min_samples_split}"
      ]
    },
    {
      "cell_type": "code",
      "execution_count": null,
      "metadata": {
        "id": "L92q7YtB1e65"
      },
      "outputs": [],
      "source": [
        "penalty = ['l2']\n",
        "C = [1]\n",
        "dual = [False]\n",
        "class_weight = ['dict','balanced']\n",
        "l1_ratio = ['float']\n",
        "intercept_scaling= [1]\n",
        "max_iter= [int(x) for x in np.linspace(start=100,stop=500,num=3)]\n",
        "multi_class = ['ovr','ovo']"
      ]
    },
    {
      "cell_type": "code",
      "execution_count": null,
      "metadata": {
        "id": "jpH7x-Te1e65"
      },
      "outputs": [],
      "source": [
        "random_gr = {\"penalty\" : penalty,\n",
        "            \"C\":C,\n",
        "            \"dual\":dual,\n",
        "            \"class_weight\":class_weight,\n",
        "            \"l1_ratio\":l1_ratio,\n",
        "            \"intercept_scaling\":intercept_scaling,\n",
        "            \"max_iter\":max_iter,\n",
        "            \"multi_class\":multi_class}"
      ]
    },
    {
      "cell_type": "code",
      "execution_count": null,
      "metadata": {
        "id": "DdOfKtsk1e65"
      },
      "outputs": [],
      "source": [
        "rf_random = RandomizedSearchCV(lr,param_distributions=random_gr,cv=3,verbose=2,n_jobs=-1)"
      ]
    },
    {
      "cell_type": "code",
      "execution_count": null,
      "metadata": {
        "id": "VJPizDSo1e65",
        "outputId": "8e13b9b6-1aa5-4158-c63f-aab460dc28ce"
      },
      "outputs": [
        {
          "name": "stdout",
          "output_type": "stream",
          "text": [
            "Fitting 3 folds for each of 10 candidates, totalling 30 fits\n"
          ]
        },
        {
          "name": "stderr",
          "output_type": "stream",
          "text": [
            "C:\\Users\\43720\\AppData\\Roaming\\Python\\Python38\\site-packages\\sklearn\\model_selection\\_validation.py:378: FitFailedWarning: \n",
            "15 fits failed out of a total of 30.\n",
            "The score on these train-test partitions for these parameters will be set to nan.\n",
            "If these failures are not expected, you can try to debug them by setting error_score='raise'.\n",
            "\n",
            "Below are more details about the failures:\n",
            "--------------------------------------------------------------------------------\n",
            "15 fits failed with the following error:\n",
            "Traceback (most recent call last):\n",
            "  File \"C:\\Users\\43720\\AppData\\Roaming\\Python\\Python38\\site-packages\\sklearn\\model_selection\\_validation.py\", line 686, in _fit_and_score\n",
            "    estimator.fit(X_train, y_train, **fit_params)\n",
            "  File \"C:\\Users\\43720\\AppData\\Roaming\\Python\\Python38\\site-packages\\sklearn\\linear_model\\_logistic.py\", line 1149, in fit\n",
            "    multi_class = _check_multi_class(self.multi_class, solver, len(self.classes_))\n",
            "  File \"C:\\Users\\43720\\AppData\\Roaming\\Python\\Python38\\site-packages\\sklearn\\linear_model\\_logistic.py\", line 92, in _check_multi_class\n",
            "    raise ValueError(\n",
            "ValueError: multi_class should be 'multinomial', 'ovr' or 'auto'. Got ovo.\n",
            "\n",
            "  warnings.warn(some_fits_failed_message, FitFailedWarning)\n",
            "C:\\Users\\43720\\AppData\\Roaming\\Python\\Python38\\site-packages\\sklearn\\model_selection\\_search.py:953: UserWarning: One or more of the test scores are non-finite: [0.99140387 0.99140387        nan        nan        nan 0.9856813\n",
            "        nan 0.9856813         nan 0.99140387]\n",
            "  warnings.warn(\n",
            "C:\\Users\\43720\\AppData\\Roaming\\Python\\Python38\\site-packages\\sklearn\\linear_model\\_logistic.py:1106: UserWarning: l1_ratio parameter is only used when penalty is 'elasticnet'. Got (penalty=l2)\n",
            "  warnings.warn(\n"
          ]
        },
        {
          "data": {
            "text/html": [
              "<style>#sk-container-id-3 {color: black;background-color: white;}#sk-container-id-3 pre{padding: 0;}#sk-container-id-3 div.sk-toggleable {background-color: white;}#sk-container-id-3 label.sk-toggleable__label {cursor: pointer;display: block;width: 100%;margin-bottom: 0;padding: 0.3em;box-sizing: border-box;text-align: center;}#sk-container-id-3 label.sk-toggleable__label-arrow:before {content: \"▸\";float: left;margin-right: 0.25em;color: #696969;}#sk-container-id-3 label.sk-toggleable__label-arrow:hover:before {color: black;}#sk-container-id-3 div.sk-estimator:hover label.sk-toggleable__label-arrow:before {color: black;}#sk-container-id-3 div.sk-toggleable__content {max-height: 0;max-width: 0;overflow: hidden;text-align: left;background-color: #f0f8ff;}#sk-container-id-3 div.sk-toggleable__content pre {margin: 0.2em;color: black;border-radius: 0.25em;background-color: #f0f8ff;}#sk-container-id-3 input.sk-toggleable__control:checked~div.sk-toggleable__content {max-height: 200px;max-width: 100%;overflow: auto;}#sk-container-id-3 input.sk-toggleable__control:checked~label.sk-toggleable__label-arrow:before {content: \"▾\";}#sk-container-id-3 div.sk-estimator input.sk-toggleable__control:checked~label.sk-toggleable__label {background-color: #d4ebff;}#sk-container-id-3 div.sk-label input.sk-toggleable__control:checked~label.sk-toggleable__label {background-color: #d4ebff;}#sk-container-id-3 input.sk-hidden--visually {border: 0;clip: rect(1px 1px 1px 1px);clip: rect(1px, 1px, 1px, 1px);height: 1px;margin: -1px;overflow: hidden;padding: 0;position: absolute;width: 1px;}#sk-container-id-3 div.sk-estimator {font-family: monospace;background-color: #f0f8ff;border: 1px dotted black;border-radius: 0.25em;box-sizing: border-box;margin-bottom: 0.5em;}#sk-container-id-3 div.sk-estimator:hover {background-color: #d4ebff;}#sk-container-id-3 div.sk-parallel-item::after {content: \"\";width: 100%;border-bottom: 1px solid gray;flex-grow: 1;}#sk-container-id-3 div.sk-label:hover label.sk-toggleable__label {background-color: #d4ebff;}#sk-container-id-3 div.sk-serial::before {content: \"\";position: absolute;border-left: 1px solid gray;box-sizing: border-box;top: 0;bottom: 0;left: 50%;z-index: 0;}#sk-container-id-3 div.sk-serial {display: flex;flex-direction: column;align-items: center;background-color: white;padding-right: 0.2em;padding-left: 0.2em;position: relative;}#sk-container-id-3 div.sk-item {position: relative;z-index: 1;}#sk-container-id-3 div.sk-parallel {display: flex;align-items: stretch;justify-content: center;background-color: white;position: relative;}#sk-container-id-3 div.sk-item::before, #sk-container-id-3 div.sk-parallel-item::before {content: \"\";position: absolute;border-left: 1px solid gray;box-sizing: border-box;top: 0;bottom: 0;left: 50%;z-index: -1;}#sk-container-id-3 div.sk-parallel-item {display: flex;flex-direction: column;z-index: 1;position: relative;background-color: white;}#sk-container-id-3 div.sk-parallel-item:first-child::after {align-self: flex-end;width: 50%;}#sk-container-id-3 div.sk-parallel-item:last-child::after {align-self: flex-start;width: 50%;}#sk-container-id-3 div.sk-parallel-item:only-child::after {width: 0;}#sk-container-id-3 div.sk-dashed-wrapped {border: 1px dashed gray;margin: 0 0.4em 0.5em 0.4em;box-sizing: border-box;padding-bottom: 0.4em;background-color: white;}#sk-container-id-3 div.sk-label label {font-family: monospace;font-weight: bold;display: inline-block;line-height: 1.2em;}#sk-container-id-3 div.sk-label-container {text-align: center;}#sk-container-id-3 div.sk-container {/* jupyter's `normalize.less` sets `[hidden] { display: none; }` but bootstrap.min.css set `[hidden] { display: none !important; }` so we also need the `!important` here to be able to override the default hidden behavior on the sphinx rendered scikit-learn.org. See: https://github.com/scikit-learn/scikit-learn/issues/21755 */display: inline-block !important;position: relative;}#sk-container-id-3 div.sk-text-repr-fallback {display: none;}</style><div id=\"sk-container-id-3\" class=\"sk-top-container\"><div class=\"sk-text-repr-fallback\"><pre>RandomizedSearchCV(cv=3, estimator=LogisticRegression(), n_jobs=-1,\n",
              "                   param_distributions={&#x27;C&#x27;: [1],\n",
              "                                        &#x27;class_weight&#x27;: [&#x27;dict&#x27;, &#x27;balanced&#x27;],\n",
              "                                        &#x27;dual&#x27;: [False],\n",
              "                                        &#x27;intercept_scaling&#x27;: [1],\n",
              "                                        &#x27;l1_ratio&#x27;: [&#x27;float&#x27;],\n",
              "                                        &#x27;max_iter&#x27;: [100, 300, 500],\n",
              "                                        &#x27;multi_class&#x27;: [&#x27;ovr&#x27;, &#x27;ovo&#x27;],\n",
              "                                        &#x27;penalty&#x27;: [&#x27;l2&#x27;]},\n",
              "                   verbose=2)</pre><b>In a Jupyter environment, please rerun this cell to show the HTML representation or trust the notebook. <br />On GitHub, the HTML representation is unable to render, please try loading this page with nbviewer.org.</b></div><div class=\"sk-container\" hidden><div class=\"sk-item sk-dashed-wrapped\"><div class=\"sk-label-container\"><div class=\"sk-label sk-toggleable\"><input class=\"sk-toggleable__control sk-hidden--visually\" id=\"sk-estimator-id-7\" type=\"checkbox\" ><label for=\"sk-estimator-id-7\" class=\"sk-toggleable__label sk-toggleable__label-arrow\">RandomizedSearchCV</label><div class=\"sk-toggleable__content\"><pre>RandomizedSearchCV(cv=3, estimator=LogisticRegression(), n_jobs=-1,\n",
              "                   param_distributions={&#x27;C&#x27;: [1],\n",
              "                                        &#x27;class_weight&#x27;: [&#x27;dict&#x27;, &#x27;balanced&#x27;],\n",
              "                                        &#x27;dual&#x27;: [False],\n",
              "                                        &#x27;intercept_scaling&#x27;: [1],\n",
              "                                        &#x27;l1_ratio&#x27;: [&#x27;float&#x27;],\n",
              "                                        &#x27;max_iter&#x27;: [100, 300, 500],\n",
              "                                        &#x27;multi_class&#x27;: [&#x27;ovr&#x27;, &#x27;ovo&#x27;],\n",
              "                                        &#x27;penalty&#x27;: [&#x27;l2&#x27;]},\n",
              "                   verbose=2)</pre></div></div></div><div class=\"sk-parallel\"><div class=\"sk-parallel-item\"><div class=\"sk-item\"><div class=\"sk-label-container\"><div class=\"sk-label sk-toggleable\"><input class=\"sk-toggleable__control sk-hidden--visually\" id=\"sk-estimator-id-8\" type=\"checkbox\" ><label for=\"sk-estimator-id-8\" class=\"sk-toggleable__label sk-toggleable__label-arrow\">estimator: LogisticRegression</label><div class=\"sk-toggleable__content\"><pre>LogisticRegression()</pre></div></div></div><div class=\"sk-serial\"><div class=\"sk-item\"><div class=\"sk-estimator sk-toggleable\"><input class=\"sk-toggleable__control sk-hidden--visually\" id=\"sk-estimator-id-9\" type=\"checkbox\" ><label for=\"sk-estimator-id-9\" class=\"sk-toggleable__label sk-toggleable__label-arrow\">LogisticRegression</label><div class=\"sk-toggleable__content\"><pre>LogisticRegression()</pre></div></div></div></div></div></div></div></div></div></div>"
            ],
            "text/plain": [
              "RandomizedSearchCV(cv=3, estimator=LogisticRegression(), n_jobs=-1,\n",
              "                   param_distributions={'C': [1],\n",
              "                                        'class_weight': ['dict', 'balanced'],\n",
              "                                        'dual': [False],\n",
              "                                        'intercept_scaling': [1],\n",
              "                                        'l1_ratio': ['float'],\n",
              "                                        'max_iter': [100, 300, 500],\n",
              "                                        'multi_class': ['ovr', 'ovo'],\n",
              "                                        'penalty': ['l2']},\n",
              "                   verbose=2)"
            ]
          },
          "execution_count": 313,
          "metadata": {},
          "output_type": "execute_result"
        }
      ],
      "source": [
        "rf_random.fit(X_train_scaled,y_train)"
      ]
    },
    {
      "cell_type": "code",
      "execution_count": null,
      "metadata": {
        "id": "IlMjBhwJ1e65",
        "outputId": "5da543fe-d61a-4336-ab0e-b7f99e01946d"
      },
      "outputs": [
        {
          "data": {
            "text/plain": [
              "{'penalty': 'l2',\n",
              " 'multi_class': 'ovr',\n",
              " 'max_iter': 300,\n",
              " 'l1_ratio': 'float',\n",
              " 'intercept_scaling': 1,\n",
              " 'dual': False,\n",
              " 'class_weight': 'balanced',\n",
              " 'C': 1}"
            ]
          },
          "execution_count": 314,
          "metadata": {},
          "output_type": "execute_result"
        }
      ],
      "source": [
        "rf_random.best_params_"
      ]
    },
    {
      "cell_type": "code",
      "execution_count": null,
      "metadata": {
        "id": "4nOAeyUF1e66",
        "outputId": "7f86f98f-50c8-4878-f404-10ce7a9a785a"
      },
      "outputs": [
        {
          "data": {
            "text/plain": [
              "array([-1,  0, -1,  0,  0, -1, -1,  0,  0,  1,  0,  0,  1,  0, -1, -1,  1,\n",
              "        0, -1, -1,  1,  1,  0, -1,  0,  1,  1,  0,  0, -1,  1, -1,  1,  0,\n",
              "        0, -1,  1,  0,  0,  0, -1,  0,  1,  0,  0,  0,  0,  0,  1,  0,  0,\n",
              "        0,  0,  1,  0,  0,  0,  0,  0,  0,  1,  0, -1,  1,  0,  0,  1,  0,\n",
              "        0, -1, -1, -1,  0,  0, -1, -1,  0,  0,  1,  1,  0,  0,  1,  0, -1,\n",
              "        0,  0,  1, -1,  0, -1,  1, -1, -1,  1, -1,  0,  0,  1,  0,  0,  1,\n",
              "        0, -1, -1,  0, -1,  0, -1,  0,  0,  1, -1,  0,  1,  0,  0,  0,  0,\n",
              "        0,  0,  0, -1,  0,  0,  0,  1,  0,  0, -1,  0,  0,  1,  0,  0,  0,\n",
              "        0,  0,  0,  0,  0,  0,  1,  0,  0,  0,  0,  0,  0,  1],\n",
              "      dtype=int64)"
            ]
          },
          "execution_count": 315,
          "metadata": {},
          "output_type": "execute_result"
        }
      ],
      "source": [
        "y_pred = rf_random.predict(X_test_scaled)\n",
        "y_pred"
      ]
    },
    {
      "cell_type": "code",
      "execution_count": null,
      "metadata": {
        "id": "o40srC-h1e66",
        "outputId": "a00f44f1-2b77-42b0-a424-66852bdd9ab9"
      },
      "outputs": [
        {
          "data": {
            "text/html": [
              "<div>\n",
              "<style scoped>\n",
              "    .dataframe tbody tr th:only-of-type {\n",
              "        vertical-align: middle;\n",
              "    }\n",
              "\n",
              "    .dataframe tbody tr th {\n",
              "        vertical-align: top;\n",
              "    }\n",
              "\n",
              "    .dataframe thead th {\n",
              "        text-align: right;\n",
              "    }\n",
              "</style>\n",
              "<table border=\"1\" class=\"dataframe\">\n",
              "  <thead>\n",
              "    <tr style=\"text-align: right;\">\n",
              "      <th></th>\n",
              "      <th>Actual</th>\n",
              "      <th>Predicted</th>\n",
              "    </tr>\n",
              "  </thead>\n",
              "  <tbody>\n",
              "    <tr>\n",
              "      <th>361</th>\n",
              "      <td>-1</td>\n",
              "      <td>-1</td>\n",
              "    </tr>\n",
              "    <tr>\n",
              "      <th>73</th>\n",
              "      <td>0</td>\n",
              "      <td>0</td>\n",
              "    </tr>\n",
              "    <tr>\n",
              "      <th>374</th>\n",
              "      <td>-1</td>\n",
              "      <td>-1</td>\n",
              "    </tr>\n",
              "    <tr>\n",
              "      <th>155</th>\n",
              "      <td>0</td>\n",
              "      <td>0</td>\n",
              "    </tr>\n",
              "    <tr>\n",
              "      <th>104</th>\n",
              "      <td>0</td>\n",
              "      <td>0</td>\n",
              "    </tr>\n",
              "    <tr>\n",
              "      <th>...</th>\n",
              "      <td>...</td>\n",
              "      <td>...</td>\n",
              "    </tr>\n",
              "    <tr>\n",
              "      <th>266</th>\n",
              "      <td>0</td>\n",
              "      <td>0</td>\n",
              "    </tr>\n",
              "    <tr>\n",
              "      <th>23</th>\n",
              "      <td>0</td>\n",
              "      <td>0</td>\n",
              "    </tr>\n",
              "    <tr>\n",
              "      <th>222</th>\n",
              "      <td>0</td>\n",
              "      <td>0</td>\n",
              "    </tr>\n",
              "    <tr>\n",
              "      <th>261</th>\n",
              "      <td>0</td>\n",
              "      <td>0</td>\n",
              "    </tr>\n",
              "    <tr>\n",
              "      <th>426</th>\n",
              "      <td>1</td>\n",
              "      <td>1</td>\n",
              "    </tr>\n",
              "  </tbody>\n",
              "</table>\n",
              "<p>150 rows × 2 columns</p>\n",
              "</div>"
            ],
            "text/plain": [
              "     Actual  Predicted\n",
              "361      -1         -1\n",
              "73        0          0\n",
              "374      -1         -1\n",
              "155       0          0\n",
              "104       0          0\n",
              "..      ...        ...\n",
              "266       0          0\n",
              "23        0          0\n",
              "222       0          0\n",
              "261       0          0\n",
              "426       1          1\n",
              "\n",
              "[150 rows x 2 columns]"
            ]
          },
          "execution_count": 316,
          "metadata": {},
          "output_type": "execute_result"
        }
      ],
      "source": [
        "df2 = pd.DataFrame({\"Actual\":y_test,\"Predicted\":y_pred})\n",
        "df2"
      ]
    },
    {
      "cell_type": "code",
      "execution_count": null,
      "metadata": {
        "id": "tVyACyQR1e66"
      },
      "outputs": [],
      "source": [
        "from sklearn.metrics import classification_report"
      ]
    },
    {
      "cell_type": "code",
      "execution_count": null,
      "metadata": {
        "id": "K3uVSwc41e66",
        "outputId": "37479727-880e-495b-e2e5-f6f3e404e110"
      },
      "outputs": [
        {
          "name": "stdout",
          "output_type": "stream",
          "text": [
            "              precision    recall  f1-score   support\n",
            "\n",
            "          -1       0.97      1.00      0.98        31\n",
            "           0       1.00      1.00      1.00        88\n",
            "           1       1.00      0.97      0.98        31\n",
            "\n",
            "    accuracy                           0.99       150\n",
            "   macro avg       0.99      0.99      0.99       150\n",
            "weighted avg       0.99      0.99      0.99       150\n",
            "\n"
          ]
        }
      ],
      "source": [
        "print(classification_report(y_test,y_pred))"
      ]
    },
    {
      "cell_type": "code",
      "execution_count": null,
      "metadata": {
        "id": "Uv5iizAv1e66",
        "outputId": "37c2fdf1-17b1-4b4c-b9e6-694b1ed59cab"
      },
      "outputs": [
        {
          "data": {
            "text/plain": [
              "array([[31,  0,  0],\n",
              "       [ 0, 88,  0],\n",
              "       [ 1,  0, 30]], dtype=int64)"
            ]
          },
          "execution_count": 319,
          "metadata": {},
          "output_type": "execute_result"
        }
      ],
      "source": [
        "from sklearn.metrics import confusion_matrix\n",
        "confusion_matrix(y_test,y_pred)"
      ]
    },
    {
      "cell_type": "code",
      "execution_count": null,
      "metadata": {
        "id": "WGkM-wkF1e66",
        "outputId": "3e4351a7-5f4c-4aed-d6a9-b7ca3c2d203a"
      },
      "outputs": [
        {
          "name": "stderr",
          "output_type": "stream",
          "text": [
            "C:\\Program Files\\Anaconda3\\lib\\site-packages\\seaborn\\distributions.py:2551: FutureWarning: `distplot` is a deprecated function and will be removed in a future version. Please adapt your code to use either `displot` (a figure-level function with similar flexibility) or `histplot` (an axes-level function for histograms).\n",
            "  warnings.warn(msg, FutureWarning)\n"
          ]
        },
        {
          "data": {
            "text/plain": [
              "<AxesSubplot:xlabel='loan_status', ylabel='Density'>"
            ]
          },
          "execution_count": 320,
          "metadata": {},
          "output_type": "execute_result"
        },
        {
          "data": {
            "image/png": "[encoded data removed]",
            "text/plain": [
              "<Figure size 432x288 with 1 Axes>"
            ]
          },
          "metadata": {
            "needs_background": "light"
          },
          "output_type": "display_data"
        }
      ],
      "source": [
        "sns.distplot(y_test-y_pred)"
      ]
    },
    {
      "cell_type": "code",
      "execution_count": null,
      "metadata": {
        "id": "bdyKKTZI1e67"
      },
      "outputs": [],
      "source": [
        "#using roc score and roc curve\n",
        "from sklearn.metrics import roc_auc_score,roc_curve"
      ]
    },
    {
      "cell_type": "code",
      "execution_count": null,
      "metadata": {
        "id": "TeNKUM6l1e67",
        "outputId": "29b1a290-e8a6-4bcb-b2cd-95fee1529905"
      },
      "outputs": [
        {
          "ename": "ValueError",
          "evalue": "multi_class must be in ('ovo', 'ovr')",
          "output_type": "error",
          "traceback": [
            "\u001b[1;31m---------------------------------------------------------------------------\u001b[0m",
            "\u001b[1;31mValueError\u001b[0m                                Traceback (most recent call last)",
            "\u001b[1;32m<ipython-input-323-23155c8b18ea>\u001b[0m in \u001b[0;36m<module>\u001b[1;34m\u001b[0m\n\u001b[1;32m----> 1\u001b[1;33m \u001b[0mprint\u001b[0m\u001b[1;33m(\u001b[0m\u001b[0mroc_auc_score\u001b[0m\u001b[1;33m(\u001b[0m\u001b[0my_test\u001b[0m\u001b[1;33m,\u001b[0m\u001b[0my_pred\u001b[0m\u001b[1;33m)\u001b[0m\u001b[1;33m)\u001b[0m\u001b[1;33m\u001b[0m\u001b[1;33m\u001b[0m\u001b[0m\n\u001b[0m",
            "\u001b[1;32m~\\AppData\\Roaming\\Python\\Python38\\site-packages\\sklearn\\metrics\\_ranking.py\u001b[0m in \u001b[0;36mroc_auc_score\u001b[1;34m(y_true, y_score, average, sample_weight, max_fpr, multi_class, labels)\u001b[0m\n\u001b[0;32m    560\u001b[0m             )\n\u001b[0;32m    561\u001b[0m         \u001b[1;32mif\u001b[0m \u001b[0mmulti_class\u001b[0m \u001b[1;33m==\u001b[0m \u001b[1;34m\"raise\"\u001b[0m\u001b[1;33m:\u001b[0m\u001b[1;33m\u001b[0m\u001b[1;33m\u001b[0m\u001b[0m\n\u001b[1;32m--> 562\u001b[1;33m             \u001b[1;32mraise\u001b[0m \u001b[0mValueError\u001b[0m\u001b[1;33m(\u001b[0m\u001b[1;34m\"multi_class must be in ('ovo', 'ovr')\"\u001b[0m\u001b[1;33m)\u001b[0m\u001b[1;33m\u001b[0m\u001b[1;33m\u001b[0m\u001b[0m\n\u001b[0m\u001b[0;32m    563\u001b[0m         return _multiclass_roc_auc_score(\n\u001b[0;32m    564\u001b[0m             \u001b[0my_true\u001b[0m\u001b[1;33m,\u001b[0m \u001b[0my_score\u001b[0m\u001b[1;33m,\u001b[0m \u001b[0mlabels\u001b[0m\u001b[1;33m,\u001b[0m \u001b[0mmulti_class\u001b[0m\u001b[1;33m,\u001b[0m \u001b[0maverage\u001b[0m\u001b[1;33m,\u001b[0m \u001b[0msample_weight\u001b[0m\u001b[1;33m\u001b[0m\u001b[1;33m\u001b[0m\u001b[0m\n",
            "\u001b[1;31mValueError\u001b[0m: multi_class must be in ('ovo', 'ovr')"
          ]
        }
      ],
      "source": [
        "print(roc_auc_score(y_test,y_pred))"
      ]
    },
    {
      "cell_type": "code",
      "execution_count": null,
      "metadata": {
        "id": "LuQwaB5Z1e67",
        "outputId": "3e1f9f3f-2d40-4cff-ac58-6a3095bc9755"
      },
      "outputs": [
        {
          "data": {
            "text/plain": [
              "array([[<AxesSubplot:title={'center':'Principal'}>,\n",
              "        <AxesSubplot:title={'center':'terms'}>],\n",
              "       [<AxesSubplot:title={'center':'past_due_days'}>,\n",
              "        <AxesSubplot:title={'center':'age'}>]], dtype=object)"
            ]
          },
          "execution_count": 44,
          "metadata": {},
          "output_type": "execute_result"
        },
        {
          "data": {
            "image/png": "[encoded data removed]",
            "text/plain": [
              "<Figure size 1080x792 with 4 Axes>"
            ]
          },
          "metadata": {
            "needs_background": "light"
          },
          "output_type": "display_data"
        }
      ],
      "source": [
        "df.hist(figsize = (15,11), color=\"#008080\")"
      ]
    },
    {
      "cell_type": "code",
      "execution_count": null,
      "metadata": {
        "id": "egz6hI5e1e67",
        "outputId": "cc5635f4-21f5-4174-cf9f-53f69fece80d"
      },
      "outputs": [
        {
          "data": {
            "text/plain": [
              "<AxesSubplot:>"
            ]
          },
          "execution_count": 45,
          "metadata": {},
          "output_type": "execute_result"
        },
        {
          "data": {
            "image/png": "[encoded data removed]",
            "text/plain": [
              "<Figure size 432x288 with 1 Axes>"
            ]
          },
          "metadata": {
            "needs_background": "light"
          },
          "output_type": "display_data"
        }
      ],
      "source": [
        "df[\"past_due_days\"].hist()"
      ]
    },
    {
      "cell_type": "code",
      "execution_count": null,
      "metadata": {
        "id": "usZ3sXCh1e67"
      },
      "outputs": [],
      "source": [
        "df['paid_off_time'] = pd.to_datetime(df['paid_off_time']).dt.date"
      ]
    },
    {
      "cell_type": "code",
      "execution_count": null,
      "metadata": {
        "id": "RgbYBCv21e67"
      },
      "outputs": [],
      "source": [
        "df[\"past_due_days\"].fillna(df[\"past_due_days\"].mean(),inplace=True)"
      ]
    },
    {
      "cell_type": "code",
      "execution_count": null,
      "metadata": {
        "id": "IEdQ99tv1e68",
        "outputId": "909a9aa8-eef5-4242-ea7d-484d0dbd29da"
      },
      "outputs": [
        {
          "data": {
            "text/plain": [
              "Loan_ID             0\n",
              "loan_status         0\n",
              "Principal           0\n",
              "terms               0\n",
              "effective_date      0\n",
              "due_date            0\n",
              "paid_off_time     100\n",
              "past_due_days       0\n",
              "age                 0\n",
              "education           0\n",
              "Gender              0\n",
              "dtype: int64"
            ]
          },
          "execution_count": 51,
          "metadata": {},
          "output_type": "execute_result"
        }
      ],
      "source": [
        "df.isnull().sum()"
      ]
    },
    {
      "cell_type": "code",
      "execution_count": null,
      "metadata": {
        "id": "4jPY-Mdr1e68"
      },
      "outputs": [],
      "source": [
        "df[\"paid_off_time\"] = df[\"paid_off_time\"].fillna(-1)"
      ]
    },
    {
      "cell_type": "code",
      "execution_count": null,
      "metadata": {
        "id": "slGX1_UP1e68",
        "outputId": "e31ed481-8c05-46e1-c82c-08530de8d8f5"
      },
      "outputs": [
        {
          "data": {
            "text/html": [
              "<div>\n",
              "<style scoped>\n",
              "    .dataframe tbody tr th:only-of-type {\n",
              "        vertical-align: middle;\n",
              "    }\n",
              "\n",
              "    .dataframe tbody tr th {\n",
              "        vertical-align: top;\n",
              "    }\n",
              "\n",
              "    .dataframe thead th {\n",
              "        text-align: right;\n",
              "    }\n",
              "</style>\n",
              "<table border=\"1\" class=\"dataframe\">\n",
              "  <thead>\n",
              "    <tr style=\"text-align: right;\">\n",
              "      <th></th>\n",
              "      <th>Loan_ID</th>\n",
              "      <th>loan_status</th>\n",
              "      <th>Principal</th>\n",
              "      <th>terms</th>\n",
              "      <th>effective_date</th>\n",
              "      <th>due_date</th>\n",
              "      <th>paid_off_time</th>\n",
              "      <th>past_due_days</th>\n",
              "      <th>age</th>\n",
              "      <th>education</th>\n",
              "      <th>Gender</th>\n",
              "    </tr>\n",
              "  </thead>\n",
              "  <tbody>\n",
              "    <tr>\n",
              "      <th>0</th>\n",
              "      <td>xqd20166231</td>\n",
              "      <td>PAIDOFF</td>\n",
              "      <td>1000</td>\n",
              "      <td>30</td>\n",
              "      <td>2016-09-08</td>\n",
              "      <td>2016-10-07</td>\n",
              "      <td>2016-09-14</td>\n",
              "      <td>36.01</td>\n",
              "      <td>45</td>\n",
              "      <td>High School or Below</td>\n",
              "      <td>male</td>\n",
              "    </tr>\n",
              "    <tr>\n",
              "      <th>1</th>\n",
              "      <td>xqd20168902</td>\n",
              "      <td>PAIDOFF</td>\n",
              "      <td>1000</td>\n",
              "      <td>30</td>\n",
              "      <td>2016-09-08</td>\n",
              "      <td>2016-10-07</td>\n",
              "      <td>2016-10-07</td>\n",
              "      <td>36.01</td>\n",
              "      <td>50</td>\n",
              "      <td>Bechalor</td>\n",
              "      <td>female</td>\n",
              "    </tr>\n",
              "    <tr>\n",
              "      <th>2</th>\n",
              "      <td>xqd20160003</td>\n",
              "      <td>PAIDOFF</td>\n",
              "      <td>1000</td>\n",
              "      <td>30</td>\n",
              "      <td>2016-09-08</td>\n",
              "      <td>2016-10-07</td>\n",
              "      <td>2016-09-25</td>\n",
              "      <td>36.01</td>\n",
              "      <td>33</td>\n",
              "      <td>Bechalor</td>\n",
              "      <td>female</td>\n",
              "    </tr>\n",
              "    <tr>\n",
              "      <th>3</th>\n",
              "      <td>xqd20160004</td>\n",
              "      <td>PAIDOFF</td>\n",
              "      <td>1000</td>\n",
              "      <td>15</td>\n",
              "      <td>2016-09-08</td>\n",
              "      <td>2016-09-22</td>\n",
              "      <td>2016-09-22</td>\n",
              "      <td>36.01</td>\n",
              "      <td>27</td>\n",
              "      <td>college</td>\n",
              "      <td>male</td>\n",
              "    </tr>\n",
              "    <tr>\n",
              "      <th>4</th>\n",
              "      <td>xqd20160005</td>\n",
              "      <td>PAIDOFF</td>\n",
              "      <td>1000</td>\n",
              "      <td>30</td>\n",
              "      <td>2016-09-09</td>\n",
              "      <td>2016-10-08</td>\n",
              "      <td>2016-09-23</td>\n",
              "      <td>36.01</td>\n",
              "      <td>28</td>\n",
              "      <td>college</td>\n",
              "      <td>female</td>\n",
              "    </tr>\n",
              "  </tbody>\n",
              "</table>\n",
              "</div>"
            ],
            "text/plain": [
              "       Loan_ID loan_status  Principal  terms effective_date   due_date  \\\n",
              "0  xqd20166231     PAIDOFF       1000     30     2016-09-08 2016-10-07   \n",
              "1  xqd20168902     PAIDOFF       1000     30     2016-09-08 2016-10-07   \n",
              "2  xqd20160003     PAIDOFF       1000     30     2016-09-08 2016-10-07   \n",
              "3  xqd20160004     PAIDOFF       1000     15     2016-09-08 2016-09-22   \n",
              "4  xqd20160005     PAIDOFF       1000     30     2016-09-09 2016-10-08   \n",
              "\n",
              "  paid_off_time  past_due_days  age             education  Gender  \n",
              "0    2016-09-14          36.01   45  High School or Below    male  \n",
              "1    2016-10-07          36.01   50              Bechalor  female  \n",
              "2    2016-09-25          36.01   33              Bechalor  female  \n",
              "3    2016-09-22          36.01   27               college    male  \n",
              "4    2016-09-23          36.01   28               college  female  "
            ]
          },
          "execution_count": 53,
          "metadata": {},
          "output_type": "execute_result"
        }
      ],
      "source": [
        "df.head()"
      ]
    },
    {
      "cell_type": "code",
      "execution_count": null,
      "metadata": {
        "id": "_VWY2Bcf1e68"
      },
      "outputs": [],
      "source": [
        "df[\"education\"] = df[\"education\"].replace(\"Bechalor\",\"Bachelor\")"
      ]
    },
    {
      "cell_type": "code",
      "execution_count": null,
      "metadata": {
        "id": "dsoujJ1w1e68",
        "outputId": "456de7e3-35e1-4319-eb64-6784dd49f628"
      },
      "outputs": [
        {
          "data": {
            "text/html": [
              "<div>\n",
              "<style scoped>\n",
              "    .dataframe tbody tr th:only-of-type {\n",
              "        vertical-align: middle;\n",
              "    }\n",
              "\n",
              "    .dataframe tbody tr th {\n",
              "        vertical-align: top;\n",
              "    }\n",
              "\n",
              "    .dataframe thead th {\n",
              "        text-align: right;\n",
              "    }\n",
              "</style>\n",
              "<table border=\"1\" class=\"dataframe\">\n",
              "  <thead>\n",
              "    <tr style=\"text-align: right;\">\n",
              "      <th></th>\n",
              "      <th>Loan_ID</th>\n",
              "      <th>loan_status</th>\n",
              "      <th>Principal</th>\n",
              "      <th>terms</th>\n",
              "      <th>effective_date</th>\n",
              "      <th>due_date</th>\n",
              "      <th>paid_off_time</th>\n",
              "      <th>past_due_days</th>\n",
              "      <th>age</th>\n",
              "      <th>education</th>\n",
              "      <th>Gender</th>\n",
              "    </tr>\n",
              "  </thead>\n",
              "  <tbody>\n",
              "    <tr>\n",
              "      <th>0</th>\n",
              "      <td>xqd20166231</td>\n",
              "      <td>PAIDOFF</td>\n",
              "      <td>1000</td>\n",
              "      <td>30</td>\n",
              "      <td>2016-09-08</td>\n",
              "      <td>2016-10-07</td>\n",
              "      <td>2016-09-14</td>\n",
              "      <td>36.01</td>\n",
              "      <td>45</td>\n",
              "      <td>High School or Below</td>\n",
              "      <td>male</td>\n",
              "    </tr>\n",
              "    <tr>\n",
              "      <th>1</th>\n",
              "      <td>xqd20168902</td>\n",
              "      <td>PAIDOFF</td>\n",
              "      <td>1000</td>\n",
              "      <td>30</td>\n",
              "      <td>2016-09-08</td>\n",
              "      <td>2016-10-07</td>\n",
              "      <td>2016-10-07</td>\n",
              "      <td>36.01</td>\n",
              "      <td>50</td>\n",
              "      <td>Bachelor</td>\n",
              "      <td>female</td>\n",
              "    </tr>\n",
              "    <tr>\n",
              "      <th>2</th>\n",
              "      <td>xqd20160003</td>\n",
              "      <td>PAIDOFF</td>\n",
              "      <td>1000</td>\n",
              "      <td>30</td>\n",
              "      <td>2016-09-08</td>\n",
              "      <td>2016-10-07</td>\n",
              "      <td>2016-09-25</td>\n",
              "      <td>36.01</td>\n",
              "      <td>33</td>\n",
              "      <td>Bachelor</td>\n",
              "      <td>female</td>\n",
              "    </tr>\n",
              "    <tr>\n",
              "      <th>3</th>\n",
              "      <td>xqd20160004</td>\n",
              "      <td>PAIDOFF</td>\n",
              "      <td>1000</td>\n",
              "      <td>15</td>\n",
              "      <td>2016-09-08</td>\n",
              "      <td>2016-09-22</td>\n",
              "      <td>2016-09-22</td>\n",
              "      <td>36.01</td>\n",
              "      <td>27</td>\n",
              "      <td>college</td>\n",
              "      <td>male</td>\n",
              "    </tr>\n",
              "    <tr>\n",
              "      <th>4</th>\n",
              "      <td>xqd20160005</td>\n",
              "      <td>PAIDOFF</td>\n",
              "      <td>1000</td>\n",
              "      <td>30</td>\n",
              "      <td>2016-09-09</td>\n",
              "      <td>2016-10-08</td>\n",
              "      <td>2016-09-23</td>\n",
              "      <td>36.01</td>\n",
              "      <td>28</td>\n",
              "      <td>college</td>\n",
              "      <td>female</td>\n",
              "    </tr>\n",
              "  </tbody>\n",
              "</table>\n",
              "</div>"
            ],
            "text/plain": [
              "       Loan_ID loan_status  Principal  terms effective_date   due_date  \\\n",
              "0  xqd20166231     PAIDOFF       1000     30     2016-09-08 2016-10-07   \n",
              "1  xqd20168902     PAIDOFF       1000     30     2016-09-08 2016-10-07   \n",
              "2  xqd20160003     PAIDOFF       1000     30     2016-09-08 2016-10-07   \n",
              "3  xqd20160004     PAIDOFF       1000     15     2016-09-08 2016-09-22   \n",
              "4  xqd20160005     PAIDOFF       1000     30     2016-09-09 2016-10-08   \n",
              "\n",
              "  paid_off_time  past_due_days  age             education  Gender  \n",
              "0    2016-09-14          36.01   45  High School or Below    male  \n",
              "1    2016-10-07          36.01   50              Bachelor  female  \n",
              "2    2016-09-25          36.01   33              Bachelor  female  \n",
              "3    2016-09-22          36.01   27               college    male  \n",
              "4    2016-09-23          36.01   28               college  female  "
            ]
          },
          "execution_count": 55,
          "metadata": {},
          "output_type": "execute_result"
        }
      ],
      "source": [
        "df.head()"
      ]
    },
    {
      "cell_type": "code",
      "execution_count": null,
      "metadata": {
        "id": "t3SL6quO1e68",
        "outputId": "4a8e20aa-26b3-4db9-e54d-a2d2385f354b"
      },
      "outputs": [
        {
          "data": {
            "text/plain": [
              "1000    377\n",
              "800     111\n",
              "300       6\n",
              "500       3\n",
              "900       2\n",
              "700       1\n",
              "Name: Principal, dtype: int64"
            ]
          },
          "execution_count": 56,
          "metadata": {},
          "output_type": "execute_result"
        }
      ],
      "source": [
        "df[\"Principal\"].value_counts()"
      ]
    },
    {
      "cell_type": "code",
      "execution_count": null,
      "metadata": {
        "id": "YvpGSzkN1e69",
        "outputId": "8a3d694b-4411-44d3-dbb1-6215844d935c"
      },
      "outputs": [
        {
          "data": {
            "text/plain": [
              "array(['2016-09-08T00:00:00.000000000', '2016-09-09T00:00:00.000000000',\n",
              "       '2016-09-10T00:00:00.000000000', '2016-09-11T00:00:00.000000000',\n",
              "       '2016-09-12T00:00:00.000000000', '2016-09-13T00:00:00.000000000',\n",
              "       '2016-09-14T00:00:00.000000000'], dtype='datetime64[ns]')"
            ]
          },
          "execution_count": 60,
          "metadata": {},
          "output_type": "execute_result"
        }
      ],
      "source": [
        "df[\"effective_date\"].unique()"
      ]
    },
    {
      "cell_type": "code",
      "execution_count": null,
      "metadata": {
        "id": "jAx9Z1cB1e69",
        "outputId": "93536bf3-51dc-4318-bb55-d6e82c28986b"
      },
      "outputs": [
        {
          "data": {
            "text/plain": [
              "array([datetime.date(2016, 9, 14), datetime.date(2016, 10, 7),\n",
              "       datetime.date(2016, 9, 25), datetime.date(2016, 9, 22),\n",
              "       datetime.date(2016, 9, 23), datetime.date(2016, 9, 9),\n",
              "       datetime.date(2016, 10, 5), datetime.date(2016, 10, 8),\n",
              "       datetime.date(2016, 9, 24), datetime.date(2016, 9, 11),\n",
              "       datetime.date(2016, 10, 9), datetime.date(2016, 9, 13),\n",
              "       datetime.date(2016, 9, 15), datetime.date(2016, 9, 27),\n",
              "       datetime.date(2016, 10, 3), datetime.date(2016, 9, 29),\n",
              "       datetime.date(2016, 9, 21), datetime.date(2016, 10, 10),\n",
              "       datetime.date(2016, 9, 20), datetime.date(2016, 9, 12),\n",
              "       datetime.date(2016, 9, 30), datetime.date(2016, 11, 9),\n",
              "       datetime.date(2016, 9, 17), datetime.date(2016, 10, 6),\n",
              "       datetime.date(2016, 9, 16), datetime.date(2016, 10, 25),\n",
              "       datetime.date(2016, 9, 26), datetime.date(2016, 10, 1),\n",
              "       datetime.date(2016, 9, 18), datetime.date(2016, 10, 26),\n",
              "       datetime.date(2016, 10, 11), datetime.date(2016, 11, 10),\n",
              "       datetime.date(2016, 9, 19), datetime.date(2016, 10, 12),\n",
              "       datetime.date(2016, 10, 4), datetime.date(2016, 9, 28),\n",
              "       datetime.date(2016, 10, 13), datetime.date(2016, 10, 14),\n",
              "       datetime.date(2016, 11, 12), -1, datetime.date(2016, 11, 20),\n",
              "       datetime.date(2016, 10, 21), datetime.date(2016, 11, 5),\n",
              "       datetime.date(2016, 11, 22), datetime.date(2016, 11, 4),\n",
              "       datetime.date(2016, 11, 3), datetime.date(2016, 11, 15),\n",
              "       datetime.date(2016, 10, 17), datetime.date(2016, 11, 14),\n",
              "       datetime.date(2016, 10, 24), datetime.date(2016, 11, 7),\n",
              "       datetime.date(2016, 11, 2), datetime.date(2016, 11, 18),\n",
              "       datetime.date(2016, 10, 30), datetime.date(2016, 11, 17),\n",
              "       datetime.date(2016, 11, 11), datetime.date(2016, 10, 15),\n",
              "       datetime.date(2016, 10, 27), datetime.date(2016, 12, 2),\n",
              "       datetime.date(2016, 11, 16), datetime.date(2016, 10, 31),\n",
              "       datetime.date(2016, 10, 20), datetime.date(2016, 10, 18),\n",
              "       datetime.date(2016, 11, 21), datetime.date(2016, 10, 19)],\n",
              "      dtype=object)"
            ]
          },
          "execution_count": 61,
          "metadata": {},
          "output_type": "execute_result"
        }
      ],
      "source": [
        "df[\"paid_off_time\"].unique()"
      ]
    },
    {
      "cell_type": "code",
      "execution_count": null,
      "metadata": {
        "id": "j4IAmXep1e69"
      },
      "outputs": [],
      "source": [
        "df[\"effective_day\"] = df[\"effective_date\"].dt.day"
      ]
    },
    {
      "cell_type": "code",
      "execution_count": null,
      "metadata": {
        "id": "wXwbglDk1e69"
      },
      "outputs": [],
      "source": [
        "df[\"effective_month\"] = df[\"effective_date\"].dt.month"
      ]
    },
    {
      "cell_type": "code",
      "execution_count": null,
      "metadata": {
        "id": "nwE9nzpI1e69"
      },
      "outputs": [],
      "source": [
        "df[\"due_day\"] = df[\"due_date\"].dt.day"
      ]
    },
    {
      "cell_type": "code",
      "execution_count": null,
      "metadata": {
        "id": "2qPyOw7c1e69"
      },
      "outputs": [],
      "source": [
        "df[\"due_month\"] = df[\"due_date\"].dt.month"
      ]
    },
    {
      "cell_type": "code",
      "execution_count": null,
      "metadata": {
        "id": "q7kkj7jt1e69",
        "outputId": "a7732b5c-03c0-4025-bc31-74c577f1317a"
      },
      "outputs": [
        {
          "data": {
            "text/html": [
              "<div>\n",
              "<style scoped>\n",
              "    .dataframe tbody tr th:only-of-type {\n",
              "        vertical-align: middle;\n",
              "    }\n",
              "\n",
              "    .dataframe tbody tr th {\n",
              "        vertical-align: top;\n",
              "    }\n",
              "\n",
              "    .dataframe thead th {\n",
              "        text-align: right;\n",
              "    }\n",
              "</style>\n",
              "<table border=\"1\" class=\"dataframe\">\n",
              "  <thead>\n",
              "    <tr style=\"text-align: right;\">\n",
              "      <th></th>\n",
              "      <th>Loan_ID</th>\n",
              "      <th>loan_status</th>\n",
              "      <th>Principal</th>\n",
              "      <th>terms</th>\n",
              "      <th>effective_date</th>\n",
              "      <th>due_date</th>\n",
              "      <th>paid_off_time</th>\n",
              "      <th>past_due_days</th>\n",
              "      <th>age</th>\n",
              "      <th>education</th>\n",
              "      <th>Gender</th>\n",
              "      <th>effective_day</th>\n",
              "      <th>effective_month</th>\n",
              "      <th>due_day</th>\n",
              "      <th>due_month</th>\n",
              "    </tr>\n",
              "  </thead>\n",
              "  <tbody>\n",
              "    <tr>\n",
              "      <th>0</th>\n",
              "      <td>xqd20166231</td>\n",
              "      <td>PAIDOFF</td>\n",
              "      <td>1000</td>\n",
              "      <td>30</td>\n",
              "      <td>2016-09-08</td>\n",
              "      <td>2016-10-07</td>\n",
              "      <td>2016-09-14</td>\n",
              "      <td>36.01</td>\n",
              "      <td>45</td>\n",
              "      <td>High School or Below</td>\n",
              "      <td>male</td>\n",
              "      <td>8</td>\n",
              "      <td>9</td>\n",
              "      <td>7</td>\n",
              "      <td>10</td>\n",
              "    </tr>\n",
              "    <tr>\n",
              "      <th>1</th>\n",
              "      <td>xqd20168902</td>\n",
              "      <td>PAIDOFF</td>\n",
              "      <td>1000</td>\n",
              "      <td>30</td>\n",
              "      <td>2016-09-08</td>\n",
              "      <td>2016-10-07</td>\n",
              "      <td>2016-10-07</td>\n",
              "      <td>36.01</td>\n",
              "      <td>50</td>\n",
              "      <td>Bachelor</td>\n",
              "      <td>female</td>\n",
              "      <td>8</td>\n",
              "      <td>9</td>\n",
              "      <td>7</td>\n",
              "      <td>10</td>\n",
              "    </tr>\n",
              "    <tr>\n",
              "      <th>2</th>\n",
              "      <td>xqd20160003</td>\n",
              "      <td>PAIDOFF</td>\n",
              "      <td>1000</td>\n",
              "      <td>30</td>\n",
              "      <td>2016-09-08</td>\n",
              "      <td>2016-10-07</td>\n",
              "      <td>2016-09-25</td>\n",
              "      <td>36.01</td>\n",
              "      <td>33</td>\n",
              "      <td>Bachelor</td>\n",
              "      <td>female</td>\n",
              "      <td>8</td>\n",
              "      <td>9</td>\n",
              "      <td>7</td>\n",
              "      <td>10</td>\n",
              "    </tr>\n",
              "    <tr>\n",
              "      <th>3</th>\n",
              "      <td>xqd20160004</td>\n",
              "      <td>PAIDOFF</td>\n",
              "      <td>1000</td>\n",
              "      <td>15</td>\n",
              "      <td>2016-09-08</td>\n",
              "      <td>2016-09-22</td>\n",
              "      <td>2016-09-22</td>\n",
              "      <td>36.01</td>\n",
              "      <td>27</td>\n",
              "      <td>college</td>\n",
              "      <td>male</td>\n",
              "      <td>8</td>\n",
              "      <td>9</td>\n",
              "      <td>22</td>\n",
              "      <td>9</td>\n",
              "    </tr>\n",
              "    <tr>\n",
              "      <th>4</th>\n",
              "      <td>xqd20160005</td>\n",
              "      <td>PAIDOFF</td>\n",
              "      <td>1000</td>\n",
              "      <td>30</td>\n",
              "      <td>2016-09-09</td>\n",
              "      <td>2016-10-08</td>\n",
              "      <td>2016-09-23</td>\n",
              "      <td>36.01</td>\n",
              "      <td>28</td>\n",
              "      <td>college</td>\n",
              "      <td>female</td>\n",
              "      <td>9</td>\n",
              "      <td>9</td>\n",
              "      <td>8</td>\n",
              "      <td>10</td>\n",
              "    </tr>\n",
              "  </tbody>\n",
              "</table>\n",
              "</div>"
            ],
            "text/plain": [
              "       Loan_ID loan_status  Principal  terms effective_date   due_date  \\\n",
              "0  xqd20166231     PAIDOFF       1000     30     2016-09-08 2016-10-07   \n",
              "1  xqd20168902     PAIDOFF       1000     30     2016-09-08 2016-10-07   \n",
              "2  xqd20160003     PAIDOFF       1000     30     2016-09-08 2016-10-07   \n",
              "3  xqd20160004     PAIDOFF       1000     15     2016-09-08 2016-09-22   \n",
              "4  xqd20160005     PAIDOFF       1000     30     2016-09-09 2016-10-08   \n",
              "\n",
              "  paid_off_time  past_due_days  age             education  Gender  \\\n",
              "0    2016-09-14          36.01   45  High School or Below    male   \n",
              "1    2016-10-07          36.01   50              Bachelor  female   \n",
              "2    2016-09-25          36.01   33              Bachelor  female   \n",
              "3    2016-09-22          36.01   27               college    male   \n",
              "4    2016-09-23          36.01   28               college  female   \n",
              "\n",
              "   effective_day  effective_month  due_day  due_month  \n",
              "0              8                9        7         10  \n",
              "1              8                9        7         10  \n",
              "2              8                9        7         10  \n",
              "3              8                9       22          9  \n",
              "4              9                9        8         10  "
            ]
          },
          "execution_count": 61,
          "metadata": {},
          "output_type": "execute_result"
        }
      ],
      "source": [
        "df.head()"
      ]
    },
    {
      "cell_type": "code",
      "execution_count": null,
      "metadata": {
        "id": "RVU97xEU1e6-",
        "outputId": "d6d8a238-60cd-4a1a-d42e-bbb89064fde3"
      },
      "outputs": [
        {
          "data": {
            "text/plain": [
              "-1            100\n",
              "2016-09-25     35\n",
              "2016-10-10     33\n",
              "2016-10-11     31\n",
              "2016-09-26     29\n",
              "             ... \n",
              "2016-11-03      1\n",
              "2016-10-31      1\n",
              "2016-12-02      1\n",
              "2016-11-21      1\n",
              "2016-09-09      1\n",
              "Name: paid_off_time, Length: 65, dtype: int64"
            ]
          },
          "execution_count": 62,
          "metadata": {},
          "output_type": "execute_result"
        }
      ],
      "source": [
        "df[\"paid_off_time\"].value_counts()"
      ]
    },
    {
      "cell_type": "code",
      "execution_count": null,
      "metadata": {
        "id": "w6U2AWai1e6-"
      },
      "outputs": [],
      "source": [
        "df[\"past_due_days\"] = df[\"past_due_days\"].astype('str')"
      ]
    },
    {
      "cell_type": "code",
      "execution_count": null,
      "metadata": {
        "id": "bnJ1GZBe1e6-"
      },
      "outputs": [],
      "source": [
        "df[[\"past_due_day\",\"past_due_extraday\"]] = df[\"past_due_days\"].str.split(\".\",expand=True)"
      ]
    },
    {
      "cell_type": "code",
      "execution_count": null,
      "metadata": {
        "id": "wv0SQmJA1e6-",
        "outputId": "88913646-8da2-46ef-c5c9-3a41979ceb96"
      },
      "outputs": [
        {
          "data": {
            "text/plain": [
              "01    300\n",
              "0     200\n",
              "Name: past_due_extraday, dtype: int64"
            ]
          },
          "execution_count": 88,
          "metadata": {},
          "output_type": "execute_result"
        }
      ],
      "source": [
        "df[\"past_due_extraday\"].value_counts()"
      ]
    },
    {
      "cell_type": "code",
      "execution_count": null,
      "metadata": {
        "id": "uGDFiXjz1e6-",
        "outputId": "1e1ef6d1-f2bb-4933-b902-5b7fc2cccec7"
      },
      "outputs": [
        {
          "data": {
            "text/html": [
              "<div>\n",
              "<style scoped>\n",
              "    .dataframe tbody tr th:only-of-type {\n",
              "        vertical-align: middle;\n",
              "    }\n",
              "\n",
              "    .dataframe tbody tr th {\n",
              "        vertical-align: top;\n",
              "    }\n",
              "\n",
              "    .dataframe thead th {\n",
              "        text-align: right;\n",
              "    }\n",
              "</style>\n",
              "<table border=\"1\" class=\"dataframe\">\n",
              "  <thead>\n",
              "    <tr style=\"text-align: right;\">\n",
              "      <th></th>\n",
              "      <th>Loan_ID</th>\n",
              "      <th>loan_status</th>\n",
              "      <th>Principal</th>\n",
              "      <th>terms</th>\n",
              "      <th>effective_date</th>\n",
              "      <th>due_date</th>\n",
              "      <th>paid_off_time</th>\n",
              "      <th>past_due_days</th>\n",
              "      <th>age</th>\n",
              "      <th>education</th>\n",
              "      <th>Gender</th>\n",
              "      <th>effective_day</th>\n",
              "      <th>effective_month</th>\n",
              "      <th>due_day</th>\n",
              "      <th>due_month</th>\n",
              "    </tr>\n",
              "  </thead>\n",
              "  <tbody>\n",
              "    <tr>\n",
              "      <th>0</th>\n",
              "      <td>xqd20166231</td>\n",
              "      <td>PAIDOFF</td>\n",
              "      <td>1000</td>\n",
              "      <td>30</td>\n",
              "      <td>2016-09-08</td>\n",
              "      <td>2016-10-07</td>\n",
              "      <td>2016-09-14</td>\n",
              "      <td>36.01</td>\n",
              "      <td>45</td>\n",
              "      <td>High School or Below</td>\n",
              "      <td>male</td>\n",
              "      <td>8</td>\n",
              "      <td>9</td>\n",
              "      <td>7</td>\n",
              "      <td>10</td>\n",
              "    </tr>\n",
              "    <tr>\n",
              "      <th>1</th>\n",
              "      <td>xqd20168902</td>\n",
              "      <td>PAIDOFF</td>\n",
              "      <td>1000</td>\n",
              "      <td>30</td>\n",
              "      <td>2016-09-08</td>\n",
              "      <td>2016-10-07</td>\n",
              "      <td>2016-10-07</td>\n",
              "      <td>36.01</td>\n",
              "      <td>50</td>\n",
              "      <td>Bachelor</td>\n",
              "      <td>female</td>\n",
              "      <td>8</td>\n",
              "      <td>9</td>\n",
              "      <td>7</td>\n",
              "      <td>10</td>\n",
              "    </tr>\n",
              "    <tr>\n",
              "      <th>2</th>\n",
              "      <td>xqd20160003</td>\n",
              "      <td>PAIDOFF</td>\n",
              "      <td>1000</td>\n",
              "      <td>30</td>\n",
              "      <td>2016-09-08</td>\n",
              "      <td>2016-10-07</td>\n",
              "      <td>2016-09-25</td>\n",
              "      <td>36.01</td>\n",
              "      <td>33</td>\n",
              "      <td>Bachelor</td>\n",
              "      <td>female</td>\n",
              "      <td>8</td>\n",
              "      <td>9</td>\n",
              "      <td>7</td>\n",
              "      <td>10</td>\n",
              "    </tr>\n",
              "    <tr>\n",
              "      <th>3</th>\n",
              "      <td>xqd20160004</td>\n",
              "      <td>PAIDOFF</td>\n",
              "      <td>1000</td>\n",
              "      <td>15</td>\n",
              "      <td>2016-09-08</td>\n",
              "      <td>2016-09-22</td>\n",
              "      <td>2016-09-22</td>\n",
              "      <td>36.01</td>\n",
              "      <td>27</td>\n",
              "      <td>college</td>\n",
              "      <td>male</td>\n",
              "      <td>8</td>\n",
              "      <td>9</td>\n",
              "      <td>22</td>\n",
              "      <td>9</td>\n",
              "    </tr>\n",
              "    <tr>\n",
              "      <th>4</th>\n",
              "      <td>xqd20160005</td>\n",
              "      <td>PAIDOFF</td>\n",
              "      <td>1000</td>\n",
              "      <td>30</td>\n",
              "      <td>2016-09-09</td>\n",
              "      <td>2016-10-08</td>\n",
              "      <td>2016-09-23</td>\n",
              "      <td>36.01</td>\n",
              "      <td>28</td>\n",
              "      <td>college</td>\n",
              "      <td>female</td>\n",
              "      <td>9</td>\n",
              "      <td>9</td>\n",
              "      <td>8</td>\n",
              "      <td>10</td>\n",
              "    </tr>\n",
              "  </tbody>\n",
              "</table>\n",
              "</div>"
            ],
            "text/plain": [
              "       Loan_ID loan_status  Principal  terms effective_date   due_date  \\\n",
              "0  xqd20166231     PAIDOFF       1000     30     2016-09-08 2016-10-07   \n",
              "1  xqd20168902     PAIDOFF       1000     30     2016-09-08 2016-10-07   \n",
              "2  xqd20160003     PAIDOFF       1000     30     2016-09-08 2016-10-07   \n",
              "3  xqd20160004     PAIDOFF       1000     15     2016-09-08 2016-09-22   \n",
              "4  xqd20160005     PAIDOFF       1000     30     2016-09-09 2016-10-08   \n",
              "\n",
              "  paid_off_time  past_due_days  age             education  Gender  \\\n",
              "0    2016-09-14          36.01   45  High School or Below    male   \n",
              "1    2016-10-07          36.01   50              Bachelor  female   \n",
              "2    2016-09-25          36.01   33              Bachelor  female   \n",
              "3    2016-09-22          36.01   27               college    male   \n",
              "4    2016-09-23          36.01   28               college  female   \n",
              "\n",
              "   effective_day  effective_month  due_day  due_month  \n",
              "0              8                9        7         10  \n",
              "1              8                9        7         10  \n",
              "2              8                9        7         10  \n",
              "3              8                9       22          9  \n",
              "4              9                9        8         10  "
            ]
          },
          "execution_count": 63,
          "metadata": {},
          "output_type": "execute_result"
        }
      ],
      "source": [
        "df.head()"
      ]
    },
    {
      "cell_type": "code",
      "execution_count": null,
      "metadata": {
        "id": "iNxMGub91e6-"
      },
      "outputs": [],
      "source": [
        "df[\"Gender\"] = df[\"Gender\"].map({\"female\":1,\"male\":0})"
      ]
    },
    {
      "cell_type": "code",
      "execution_count": null,
      "metadata": {
        "id": "4g357Va71e6_"
      },
      "outputs": [],
      "source": [
        "educate = pd.get_dummies(df[\"education\"],drop_first=True)"
      ]
    },
    {
      "cell_type": "code",
      "execution_count": null,
      "metadata": {
        "id": "yTHKVStK1e6_"
      },
      "outputs": [],
      "source": [
        "df[\"education\"] = df[\"education\"].map({\"High School or Below\":1,\"college\":2,\"Bachelor\":3,\"Master or Above\":4})"
      ]
    },
    {
      "cell_type": "code",
      "execution_count": null,
      "metadata": {
        "id": "_GePMSUd1e6_",
        "outputId": "00aba450-540b-466a-9e98-cdcfe49bb454"
      },
      "outputs": [
        {
          "data": {
            "text/plain": [
              "2    220\n",
              "1    209\n",
              "3     67\n",
              "4      4\n",
              "Name: education, dtype: int64"
            ]
          },
          "execution_count": 66,
          "metadata": {},
          "output_type": "execute_result"
        }
      ],
      "source": [
        "df[\"education\"].value_counts()"
      ]
    },
    {
      "cell_type": "code",
      "execution_count": null,
      "metadata": {
        "id": "vJ-gWuZt1e6_"
      },
      "outputs": [],
      "source": [
        "df[\"education\"].fillna(df[\"education\"].mode(),inplace=True)"
      ]
    },
    {
      "cell_type": "code",
      "execution_count": null,
      "metadata": {
        "id": "AfJUmQCg1e6_",
        "outputId": "89a9c515-1a9d-42ea-a447-7f466b7d0435"
      },
      "outputs": [
        {
          "data": {
            "text/plain": [
              "0      1\n",
              "1      3\n",
              "2      3\n",
              "3      2\n",
              "4      2\n",
              "      ..\n",
              "495    1\n",
              "496    1\n",
              "497    2\n",
              "498    2\n",
              "499    1\n",
              "Name: education, Length: 500, dtype: int64"
            ]
          },
          "execution_count": 67,
          "metadata": {},
          "output_type": "execute_result"
        }
      ],
      "source": [
        "df[\"education\"]"
      ]
    },
    {
      "cell_type": "code",
      "execution_count": null,
      "metadata": {
        "id": "fz7zFtd-1e6_"
      },
      "outputs": [],
      "source": [
        "df = pd.concat([df,educate],axis=1)"
      ]
    },
    {
      "cell_type": "code",
      "execution_count": null,
      "metadata": {
        "id": "a00DqezW1e7A",
        "outputId": "a45d9ce6-d416-4f62-8366-f2d3b5ae3ca8"
      },
      "outputs": [
        {
          "data": {
            "text/html": [
              "<div>\n",
              "<style scoped>\n",
              "    .dataframe tbody tr th:only-of-type {\n",
              "        vertical-align: middle;\n",
              "    }\n",
              "\n",
              "    .dataframe tbody tr th {\n",
              "        vertical-align: top;\n",
              "    }\n",
              "\n",
              "    .dataframe thead th {\n",
              "        text-align: right;\n",
              "    }\n",
              "</style>\n",
              "<table border=\"1\" class=\"dataframe\">\n",
              "  <thead>\n",
              "    <tr style=\"text-align: right;\">\n",
              "      <th></th>\n",
              "      <th>Loan_ID</th>\n",
              "      <th>loan_status</th>\n",
              "      <th>Principal</th>\n",
              "      <th>terms</th>\n",
              "      <th>effective_date</th>\n",
              "      <th>due_date</th>\n",
              "      <th>paid_off_time</th>\n",
              "      <th>past_due_days</th>\n",
              "      <th>age</th>\n",
              "      <th>education</th>\n",
              "      <th>Gender</th>\n",
              "      <th>effective_day</th>\n",
              "      <th>effective_month</th>\n",
              "      <th>due_day</th>\n",
              "      <th>due_month</th>\n",
              "    </tr>\n",
              "  </thead>\n",
              "  <tbody>\n",
              "    <tr>\n",
              "      <th>0</th>\n",
              "      <td>xqd20166231</td>\n",
              "      <td>PAIDOFF</td>\n",
              "      <td>1000</td>\n",
              "      <td>30</td>\n",
              "      <td>2016-09-08</td>\n",
              "      <td>2016-10-07</td>\n",
              "      <td>2016-09-14</td>\n",
              "      <td>36.01</td>\n",
              "      <td>45</td>\n",
              "      <td>1</td>\n",
              "      <td>0</td>\n",
              "      <td>8</td>\n",
              "      <td>9</td>\n",
              "      <td>7</td>\n",
              "      <td>10</td>\n",
              "    </tr>\n",
              "    <tr>\n",
              "      <th>1</th>\n",
              "      <td>xqd20168902</td>\n",
              "      <td>PAIDOFF</td>\n",
              "      <td>1000</td>\n",
              "      <td>30</td>\n",
              "      <td>2016-09-08</td>\n",
              "      <td>2016-10-07</td>\n",
              "      <td>2016-10-07</td>\n",
              "      <td>36.01</td>\n",
              "      <td>50</td>\n",
              "      <td>3</td>\n",
              "      <td>1</td>\n",
              "      <td>8</td>\n",
              "      <td>9</td>\n",
              "      <td>7</td>\n",
              "      <td>10</td>\n",
              "    </tr>\n",
              "    <tr>\n",
              "      <th>2</th>\n",
              "      <td>xqd20160003</td>\n",
              "      <td>PAIDOFF</td>\n",
              "      <td>1000</td>\n",
              "      <td>30</td>\n",
              "      <td>2016-09-08</td>\n",
              "      <td>2016-10-07</td>\n",
              "      <td>2016-09-25</td>\n",
              "      <td>36.01</td>\n",
              "      <td>33</td>\n",
              "      <td>3</td>\n",
              "      <td>1</td>\n",
              "      <td>8</td>\n",
              "      <td>9</td>\n",
              "      <td>7</td>\n",
              "      <td>10</td>\n",
              "    </tr>\n",
              "    <tr>\n",
              "      <th>3</th>\n",
              "      <td>xqd20160004</td>\n",
              "      <td>PAIDOFF</td>\n",
              "      <td>1000</td>\n",
              "      <td>15</td>\n",
              "      <td>2016-09-08</td>\n",
              "      <td>2016-09-22</td>\n",
              "      <td>2016-09-22</td>\n",
              "      <td>36.01</td>\n",
              "      <td>27</td>\n",
              "      <td>2</td>\n",
              "      <td>0</td>\n",
              "      <td>8</td>\n",
              "      <td>9</td>\n",
              "      <td>22</td>\n",
              "      <td>9</td>\n",
              "    </tr>\n",
              "    <tr>\n",
              "      <th>4</th>\n",
              "      <td>xqd20160005</td>\n",
              "      <td>PAIDOFF</td>\n",
              "      <td>1000</td>\n",
              "      <td>30</td>\n",
              "      <td>2016-09-09</td>\n",
              "      <td>2016-10-08</td>\n",
              "      <td>2016-09-23</td>\n",
              "      <td>36.01</td>\n",
              "      <td>28</td>\n",
              "      <td>2</td>\n",
              "      <td>1</td>\n",
              "      <td>9</td>\n",
              "      <td>9</td>\n",
              "      <td>8</td>\n",
              "      <td>10</td>\n",
              "    </tr>\n",
              "  </tbody>\n",
              "</table>\n",
              "</div>"
            ],
            "text/plain": [
              "       Loan_ID loan_status  Principal  terms effective_date   due_date  \\\n",
              "0  xqd20166231     PAIDOFF       1000     30     2016-09-08 2016-10-07   \n",
              "1  xqd20168902     PAIDOFF       1000     30     2016-09-08 2016-10-07   \n",
              "2  xqd20160003     PAIDOFF       1000     30     2016-09-08 2016-10-07   \n",
              "3  xqd20160004     PAIDOFF       1000     15     2016-09-08 2016-09-22   \n",
              "4  xqd20160005     PAIDOFF       1000     30     2016-09-09 2016-10-08   \n",
              "\n",
              "  paid_off_time  past_due_days  age  education  Gender  effective_day  \\\n",
              "0    2016-09-14          36.01   45          1       0              8   \n",
              "1    2016-10-07          36.01   50          3       1              8   \n",
              "2    2016-09-25          36.01   33          3       1              8   \n",
              "3    2016-09-22          36.01   27          2       0              8   \n",
              "4    2016-09-23          36.01   28          2       1              9   \n",
              "\n",
              "   effective_month  due_day  due_month  \n",
              "0                9        7         10  \n",
              "1                9        7         10  \n",
              "2                9        7         10  \n",
              "3                9       22          9  \n",
              "4                9        8         10  "
            ]
          },
          "execution_count": 68,
          "metadata": {},
          "output_type": "execute_result"
        }
      ],
      "source": [
        "df.head()"
      ]
    },
    {
      "cell_type": "code",
      "execution_count": null,
      "metadata": {
        "id": "48g3BWHM1e7A",
        "outputId": "920335cc-9f29-40b0-b5c6-121210c3bbfe"
      },
      "outputs": [
        {
          "data": {
            "text/plain": [
              "<seaborn.axisgrid.PairGrid at 0x2b30c4c10a0>"
            ]
          },
          "execution_count": 69,
          "metadata": {},
          "output_type": "execute_result"
        },
        {
          "data": {
            "image/png": "[encoded data removed]",
            "text/plain": [
              "<Figure size 1800x1800 with 110 Axes>"
            ]
          },
          "metadata": {
            "needs_background": "light"
          },
          "output_type": "display_data"
        }
      ],
      "source": [
        "sns.pairplot(df)"
      ]
    },
    {
      "cell_type": "code",
      "execution_count": null,
      "metadata": {
        "id": "fL3BypHb1e7A",
        "outputId": "5cdaaff2-4991-4c9e-ca90-082c9c8e7945"
      },
      "outputs": [
        {
          "data": {
            "text/plain": [
              "-1            100\n",
              "2016-09-25     35\n",
              "2016-10-10     33\n",
              "2016-10-11     31\n",
              "2016-09-26     29\n",
              "             ... \n",
              "2016-11-03      1\n",
              "2016-10-31      1\n",
              "2016-12-02      1\n",
              "2016-11-21      1\n",
              "2016-09-09      1\n",
              "Name: paid_off_time, Length: 65, dtype: int64"
            ]
          },
          "execution_count": 70,
          "metadata": {},
          "output_type": "execute_result"
        }
      ],
      "source": [
        "df[\"paid_off_time\"].value_counts()"
      ]
    },
    {
      "cell_type": "code",
      "execution_count": null,
      "metadata": {
        "id": "ewvswfdJ1e7A"
      },
      "outputs": [],
      "source": [
        "df[\"loan_status\"] = df[\"loan_status\"].map({'PAIDOFF':1,\"COLLECTION\":2,\"COLLECTION_PAIDOFF\":3})"
      ]
    },
    {
      "cell_type": "code",
      "execution_count": null,
      "metadata": {
        "id": "b_ud1YNE1e7A",
        "outputId": "1716202b-e557-4945-9416-2ac94587758d"
      },
      "outputs": [
        {
          "data": {
            "text/html": [
              "<div>\n",
              "<style scoped>\n",
              "    .dataframe tbody tr th:only-of-type {\n",
              "        vertical-align: middle;\n",
              "    }\n",
              "\n",
              "    .dataframe tbody tr th {\n",
              "        vertical-align: top;\n",
              "    }\n",
              "\n",
              "    .dataframe thead th {\n",
              "        text-align: right;\n",
              "    }\n",
              "</style>\n",
              "<table border=\"1\" class=\"dataframe\">\n",
              "  <thead>\n",
              "    <tr style=\"text-align: right;\">\n",
              "      <th></th>\n",
              "      <th>Loan_ID</th>\n",
              "      <th>loan_status</th>\n",
              "      <th>Principal</th>\n",
              "      <th>terms</th>\n",
              "      <th>effective_date</th>\n",
              "      <th>due_date</th>\n",
              "      <th>paid_off_time</th>\n",
              "      <th>past_due_days</th>\n",
              "      <th>age</th>\n",
              "      <th>education</th>\n",
              "      <th>Gender</th>\n",
              "      <th>effective_day</th>\n",
              "      <th>effective_month</th>\n",
              "      <th>due_day</th>\n",
              "      <th>due_month</th>\n",
              "    </tr>\n",
              "  </thead>\n",
              "  <tbody>\n",
              "    <tr>\n",
              "      <th>0</th>\n",
              "      <td>xqd20166231</td>\n",
              "      <td>1</td>\n",
              "      <td>1000</td>\n",
              "      <td>30</td>\n",
              "      <td>2016-09-08</td>\n",
              "      <td>2016-10-07</td>\n",
              "      <td>2016-09-14</td>\n",
              "      <td>36.01</td>\n",
              "      <td>45</td>\n",
              "      <td>1</td>\n",
              "      <td>0</td>\n",
              "      <td>8</td>\n",
              "      <td>9</td>\n",
              "      <td>7</td>\n",
              "      <td>10</td>\n",
              "    </tr>\n",
              "    <tr>\n",
              "      <th>1</th>\n",
              "      <td>xqd20168902</td>\n",
              "      <td>1</td>\n",
              "      <td>1000</td>\n",
              "      <td>30</td>\n",
              "      <td>2016-09-08</td>\n",
              "      <td>2016-10-07</td>\n",
              "      <td>2016-10-07</td>\n",
              "      <td>36.01</td>\n",
              "      <td>50</td>\n",
              "      <td>3</td>\n",
              "      <td>1</td>\n",
              "      <td>8</td>\n",
              "      <td>9</td>\n",
              "      <td>7</td>\n",
              "      <td>10</td>\n",
              "    </tr>\n",
              "    <tr>\n",
              "      <th>2</th>\n",
              "      <td>xqd20160003</td>\n",
              "      <td>1</td>\n",
              "      <td>1000</td>\n",
              "      <td>30</td>\n",
              "      <td>2016-09-08</td>\n",
              "      <td>2016-10-07</td>\n",
              "      <td>2016-09-25</td>\n",
              "      <td>36.01</td>\n",
              "      <td>33</td>\n",
              "      <td>3</td>\n",
              "      <td>1</td>\n",
              "      <td>8</td>\n",
              "      <td>9</td>\n",
              "      <td>7</td>\n",
              "      <td>10</td>\n",
              "    </tr>\n",
              "    <tr>\n",
              "      <th>3</th>\n",
              "      <td>xqd20160004</td>\n",
              "      <td>1</td>\n",
              "      <td>1000</td>\n",
              "      <td>15</td>\n",
              "      <td>2016-09-08</td>\n",
              "      <td>2016-09-22</td>\n",
              "      <td>2016-09-22</td>\n",
              "      <td>36.01</td>\n",
              "      <td>27</td>\n",
              "      <td>2</td>\n",
              "      <td>0</td>\n",
              "      <td>8</td>\n",
              "      <td>9</td>\n",
              "      <td>22</td>\n",
              "      <td>9</td>\n",
              "    </tr>\n",
              "    <tr>\n",
              "      <th>4</th>\n",
              "      <td>xqd20160005</td>\n",
              "      <td>1</td>\n",
              "      <td>1000</td>\n",
              "      <td>30</td>\n",
              "      <td>2016-09-09</td>\n",
              "      <td>2016-10-08</td>\n",
              "      <td>2016-09-23</td>\n",
              "      <td>36.01</td>\n",
              "      <td>28</td>\n",
              "      <td>2</td>\n",
              "      <td>1</td>\n",
              "      <td>9</td>\n",
              "      <td>9</td>\n",
              "      <td>8</td>\n",
              "      <td>10</td>\n",
              "    </tr>\n",
              "  </tbody>\n",
              "</table>\n",
              "</div>"
            ],
            "text/plain": [
              "       Loan_ID  loan_status  Principal  terms effective_date   due_date  \\\n",
              "0  xqd20166231            1       1000     30     2016-09-08 2016-10-07   \n",
              "1  xqd20168902            1       1000     30     2016-09-08 2016-10-07   \n",
              "2  xqd20160003            1       1000     30     2016-09-08 2016-10-07   \n",
              "3  xqd20160004            1       1000     15     2016-09-08 2016-09-22   \n",
              "4  xqd20160005            1       1000     30     2016-09-09 2016-10-08   \n",
              "\n",
              "  paid_off_time  past_due_days  age  education  Gender  effective_day  \\\n",
              "0    2016-09-14          36.01   45          1       0              8   \n",
              "1    2016-10-07          36.01   50          3       1              8   \n",
              "2    2016-09-25          36.01   33          3       1              8   \n",
              "3    2016-09-22          36.01   27          2       0              8   \n",
              "4    2016-09-23          36.01   28          2       1              9   \n",
              "\n",
              "   effective_month  due_day  due_month  \n",
              "0                9        7         10  \n",
              "1                9        7         10  \n",
              "2                9        7         10  \n",
              "3                9       22          9  \n",
              "4                9        8         10  "
            ]
          },
          "execution_count": 72,
          "metadata": {},
          "output_type": "execute_result"
        }
      ],
      "source": [
        "df.head()"
      ]
    },
    {
      "cell_type": "code",
      "execution_count": null,
      "metadata": {
        "id": "3sNCMHiA1e7A",
        "outputId": "9763a873-699b-481a-bc6f-217fd283d287"
      },
      "outputs": [
        {
          "data": {
            "text/plain": [
              "<AxesSubplot:xlabel='Gender', ylabel='count'>"
            ]
          },
          "execution_count": 73,
          "metadata": {},
          "output_type": "execute_result"
        },
        {
          "data": {
            "image/png": "[encoded data removed]",
            "text/plain": [
              "<Figure size 432x288 with 1 Axes>"
            ]
          },
          "metadata": {
            "needs_background": "light"
          },
          "output_type": "display_data"
        }
      ],
      "source": [
        "sns.countplot(x=\"Gender\",hue=\"loan_status\",data=df)"
      ]
    },
    {
      "cell_type": "code",
      "execution_count": null,
      "metadata": {
        "id": "cpYXwfrP1e7B",
        "outputId": "0a880d32-d7bb-4e5f-f0fd-e0a3f3f9c807"
      },
      "outputs": [
        {
          "data": {
            "text/plain": [
              "0    423\n",
              "1     77\n",
              "Name: Gender, dtype: int64"
            ]
          },
          "execution_count": 111,
          "metadata": {},
          "output_type": "execute_result"
        }
      ],
      "source": [
        "df[\"Gender\"].value_counts()"
      ]
    },
    {
      "cell_type": "code",
      "execution_count": null,
      "metadata": {
        "id": "v-qIaICN1e7B",
        "outputId": "d1b5821b-6438-4aa3-e6d1-31bb9dbbcd47"
      },
      "outputs": [
        {
          "name": "stdout",
          "output_type": "stream",
          "text": [
            "15.4\n",
            "84.6\n"
          ]
        }
      ],
      "source": [
        "a = 423+77\n",
        "b = (77/a) * 100\n",
        "c = (423/a)*100\n",
        "print(b)\n",
        "print(c)"
      ]
    },
    {
      "cell_type": "code",
      "execution_count": null,
      "metadata": {
        "id": "ToI1Gmw81e7B",
        "outputId": "d94726a9-faf3-4a24-e916-3590ba33def0"
      },
      "outputs": [
        {
          "data": {
            "text/plain": [
              "<AxesSubplot:xlabel='Gender', ylabel='count'>"
            ]
          },
          "execution_count": 113,
          "metadata": {},
          "output_type": "execute_result"
        },
        {
          "data": {
            "image/png": "[encoded data removed]",
            "text/plain": [
              "<Figure size 432x288 with 1 Axes>"
            ]
          },
          "metadata": {
            "needs_background": "light"
          },
          "output_type": "display_data"
        }
      ],
      "source": [
        "sns.countplot(x=\"Gender\",hue=\"terms\",data=df)"
      ]
    },
    {
      "cell_type": "code",
      "execution_count": null,
      "metadata": {
        "id": "SCTtRjrL1e7B",
        "outputId": "6349ca8f-f720-44c8-bc25-cffb7841340c"
      },
      "outputs": [
        {
          "data": {
            "text/plain": [
              "<matplotlib.collections.PathCollection at 0x1f2996269a0>"
            ]
          },
          "execution_count": 114,
          "metadata": {},
          "output_type": "execute_result"
        },
        {
          "data": {
            "image/png": "[encoded data removed]",
            "text/plain": [
              "<Figure size 432x288 with 1 Axes>"
            ]
          },
          "metadata": {
            "needs_background": "light"
          },
          "output_type": "display_data"
        }
      ],
      "source": [
        "plt.scatter(\"Principal\",\"loan_status\",data=df)"
      ]
    },
    {
      "cell_type": "code",
      "execution_count": null,
      "metadata": {
        "id": "jxGQ8nhD1e7B",
        "outputId": "ff541841-5223-4adb-c5c3-d1aab5299448"
      },
      "outputs": [
        {
          "data": {
            "text/plain": [
              "<AxesSubplot:>"
            ]
          },
          "execution_count": 119,
          "metadata": {},
          "output_type": "execute_result"
        },
        {
          "data": {
            "image/png": "[encoded data removed]",
            "text/plain": [
              "<Figure size 432x288 with 2 Axes>"
            ]
          },
          "metadata": {
            "needs_background": "light"
          },
          "output_type": "display_data"
        }
      ],
      "source": [
        "sns.heatmap(df.corr(),annot=True)"
      ]
    },
    {
      "cell_type": "code",
      "execution_count": null,
      "metadata": {
        "id": "TtsRo65E1e7B",
        "outputId": "789c16a3-1f20-48f3-a38d-5ca2326f2739"
      },
      "outputs": [
        {
          "name": "stderr",
          "output_type": "stream",
          "text": [
            "C:\\Program Files\\Anaconda3\\lib\\site-packages\\seaborn\\distributions.py:2551: FutureWarning: `distplot` is a deprecated function and will be removed in a future version. Please adapt your code to use either `displot` (a figure-level function with similar flexibility) or `histplot` (an axes-level function for histograms).\n",
            "  warnings.warn(msg, FutureWarning)\n"
          ]
        },
        {
          "data": {
            "text/plain": [
              "<AxesSubplot:xlabel='loan_status'>"
            ]
          },
          "execution_count": 116,
          "metadata": {},
          "output_type": "execute_result"
        },
        {
          "data": {
            "image/png": "[encoded data removed]",
            "text/plain": [
              "<Figure size 432x288 with 1 Axes>"
            ]
          },
          "metadata": {
            "needs_background": "light"
          },
          "output_type": "display_data"
        }
      ],
      "source": [
        "sns.distplot(df[\"loan_status\"],kde=False,bins=30)"
      ]
    },
    {
      "cell_type": "markdown",
      "metadata": {
        "id": "7xQlwbAE1e7C"
      },
      "source": [
        "EDA"
      ]
    },
    {
      "cell_type": "code",
      "execution_count": null,
      "metadata": {
        "id": "uOF8nTca1e7C",
        "outputId": "3652d470-c198-415f-b435-0e9846c05863"
      },
      "outputs": [
        {
          "data": {
            "text/html": [
              "<div>\n",
              "<style scoped>\n",
              "    .dataframe tbody tr th:only-of-type {\n",
              "        vertical-align: middle;\n",
              "    }\n",
              "\n",
              "    .dataframe tbody tr th {\n",
              "        vertical-align: top;\n",
              "    }\n",
              "\n",
              "    .dataframe thead th {\n",
              "        text-align: right;\n",
              "    }\n",
              "</style>\n",
              "<table border=\"1\" class=\"dataframe\">\n",
              "  <thead>\n",
              "    <tr style=\"text-align: right;\">\n",
              "      <th></th>\n",
              "      <th>Loan_ID</th>\n",
              "      <th>loan_status</th>\n",
              "      <th>Principal</th>\n",
              "      <th>terms</th>\n",
              "      <th>effective_date</th>\n",
              "      <th>due_date</th>\n",
              "      <th>paid_off_time</th>\n",
              "      <th>past_due_days</th>\n",
              "      <th>age</th>\n",
              "      <th>education</th>\n",
              "      <th>Gender</th>\n",
              "      <th>effective_day</th>\n",
              "      <th>effective_month</th>\n",
              "      <th>due_day</th>\n",
              "      <th>due_month</th>\n",
              "    </tr>\n",
              "  </thead>\n",
              "  <tbody>\n",
              "    <tr>\n",
              "      <th>0</th>\n",
              "      <td>xqd20166231</td>\n",
              "      <td>1</td>\n",
              "      <td>1000</td>\n",
              "      <td>30</td>\n",
              "      <td>2016-09-08</td>\n",
              "      <td>2016-10-07</td>\n",
              "      <td>2016-09-14</td>\n",
              "      <td>36.01</td>\n",
              "      <td>45</td>\n",
              "      <td>1</td>\n",
              "      <td>0</td>\n",
              "      <td>8</td>\n",
              "      <td>9</td>\n",
              "      <td>7</td>\n",
              "      <td>10</td>\n",
              "    </tr>\n",
              "    <tr>\n",
              "      <th>1</th>\n",
              "      <td>xqd20168902</td>\n",
              "      <td>1</td>\n",
              "      <td>1000</td>\n",
              "      <td>30</td>\n",
              "      <td>2016-09-08</td>\n",
              "      <td>2016-10-07</td>\n",
              "      <td>2016-10-07</td>\n",
              "      <td>36.01</td>\n",
              "      <td>50</td>\n",
              "      <td>3</td>\n",
              "      <td>1</td>\n",
              "      <td>8</td>\n",
              "      <td>9</td>\n",
              "      <td>7</td>\n",
              "      <td>10</td>\n",
              "    </tr>\n",
              "    <tr>\n",
              "      <th>2</th>\n",
              "      <td>xqd20160003</td>\n",
              "      <td>1</td>\n",
              "      <td>1000</td>\n",
              "      <td>30</td>\n",
              "      <td>2016-09-08</td>\n",
              "      <td>2016-10-07</td>\n",
              "      <td>2016-09-25</td>\n",
              "      <td>36.01</td>\n",
              "      <td>33</td>\n",
              "      <td>3</td>\n",
              "      <td>1</td>\n",
              "      <td>8</td>\n",
              "      <td>9</td>\n",
              "      <td>7</td>\n",
              "      <td>10</td>\n",
              "    </tr>\n",
              "    <tr>\n",
              "      <th>3</th>\n",
              "      <td>xqd20160004</td>\n",
              "      <td>1</td>\n",
              "      <td>1000</td>\n",
              "      <td>15</td>\n",
              "      <td>2016-09-08</td>\n",
              "      <td>2016-09-22</td>\n",
              "      <td>2016-09-22</td>\n",
              "      <td>36.01</td>\n",
              "      <td>27</td>\n",
              "      <td>2</td>\n",
              "      <td>0</td>\n",
              "      <td>8</td>\n",
              "      <td>9</td>\n",
              "      <td>22</td>\n",
              "      <td>9</td>\n",
              "    </tr>\n",
              "    <tr>\n",
              "      <th>4</th>\n",
              "      <td>xqd20160005</td>\n",
              "      <td>1</td>\n",
              "      <td>1000</td>\n",
              "      <td>30</td>\n",
              "      <td>2016-09-09</td>\n",
              "      <td>2016-10-08</td>\n",
              "      <td>2016-09-23</td>\n",
              "      <td>36.01</td>\n",
              "      <td>28</td>\n",
              "      <td>2</td>\n",
              "      <td>1</td>\n",
              "      <td>9</td>\n",
              "      <td>9</td>\n",
              "      <td>8</td>\n",
              "      <td>10</td>\n",
              "    </tr>\n",
              "  </tbody>\n",
              "</table>\n",
              "</div>"
            ],
            "text/plain": [
              "       Loan_ID  loan_status  Principal  terms effective_date   due_date  \\\n",
              "0  xqd20166231            1       1000     30     2016-09-08 2016-10-07   \n",
              "1  xqd20168902            1       1000     30     2016-09-08 2016-10-07   \n",
              "2  xqd20160003            1       1000     30     2016-09-08 2016-10-07   \n",
              "3  xqd20160004            1       1000     15     2016-09-08 2016-09-22   \n",
              "4  xqd20160005            1       1000     30     2016-09-09 2016-10-08   \n",
              "\n",
              "  paid_off_time  past_due_days  age  education  Gender  effective_day  \\\n",
              "0    2016-09-14          36.01   45          1       0              8   \n",
              "1    2016-10-07          36.01   50          3       1              8   \n",
              "2    2016-09-25          36.01   33          3       1              8   \n",
              "3    2016-09-22          36.01   27          2       0              8   \n",
              "4    2016-09-23          36.01   28          2       1              9   \n",
              "\n",
              "   effective_month  due_day  due_month  \n",
              "0                9        7         10  \n",
              "1                9        7         10  \n",
              "2                9        7         10  \n",
              "3                9       22          9  \n",
              "4                9        8         10  "
            ]
          },
          "execution_count": 74,
          "metadata": {},
          "output_type": "execute_result"
        }
      ],
      "source": [
        "df.head()"
      ]
    },
    {
      "cell_type": "code",
      "execution_count": null,
      "metadata": {
        "id": "jyy0v5nO1e7C"
      },
      "outputs": [],
      "source": [
        "df.drop([\"Loan_ID\",\"effective_date\",\"due_date\"],axis=1,inplace=True)"
      ]
    },
    {
      "cell_type": "code",
      "execution_count": null,
      "metadata": {
        "id": "ROxPZw2A1e7C",
        "outputId": "5bccf8b8-5ba9-4ddd-f2f8-ccf4a6371061"
      },
      "outputs": [
        {
          "data": {
            "text/html": [
              "<div>\n",
              "<style scoped>\n",
              "    .dataframe tbody tr th:only-of-type {\n",
              "        vertical-align: middle;\n",
              "    }\n",
              "\n",
              "    .dataframe tbody tr th {\n",
              "        vertical-align: top;\n",
              "    }\n",
              "\n",
              "    .dataframe thead th {\n",
              "        text-align: right;\n",
              "    }\n",
              "</style>\n",
              "<table border=\"1\" class=\"dataframe\">\n",
              "  <thead>\n",
              "    <tr style=\"text-align: right;\">\n",
              "      <th></th>\n",
              "      <th>loan_status</th>\n",
              "      <th>Principal</th>\n",
              "      <th>terms</th>\n",
              "      <th>paid_off_time</th>\n",
              "      <th>past_due_days</th>\n",
              "      <th>age</th>\n",
              "      <th>education</th>\n",
              "      <th>Gender</th>\n",
              "      <th>effective_day</th>\n",
              "      <th>effective_month</th>\n",
              "      <th>due_day</th>\n",
              "      <th>due_month</th>\n",
              "    </tr>\n",
              "  </thead>\n",
              "  <tbody>\n",
              "    <tr>\n",
              "      <th>0</th>\n",
              "      <td>1</td>\n",
              "      <td>1000</td>\n",
              "      <td>30</td>\n",
              "      <td>2016-09-14</td>\n",
              "      <td>36.01</td>\n",
              "      <td>45</td>\n",
              "      <td>1</td>\n",
              "      <td>0</td>\n",
              "      <td>8</td>\n",
              "      <td>9</td>\n",
              "      <td>7</td>\n",
              "      <td>10</td>\n",
              "    </tr>\n",
              "    <tr>\n",
              "      <th>1</th>\n",
              "      <td>1</td>\n",
              "      <td>1000</td>\n",
              "      <td>30</td>\n",
              "      <td>2016-10-07</td>\n",
              "      <td>36.01</td>\n",
              "      <td>50</td>\n",
              "      <td>3</td>\n",
              "      <td>1</td>\n",
              "      <td>8</td>\n",
              "      <td>9</td>\n",
              "      <td>7</td>\n",
              "      <td>10</td>\n",
              "    </tr>\n",
              "    <tr>\n",
              "      <th>2</th>\n",
              "      <td>1</td>\n",
              "      <td>1000</td>\n",
              "      <td>30</td>\n",
              "      <td>2016-09-25</td>\n",
              "      <td>36.01</td>\n",
              "      <td>33</td>\n",
              "      <td>3</td>\n",
              "      <td>1</td>\n",
              "      <td>8</td>\n",
              "      <td>9</td>\n",
              "      <td>7</td>\n",
              "      <td>10</td>\n",
              "    </tr>\n",
              "    <tr>\n",
              "      <th>3</th>\n",
              "      <td>1</td>\n",
              "      <td>1000</td>\n",
              "      <td>15</td>\n",
              "      <td>2016-09-22</td>\n",
              "      <td>36.01</td>\n",
              "      <td>27</td>\n",
              "      <td>2</td>\n",
              "      <td>0</td>\n",
              "      <td>8</td>\n",
              "      <td>9</td>\n",
              "      <td>22</td>\n",
              "      <td>9</td>\n",
              "    </tr>\n",
              "    <tr>\n",
              "      <th>4</th>\n",
              "      <td>1</td>\n",
              "      <td>1000</td>\n",
              "      <td>30</td>\n",
              "      <td>2016-09-23</td>\n",
              "      <td>36.01</td>\n",
              "      <td>28</td>\n",
              "      <td>2</td>\n",
              "      <td>1</td>\n",
              "      <td>9</td>\n",
              "      <td>9</td>\n",
              "      <td>8</td>\n",
              "      <td>10</td>\n",
              "    </tr>\n",
              "  </tbody>\n",
              "</table>\n",
              "</div>"
            ],
            "text/plain": [
              "   loan_status  Principal  terms paid_off_time  past_due_days  age  education  \\\n",
              "0            1       1000     30    2016-09-14          36.01   45          1   \n",
              "1            1       1000     30    2016-10-07          36.01   50          3   \n",
              "2            1       1000     30    2016-09-25          36.01   33          3   \n",
              "3            1       1000     15    2016-09-22          36.01   27          2   \n",
              "4            1       1000     30    2016-09-23          36.01   28          2   \n",
              "\n",
              "   Gender  effective_day  effective_month  due_day  due_month  \n",
              "0       0              8                9        7         10  \n",
              "1       1              8                9        7         10  \n",
              "2       1              8                9        7         10  \n",
              "3       0              8                9       22          9  \n",
              "4       1              9                9        8         10  "
            ]
          },
          "execution_count": 81,
          "metadata": {},
          "output_type": "execute_result"
        }
      ],
      "source": [
        "df.head()"
      ]
    },
    {
      "cell_type": "code",
      "execution_count": null,
      "metadata": {
        "id": "VCelrIgb1e7C",
        "outputId": "3122760d-6e3c-462f-9f6f-1f58ae7ef771"
      },
      "outputs": [
        {
          "data": {
            "image/png": "[encoded data removed]",
            "text/plain": [
              "<Figure size 432x288 with 1 Axes>"
            ]
          },
          "metadata": {
            "needs_background": "light"
          },
          "output_type": "display_data"
        },
        {
          "data": {
            "text/html": [
              "<div>\n",
              "<style scoped>\n",
              "    .dataframe tbody tr th:only-of-type {\n",
              "        vertical-align: middle;\n",
              "    }\n",
              "\n",
              "    .dataframe tbody tr th {\n",
              "        vertical-align: top;\n",
              "    }\n",
              "\n",
              "    .dataframe thead th {\n",
              "        text-align: right;\n",
              "    }\n",
              "</style>\n",
              "<table border=\"1\" class=\"dataframe\">\n",
              "  <thead>\n",
              "    <tr style=\"text-align: right;\">\n",
              "      <th></th>\n",
              "      <th>transformed</th>\n",
              "      <th>loan_status</th>\n",
              "    </tr>\n",
              "  </thead>\n",
              "  <tbody>\n",
              "    <tr>\n",
              "      <th>transformed</th>\n",
              "      <td>1.000000</td>\n",
              "      <td>0.077742</td>\n",
              "    </tr>\n",
              "    <tr>\n",
              "      <th>loan_status</th>\n",
              "      <td>0.077742</td>\n",
              "      <td>1.000000</td>\n",
              "    </tr>\n",
              "  </tbody>\n",
              "</table>\n",
              "</div>"
            ],
            "text/plain": [
              "             transformed  loan_status\n",
              "transformed     1.000000     0.077742\n",
              "loan_status     0.077742     1.000000"
            ]
          },
          "execution_count": 91,
          "metadata": {},
          "output_type": "execute_result"
        }
      ],
      "source": [
        "df[\"transformed\"] = np.square(df[\"Principal\"])\n",
        "df.groupby(\"transformed\")[\"loan_status\"].mean().plot()\n",
        "#df.plot(x=\"loan_status\",y=\"Principal\",style='o')\n",
        "plt.title('loan_status vs Principal')\n",
        "plt.xlabel(\"loan_status\")\n",
        "plt.ylabel(\"Principal\")\n",
        "plt.show()\n",
        "df[[\"transformed\",\"loan_status\"]].corr()"
      ]
    },
    {
      "cell_type": "code",
      "execution_count": null,
      "metadata": {
        "id": "pX-JbEyB1e7D",
        "outputId": "89cc9dd3-6c56-404a-db02-ebba5fc22b73"
      },
      "outputs": [
        {
          "data": {
            "text/html": [
              "<div>\n",
              "<style scoped>\n",
              "    .dataframe tbody tr th:only-of-type {\n",
              "        vertical-align: middle;\n",
              "    }\n",
              "\n",
              "    .dataframe tbody tr th {\n",
              "        vertical-align: top;\n",
              "    }\n",
              "\n",
              "    .dataframe thead th {\n",
              "        text-align: right;\n",
              "    }\n",
              "</style>\n",
              "<table border=\"1\" class=\"dataframe\">\n",
              "  <thead>\n",
              "    <tr style=\"text-align: right;\">\n",
              "      <th></th>\n",
              "      <th>loan_status</th>\n",
              "      <th>Principal</th>\n",
              "    </tr>\n",
              "  </thead>\n",
              "  <tbody>\n",
              "    <tr>\n",
              "      <th>loan_status</th>\n",
              "      <td>1.000000</td>\n",
              "      <td>0.083388</td>\n",
              "    </tr>\n",
              "    <tr>\n",
              "      <th>Principal</th>\n",
              "      <td>0.083388</td>\n",
              "      <td>1.000000</td>\n",
              "    </tr>\n",
              "  </tbody>\n",
              "</table>\n",
              "</div>"
            ],
            "text/plain": [
              "             loan_status  Principal\n",
              "loan_status     1.000000   0.083388\n",
              "Principal       0.083388   1.000000"
            ]
          },
          "execution_count": 87,
          "metadata": {},
          "output_type": "execute_result"
        }
      ],
      "source": [
        "df[[\"loan_status\",\"Principal\"]].corr()"
      ]
    },
    {
      "cell_type": "code",
      "execution_count": null,
      "metadata": {
        "id": "nlvvboII1e7D",
        "outputId": "bc7ba18a-7b33-4da8-b636-665913a8bbbc"
      },
      "outputs": [
        {
          "data": {
            "image/png": "[encoded data removed]",
            "text/plain": [
              "<Figure size 432x288 with 1 Axes>"
            ]
          },
          "metadata": {
            "needs_background": "light"
          },
          "output_type": "display_data"
        }
      ],
      "source": [
        "df.groupby(\"Principal\")[\"loan_status\"].mean().plot()\n",
        "#df.plot(x=\"Principal\",y=\"loan_status\",style='o')\n",
        "plt.title('loan_status vs Principal')\n",
        "plt.xlabel(\"loan_status\")\n",
        "plt.ylabel(\"Principal\")\n",
        "plt.show()"
      ]
    },
    {
      "cell_type": "code",
      "execution_count": null,
      "metadata": {
        "id": "zO4ODwk41e7D",
        "outputId": "54ffbe01-f9cd-47ab-f266-59c6c4baa2ea"
      },
      "outputs": [
        {
          "data": {
            "text/html": [
              "<div>\n",
              "<style scoped>\n",
              "    .dataframe tbody tr th:only-of-type {\n",
              "        vertical-align: middle;\n",
              "    }\n",
              "\n",
              "    .dataframe tbody tr th {\n",
              "        vertical-align: top;\n",
              "    }\n",
              "\n",
              "    .dataframe thead th {\n",
              "        text-align: right;\n",
              "    }\n",
              "</style>\n",
              "<table border=\"1\" class=\"dataframe\">\n",
              "  <thead>\n",
              "    <tr style=\"text-align: right;\">\n",
              "      <th></th>\n",
              "      <th>Principal</th>\n",
              "      <th>loan_status</th>\n",
              "    </tr>\n",
              "  </thead>\n",
              "  <tbody>\n",
              "    <tr>\n",
              "      <th>Principal</th>\n",
              "      <td>1.000000</td>\n",
              "      <td>0.083388</td>\n",
              "    </tr>\n",
              "    <tr>\n",
              "      <th>loan_status</th>\n",
              "      <td>0.083388</td>\n",
              "      <td>1.000000</td>\n",
              "    </tr>\n",
              "  </tbody>\n",
              "</table>\n",
              "</div>"
            ],
            "text/plain": [
              "             Principal  loan_status\n",
              "Principal     1.000000     0.083388\n",
              "loan_status   0.083388     1.000000"
            ]
          },
          "execution_count": 90,
          "metadata": {},
          "output_type": "execute_result"
        }
      ],
      "source": [
        "df[[\"Principal\",\"loan_status\"]].corr()"
      ]
    },
    {
      "cell_type": "code",
      "execution_count": null,
      "metadata": {
        "id": "nTRiLi_31e7D"
      },
      "outputs": [],
      "source": []
    },
    {
      "cell_type": "code",
      "execution_count": null,
      "metadata": {
        "id": "swFieTo11e7D"
      },
      "outputs": [],
      "source": []
    },
    {
      "cell_type": "code",
      "execution_count": null,
      "metadata": {
        "id": "OfykhKoK1e7D"
      },
      "outputs": [],
      "source": []
    },
    {
      "cell_type": "code",
      "execution_count": null,
      "metadata": {
        "id": "6ab8Shhw1e7D"
      },
      "outputs": [],
      "source": []
    },
    {
      "cell_type": "code",
      "execution_count": null,
      "metadata": {
        "id": "CfZUcEod1e7D"
      },
      "outputs": [],
      "source": []
    },
    {
      "cell_type": "code",
      "execution_count": null,
      "metadata": {
        "id": "WTTMiAGh1e7E"
      },
      "outputs": [],
      "source": []
    },
    {
      "cell_type": "code",
      "execution_count": null,
      "metadata": {
        "id": "she_DgkZ1e7E"
      },
      "outputs": [],
      "source": []
    },
    {
      "cell_type": "code",
      "execution_count": null,
      "metadata": {
        "id": "PcNMuI5n1e7E"
      },
      "outputs": [],
      "source": []
    },
    {
      "cell_type": "code",
      "execution_count": null,
      "metadata": {
        "id": "Do0NVSdN1e7E"
      },
      "outputs": [],
      "source": []
    },
    {
      "cell_type": "code",
      "execution_count": null,
      "metadata": {
        "id": "XujmeUUM1e7E"
      },
      "outputs": [],
      "source": []
    },
    {
      "cell_type": "code",
      "execution_count": null,
      "metadata": {
        "id": "ztJPUvA11e7E"
      },
      "outputs": [],
      "source": []
    },
    {
      "cell_type": "code",
      "execution_count": null,
      "metadata": {
        "id": "l1yAo9aL1e7E"
      },
      "outputs": [],
      "source": []
    },
    {
      "cell_type": "code",
      "execution_count": null,
      "metadata": {
        "id": "bfyknQtX1e7E"
      },
      "outputs": [],
      "source": []
    },
    {
      "cell_type": "code",
      "execution_count": null,
      "metadata": {
        "id": "HM7W9Wsp1e7E"
      },
      "outputs": [],
      "source": []
    },
    {
      "cell_type": "code",
      "execution_count": null,
      "metadata": {
        "id": "HlOAfvOc1e7F"
      },
      "outputs": [],
      "source": []
    },
    {
      "cell_type": "code",
      "execution_count": null,
      "metadata": {
        "id": "OTBBt_cF1e7F"
      },
      "outputs": [],
      "source": []
    },
    {
      "cell_type": "code",
      "execution_count": null,
      "metadata": {
        "id": "8l0U5PNz1e7F"
      },
      "outputs": [],
      "source": []
    },
    {
      "cell_type": "code",
      "execution_count": null,
      "metadata": {
        "id": "pZgNk_1r1e7F"
      },
      "outputs": [],
      "source": []
    },
    {
      "cell_type": "code",
      "execution_count": null,
      "metadata": {
        "id": "2_e8h5x-1e7F"
      },
      "outputs": [],
      "source": []
    },
    {
      "cell_type": "code",
      "execution_count": null,
      "metadata": {
        "id": "z4uNU7Bb1e7F"
      },
      "outputs": [],
      "source": []
    },
    {
      "cell_type": "code",
      "execution_count": null,
      "metadata": {
        "id": "ei5im8rG1e7F"
      },
      "outputs": [],
      "source": []
    },
    {
      "cell_type": "code",
      "execution_count": null,
      "metadata": {
        "id": "uruCoirV1e7F"
      },
      "outputs": [],
      "source": []
    },
    {
      "cell_type": "code",
      "execution_count": null,
      "metadata": {
        "id": "VkrIn8Di1e7F"
      },
      "outputs": [],
      "source": []
    },
    {
      "cell_type": "code",
      "execution_count": null,
      "metadata": {
        "id": "5Ak1m0q-1e7F"
      },
      "outputs": [],
      "source": []
    },
    {
      "cell_type": "code",
      "execution_count": null,
      "metadata": {
        "id": "w2qmPRGN1e7G"
      },
      "outputs": [],
      "source": []
    }
  ],
  "metadata": {
    "kernelspec": {
      "display_name": "Python 3",
      "language": "python",
      "name": "python3"
    },
    "language_info": {
      "codemirror_mode": {
        "name": "ipython",
        "version": 3
      },
      "file_extension": ".py",
      "mimetype": "text/x-python",
      "name": "python",
      "nbconvert_exporter": "python",
      "pygments_lexer": "ipython3",
      "version": "3.8.5"
    },
    "colab": {
      "provenance": [],
      "include_colab_link": true
    }
  },
  "nbformat": 4,
  "nbformat_minor": 0
}